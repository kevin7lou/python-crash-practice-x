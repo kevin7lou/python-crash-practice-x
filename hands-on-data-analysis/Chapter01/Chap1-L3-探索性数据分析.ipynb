{
 "cells": [
  {
   "cell_type": "markdown",
   "source": "**复习：**在前面我们已经学习了Pandas基础，知道利用Pandas读取csv数据的增删查改，今天我们要学习的就是**探索性数据分析**，主要介绍如何利用Pandas进行排序、算术计算以及计算描述函数describe()的使用。",
   "metadata": {
    "cell_id": "ac99b8eb-ea44-446e-b53b-bdbf3fd014b5",
    "deepnote_cell_type": "markdown",
    "deepnote_cell_height": 74.78125
   }
  },
  {
   "cell_type": "markdown",
   "source": "# 1 第一章：探索性数据分析",
   "metadata": {
    "cell_id": "00001-398d28e1-8369-4f78-be8d-348fa5b6c5a1",
    "deepnote_cell_type": "markdown",
    "deepnote_cell_height": 82
   }
  },
  {
   "cell_type": "markdown",
   "source": "#### 开始之前，导入numpy、pandas包和数据",
   "metadata": {
    "cell_id": "00002-3379fd90-e2bf-4192-811d-836b6077a346",
    "deepnote_cell_type": "markdown",
    "deepnote_cell_height": 54
   }
  },
  {
   "cell_type": "code",
   "metadata": {
    "cell_id": "00003-921a8e3c-ea48-4336-a1cd-d6e031641dc1",
    "deepnote_cell_type": "code",
    "deepnote_cell_height": 102
   },
   "source": "#加载所需的库\nimport numpy as np\nimport pandas as pd",
   "execution_count": null,
   "outputs": []
  },
  {
   "cell_type": "code",
   "metadata": {
    "scrolled": true,
    "cell_id": "00004-90d4bdcc-87f0-4d2a-9651-eb64be69eb38",
    "deepnote_cell_type": "code",
    "deepnote_cell_height": 310
   },
   "source": "#载入之前保存的train_chinese.csv数据，关于泰坦尼克号的任务，我们就使用这个数据\ntext = pd.read_csv('train_chinese.csv')\ntext.head()",
   "execution_count": null,
   "outputs": [
    {
     "data": {
      "text/html": "<div>\n<style scoped>\n    .dataframe tbody tr th:only-of-type {\n        vertical-align: middle;\n    }\n\n    .dataframe tbody tr th {\n        vertical-align: top;\n    }\n\n    .dataframe thead th {\n        text-align: right;\n    }\n</style>\n<table border=\"1\" class=\"dataframe\">\n  <thead>\n    <tr style=\"text-align: right;\">\n      <th></th>\n      <th>乘客ID</th>\n      <th>是否幸存</th>\n      <th>仓位等级</th>\n      <th>姓名</th>\n      <th>性别</th>\n      <th>年龄</th>\n      <th>兄弟姐妹个数</th>\n      <th>父母子女个数</th>\n      <th>船票信息</th>\n      <th>票价</th>\n      <th>客舱</th>\n      <th>登船港口</th>\n    </tr>\n  </thead>\n  <tbody>\n    <tr>\n      <th>0</th>\n      <td>1</td>\n      <td>0</td>\n      <td>3</td>\n      <td>Braund, Mr. Owen Harris</td>\n      <td>male</td>\n      <td>22.0</td>\n      <td>1</td>\n      <td>0</td>\n      <td>A/5 21171</td>\n      <td>7.2500</td>\n      <td>NaN</td>\n      <td>S</td>\n    </tr>\n    <tr>\n      <th>1</th>\n      <td>2</td>\n      <td>1</td>\n      <td>1</td>\n      <td>Cumings, Mrs. John Bradley (Florence Briggs Th...</td>\n      <td>female</td>\n      <td>38.0</td>\n      <td>1</td>\n      <td>0</td>\n      <td>PC 17599</td>\n      <td>71.2833</td>\n      <td>C85</td>\n      <td>C</td>\n    </tr>\n    <tr>\n      <th>2</th>\n      <td>3</td>\n      <td>1</td>\n      <td>3</td>\n      <td>Heikkinen, Miss. Laina</td>\n      <td>female</td>\n      <td>26.0</td>\n      <td>0</td>\n      <td>0</td>\n      <td>STON/O2. 3101282</td>\n      <td>7.9250</td>\n      <td>NaN</td>\n      <td>S</td>\n    </tr>\n    <tr>\n      <th>3</th>\n      <td>4</td>\n      <td>1</td>\n      <td>1</td>\n      <td>Futrelle, Mrs. Jacques Heath (Lily May Peel)</td>\n      <td>female</td>\n      <td>35.0</td>\n      <td>1</td>\n      <td>0</td>\n      <td>113803</td>\n      <td>53.1000</td>\n      <td>C123</td>\n      <td>S</td>\n    </tr>\n    <tr>\n      <th>4</th>\n      <td>5</td>\n      <td>0</td>\n      <td>3</td>\n      <td>Allen, Mr. William Henry</td>\n      <td>male</td>\n      <td>35.0</td>\n      <td>0</td>\n      <td>0</td>\n      <td>373450</td>\n      <td>8.0500</td>\n      <td>NaN</td>\n      <td>S</td>\n    </tr>\n  </tbody>\n</table>\n</div>",
      "text/plain": "   乘客ID  是否幸存  仓位等级                                                 姓名  \\\n0     1     0     3                            Braund, Mr. Owen Harris   \n1     2     1     1  Cumings, Mrs. John Bradley (Florence Briggs Th...   \n2     3     1     3                             Heikkinen, Miss. Laina   \n3     4     1     1       Futrelle, Mrs. Jacques Heath (Lily May Peel)   \n4     5     0     3                           Allen, Mr. William Henry   \n\n       性别    年龄  兄弟姐妹个数  父母子女个数              船票信息       票价    客舱 登船港口  \n0    male  22.0       1       0         A/5 21171   7.2500   NaN    S  \n1  female  38.0       1       0          PC 17599  71.2833   C85    C  \n2  female  26.0       0       0  STON/O2. 3101282   7.9250   NaN    S  \n3  female  35.0       1       0            113803  53.1000  C123    S  \n4    male  35.0       0       0            373450   8.0500   NaN    S  "
     },
     "execution_count": 2,
     "metadata": {},
     "output_type": "execute_result"
    }
   ]
  },
  {
   "cell_type": "markdown",
   "source": "### 1.6 了解你的数据吗？\n教材《Python for Data Analysis》第五章",
   "metadata": {
    "cell_id": "00005-872b99f1-2da8-48a7-aa68-ec96f358451e",
    "deepnote_cell_type": "markdown",
    "deepnote_cell_height": 100.390625
   }
  },
  {
   "cell_type": "markdown",
   "source": "#### 1.6.1 任务一：利用Pandas对示例数据进行排序，要求升序",
   "metadata": {
    "cell_id": "00006-3b65db32-ec36-4163-8311-da4e7512b6c2",
    "deepnote_cell_type": "markdown",
    "deepnote_cell_height": 54
   }
  },
  {
   "cell_type": "code",
   "metadata": {
    "cell_id": "00007-91aa6c13-7748-42d1-ab25-7e102eca9443",
    "deepnote_cell_type": "code",
    "deepnote_cell_height": 313
   },
   "source": "# 具体请看《利用Python进行数据分析》第五章 排序和排名 部分\n\n#自己构建一个都为数字的DataFrame数据\nframe = pd.DataFrame(np.arange(8).reshape((2, 4)), \n                     index=['2', '1'], \n                     columns=['d', 'a', 'b', 'c'])\nframe\n",
   "execution_count": null,
   "outputs": [
    {
     "data": {
      "text/html": "<div>\n<style scoped>\n    .dataframe tbody tr th:only-of-type {\n        vertical-align: middle;\n    }\n\n    .dataframe tbody tr th {\n        vertical-align: top;\n    }\n\n    .dataframe thead th {\n        text-align: right;\n    }\n</style>\n<table border=\"1\" class=\"dataframe\">\n  <thead>\n    <tr style=\"text-align: right;\">\n      <th></th>\n      <th>d</th>\n      <th>a</th>\n      <th>b</th>\n      <th>c</th>\n    </tr>\n  </thead>\n  <tbody>\n    <tr>\n      <th>2</th>\n      <td>0</td>\n      <td>1</td>\n      <td>2</td>\n      <td>3</td>\n    </tr>\n    <tr>\n      <th>1</th>\n      <td>4</td>\n      <td>5</td>\n      <td>6</td>\n      <td>7</td>\n    </tr>\n  </tbody>\n</table>\n</div>",
      "text/plain": "   d  a  b  c\n2  0  1  2  3\n1  4  5  6  7"
     },
     "execution_count": 3,
     "metadata": {},
     "output_type": "execute_result"
    }
   ]
  },
  {
   "cell_type": "markdown",
   "source": "【代码解析】\n\npd.DataFrame() ：创建一个DataFrame对象 \n\nnp.arange(8).reshape((2, 4)) : 生成一个二维数组（2*4）,第一列：0，1，2，3 第二列：4，5，6，7\n\nindex=['2, 1] ：DataFrame 对象的索引列\n\ncolumns=['d', 'a', 'b', 'c'] ：DataFrame 对象的索引行\n",
   "metadata": {
    "cell_id": "00008-38a36d6d-aba2-4c40-8505-5748d8412412",
    "deepnote_cell_type": "markdown",
    "deepnote_cell_height": 197.953125
   }
  },
  {
   "cell_type": "code",
   "metadata": {
    "cell_id": "00009-df2f0c73-84fe-42f9-88cd-1e33b5f029a3",
    "deepnote_cell_type": "code",
    "deepnote_cell_height": 205,
    "deepnote_output_heights": [
     90
    ]
   },
   "source": "# 大多数时候我们都是想根据列的值来排序,所以，将你构建的DataFrame中的数据根据某一列，升序排列\nframe.sort_values(by='c', ascending=True)",
   "execution_count": null,
   "outputs": [
    {
     "data": {
      "text/html": "<div>\n<style scoped>\n    .dataframe tbody tr th:only-of-type {\n        vertical-align: middle;\n    }\n\n    .dataframe tbody tr th {\n        vertical-align: top;\n    }\n\n    .dataframe thead th {\n        text-align: right;\n    }\n</style>\n<table border=\"1\" class=\"dataframe\">\n  <thead>\n    <tr style=\"text-align: right;\">\n      <th></th>\n      <th>d</th>\n      <th>a</th>\n      <th>b</th>\n      <th>c</th>\n    </tr>\n  </thead>\n  <tbody>\n    <tr>\n      <th>2</th>\n      <td>0</td>\n      <td>1</td>\n      <td>2</td>\n      <td>3</td>\n    </tr>\n    <tr>\n      <th>1</th>\n      <td>4</td>\n      <td>5</td>\n      <td>6</td>\n      <td>7</td>\n    </tr>\n  </tbody>\n</table>\n</div>",
      "text/plain": "   d  a  b  c\n2  0  1  2  3\n1  4  5  6  7"
     },
     "execution_count": 4,
     "metadata": {},
     "output_type": "execute_result"
    }
   ]
  },
  {
   "cell_type": "markdown",
   "source": "可以看到sort_values这个函数中by参数指向要排列的列，ascending参数指向排序的方式（升序还是降序）",
   "metadata": {
    "cell_id": "00010-ee5332f3-3805-4a15-98f3-1979628984df",
    "deepnote_cell_type": "markdown",
    "deepnote_cell_height": 52.390625
   }
  },
  {
   "cell_type": "markdown",
   "source": "【总结】下面将不同的排序方式做一个小总结",
   "metadata": {
    "cell_id": "00011-4eac464c-2519-47db-b06d-ade8b81332ba",
    "deepnote_cell_type": "markdown",
    "deepnote_cell_height": 52.390625
   }
  },
  {
   "cell_type": "code",
   "metadata": {
    "cell_id": "00012-e2fb3853-df85-4dc5-af6a-b56f17fd0e40",
    "deepnote_cell_type": "code",
    "deepnote_cell_height": 205,
    "deepnote_output_heights": [
     90
    ]
   },
   "source": "# 让行索引升序排序\nframe.sort_index()",
   "execution_count": null,
   "outputs": [
    {
     "data": {
      "text/html": "<div>\n<style scoped>\n    .dataframe tbody tr th:only-of-type {\n        vertical-align: middle;\n    }\n\n    .dataframe tbody tr th {\n        vertical-align: top;\n    }\n\n    .dataframe thead th {\n        text-align: right;\n    }\n</style>\n<table border=\"1\" class=\"dataframe\">\n  <thead>\n    <tr style=\"text-align: right;\">\n      <th></th>\n      <th>d</th>\n      <th>a</th>\n      <th>b</th>\n      <th>c</th>\n    </tr>\n  </thead>\n  <tbody>\n    <tr>\n      <th>1</th>\n      <td>4</td>\n      <td>5</td>\n      <td>6</td>\n      <td>7</td>\n    </tr>\n    <tr>\n      <th>2</th>\n      <td>0</td>\n      <td>1</td>\n      <td>2</td>\n      <td>3</td>\n    </tr>\n  </tbody>\n</table>\n</div>",
      "text/plain": "   d  a  b  c\n1  4  5  6  7\n2  0  1  2  3"
     },
     "execution_count": 5,
     "metadata": {},
     "output_type": "execute_result"
    }
   ]
  },
  {
   "cell_type": "code",
   "metadata": {
    "cell_id": "00013-32abe691-cbf9-4715-b44b-590b91e5cb29",
    "deepnote_cell_type": "code",
    "deepnote_cell_height": 205,
    "deepnote_output_heights": [
     90
    ]
   },
   "source": "# 让列索引升序排序\nframe.sort_index(axis=1)",
   "execution_count": null,
   "outputs": [
    {
     "data": {
      "text/html": "<div>\n<style scoped>\n    .dataframe tbody tr th:only-of-type {\n        vertical-align: middle;\n    }\n\n    .dataframe tbody tr th {\n        vertical-align: top;\n    }\n\n    .dataframe thead th {\n        text-align: right;\n    }\n</style>\n<table border=\"1\" class=\"dataframe\">\n  <thead>\n    <tr style=\"text-align: right;\">\n      <th></th>\n      <th>a</th>\n      <th>b</th>\n      <th>c</th>\n      <th>d</th>\n    </tr>\n  </thead>\n  <tbody>\n    <tr>\n      <th>2</th>\n      <td>1</td>\n      <td>2</td>\n      <td>3</td>\n      <td>0</td>\n    </tr>\n    <tr>\n      <th>1</th>\n      <td>5</td>\n      <td>6</td>\n      <td>7</td>\n      <td>4</td>\n    </tr>\n  </tbody>\n</table>\n</div>",
      "text/plain": "   a  b  c  d\n2  1  2  3  0\n1  5  6  7  4"
     },
     "execution_count": 6,
     "metadata": {},
     "output_type": "execute_result"
    }
   ]
  },
  {
   "cell_type": "code",
   "metadata": {
    "cell_id": "00014-d5779af3-e060-44b6-865a-bfad9d9a293f",
    "deepnote_cell_type": "code",
    "deepnote_cell_height": 205,
    "deepnote_output_heights": [
     90
    ]
   },
   "source": "# 让列索引降序排序\nframe.sort_index(axis=1, ascending=False)",
   "execution_count": null,
   "outputs": [
    {
     "data": {
      "text/html": "<div>\n<style scoped>\n    .dataframe tbody tr th:only-of-type {\n        vertical-align: middle;\n    }\n\n    .dataframe tbody tr th {\n        vertical-align: top;\n    }\n\n    .dataframe thead th {\n        text-align: right;\n    }\n</style>\n<table border=\"1\" class=\"dataframe\">\n  <thead>\n    <tr style=\"text-align: right;\">\n      <th></th>\n      <th>d</th>\n      <th>c</th>\n      <th>b</th>\n      <th>a</th>\n    </tr>\n  </thead>\n  <tbody>\n    <tr>\n      <th>2</th>\n      <td>0</td>\n      <td>3</td>\n      <td>2</td>\n      <td>1</td>\n    </tr>\n    <tr>\n      <th>1</th>\n      <td>4</td>\n      <td>7</td>\n      <td>6</td>\n      <td>5</td>\n    </tr>\n  </tbody>\n</table>\n</div>",
      "text/plain": "   d  c  b  a\n2  0  3  2  1\n1  4  7  6  5"
     },
     "execution_count": 7,
     "metadata": {},
     "output_type": "execute_result"
    }
   ]
  },
  {
   "cell_type": "code",
   "metadata": {
    "cell_id": "00015-3714d173-1d60-49ce-87bb-cd9440ff4415",
    "deepnote_cell_type": "code",
    "deepnote_cell_height": 205,
    "deepnote_output_heights": [
     90
    ]
   },
   "source": "# 让任选两列数据同时降序排序\nframe.sort_values(by=['a', 'c'], ascending=False)",
   "execution_count": null,
   "outputs": [
    {
     "data": {
      "text/html": "<div>\n<style scoped>\n    .dataframe tbody tr th:only-of-type {\n        vertical-align: middle;\n    }\n\n    .dataframe tbody tr th {\n        vertical-align: top;\n    }\n\n    .dataframe thead th {\n        text-align: right;\n    }\n</style>\n<table border=\"1\" class=\"dataframe\">\n  <thead>\n    <tr style=\"text-align: right;\">\n      <th></th>\n      <th>d</th>\n      <th>a</th>\n      <th>b</th>\n      <th>c</th>\n    </tr>\n  </thead>\n  <tbody>\n    <tr>\n      <th>1</th>\n      <td>4</td>\n      <td>5</td>\n      <td>6</td>\n      <td>7</td>\n    </tr>\n    <tr>\n      <th>2</th>\n      <td>0</td>\n      <td>1</td>\n      <td>2</td>\n      <td>3</td>\n    </tr>\n  </tbody>\n</table>\n</div>",
      "text/plain": "   d  a  b  c\n1  4  5  6  7\n2  0  1  2  3"
     },
     "execution_count": 9,
     "metadata": {},
     "output_type": "execute_result"
    }
   ]
  },
  {
   "cell_type": "markdown",
   "source": "#### 1.6.2 任务二：对泰坦尼克号数据（trian.csv）按票价和年龄两列进行综合排序（降序排列），从数据中你能发现什么",
   "metadata": {
    "cell_id": "00016-a3370d2d-552c-4dad-81a1-5434c9727f25",
    "deepnote_cell_type": "markdown",
    "deepnote_cell_height": 78
   }
  },
  {
   "cell_type": "code",
   "metadata": {
    "scrolled": true,
    "cell_id": "00017-00fcc912-7352-4d5f-a8b1-1c4998c70d5f",
    "deepnote_cell_type": "code",
    "deepnote_cell_height": 306,
    "deepnote_output_heights": [
     119
    ]
   },
   "source": "'''\n在开始我们已经导入了train_chinese.csv数据，而且前面我们也学习了导入数据过程，根据上面学习，我们直接对目标列进行排序即可\nhead(20) : 读取前20条数据\n'''\n\ntext.sort_values(by=['票价', '年龄'], ascending=False).head(3)",
   "execution_count": null,
   "outputs": [
    {
     "data": {
      "text/html": "<div>\n<style scoped>\n    .dataframe tbody tr th:only-of-type {\n        vertical-align: middle;\n    }\n\n    .dataframe tbody tr th {\n        vertical-align: top;\n    }\n\n    .dataframe thead th {\n        text-align: right;\n    }\n</style>\n<table border=\"1\" class=\"dataframe\">\n  <thead>\n    <tr style=\"text-align: right;\">\n      <th></th>\n      <th>乘客ID</th>\n      <th>是否幸存</th>\n      <th>仓位等级</th>\n      <th>姓名</th>\n      <th>性别</th>\n      <th>年龄</th>\n      <th>兄弟姐妹个数</th>\n      <th>父母子女个数</th>\n      <th>船票信息</th>\n      <th>票价</th>\n      <th>客舱</th>\n      <th>登船港口</th>\n    </tr>\n  </thead>\n  <tbody>\n    <tr>\n      <th>679</th>\n      <td>680</td>\n      <td>1</td>\n      <td>1</td>\n      <td>Cardeza, Mr. Thomas Drake Martinez</td>\n      <td>male</td>\n      <td>36.0</td>\n      <td>0</td>\n      <td>1</td>\n      <td>PC 17755</td>\n      <td>512.3292</td>\n      <td>B51 B53 B55</td>\n      <td>C</td>\n    </tr>\n    <tr>\n      <th>258</th>\n      <td>259</td>\n      <td>1</td>\n      <td>1</td>\n      <td>Ward, Miss. Anna</td>\n      <td>female</td>\n      <td>35.0</td>\n      <td>0</td>\n      <td>0</td>\n      <td>PC 17755</td>\n      <td>512.3292</td>\n      <td>NaN</td>\n      <td>C</td>\n    </tr>\n    <tr>\n      <th>737</th>\n      <td>738</td>\n      <td>1</td>\n      <td>1</td>\n      <td>Lesurer, Mr. Gustave J</td>\n      <td>male</td>\n      <td>35.0</td>\n      <td>0</td>\n      <td>0</td>\n      <td>PC 17755</td>\n      <td>512.3292</td>\n      <td>B101</td>\n      <td>C</td>\n    </tr>\n  </tbody>\n</table>\n</div>",
      "text/plain": "     乘客ID  是否幸存  仓位等级                                  姓名      性别    年龄  \\\n679   680     1     1  Cardeza, Mr. Thomas Drake Martinez    male  36.0   \n258   259     1     1                    Ward, Miss. Anna  female  35.0   \n737   738     1     1              Lesurer, Mr. Gustave J    male  35.0   \n\n     兄弟姐妹个数  父母子女个数      船票信息        票价           客舱 登船港口  \n679       0       1  PC 17755  512.3292  B51 B53 B55    C  \n258       0       0  PC 17755  512.3292          NaN    C  \n737       0       0  PC 17755  512.3292         B101    C  "
     },
     "execution_count": 21,
     "metadata": {},
     "output_type": "execute_result"
    }
   ]
  },
  {
   "cell_type": "markdown",
   "source": "【思考】排序后，如果我们仅仅关注年龄和票价两列。根据常识我知道发现票价越高的应该客舱越好，所以我们会明显看出，票价前20的乘客中存活的有14人，这是相当高的一个比例，那么我们后面是不是可以进一步分析一下票价和存活之间的关系，年龄和存活之间的关系呢？当你开始发现数据之间的关系了，数据分析就开始了。\n\n当然，这只是我的想法，你还可以有更多想法，欢迎写在你的学习笔记中。",
   "metadata": {
    "cell_id": "00018-63ae439b-f392-41c1-992f-c12aab933f5d",
    "deepnote_cell_type": "markdown",
    "deepnote_cell_height": 133.5625
   }
  },
  {
   "cell_type": "markdown",
   "source": "#### 1.6.3 任务三：利用Pandas进行算术计算，计算两个DataFrame数据相加结果",
   "metadata": {
    "cell_id": "00019-d3ffaa39-582e-4894-af54-fab39e22c794",
    "deepnote_cell_type": "markdown",
    "deepnote_cell_height": 54
   }
  },
  {
   "cell_type": "code",
   "metadata": {
    "cell_id": "00020-e6d8358d-e23e-405b-a99f-1bfdbd04e02b",
    "deepnote_cell_type": "code",
    "deepnote_cell_height": 378,
    "deepnote_output_heights": [
     119
    ]
   },
   "source": "# 具体请看《利用Python进行数据分析》第五章 算术运算与数据对齐 部分\n\n#建立一个例子\nframe1_a = pd.DataFrame(np.arange(9.).reshape(3, 3),\n                     columns=['a', 'b', 'c'],\n                     index=['one', 'two', 'three'])\nframe1_b = pd.DataFrame(np.arange(12.).reshape(4, 3),\n                     columns=['a', 'e', 'c'],\n                     index=['first', 'one', 'two', 'second'])\nframe1_a",
   "execution_count": null,
   "outputs": [
    {
     "data": {
      "text/html": "<div>\n<style scoped>\n    .dataframe tbody tr th:only-of-type {\n        vertical-align: middle;\n    }\n\n    .dataframe tbody tr th {\n        vertical-align: top;\n    }\n\n    .dataframe thead th {\n        text-align: right;\n    }\n</style>\n<table border=\"1\" class=\"dataframe\">\n  <thead>\n    <tr style=\"text-align: right;\">\n      <th></th>\n      <th>a</th>\n      <th>b</th>\n      <th>c</th>\n    </tr>\n  </thead>\n  <tbody>\n    <tr>\n      <th>one</th>\n      <td>0.0</td>\n      <td>1.0</td>\n      <td>2.0</td>\n    </tr>\n    <tr>\n      <th>two</th>\n      <td>3.0</td>\n      <td>4.0</td>\n      <td>5.0</td>\n    </tr>\n    <tr>\n      <th>three</th>\n      <td>6.0</td>\n      <td>7.0</td>\n      <td>8.0</td>\n    </tr>\n  </tbody>\n</table>\n</div>",
      "text/plain": "         a    b    c\none    0.0  1.0  2.0\ntwo    3.0  4.0  5.0\nthree  6.0  7.0  8.0"
     },
     "execution_count": 12,
     "metadata": {},
     "output_type": "execute_result"
    }
   ]
  },
  {
   "cell_type": "code",
   "metadata": {
    "cell_id": "00021-cd127d8a-41e8-4314-bf9b-3197059f182a",
    "deepnote_cell_type": "code",
    "deepnote_cell_height": 245,
    "deepnote_output_heights": [
     148
    ]
   },
   "source": "frame1_b",
   "execution_count": null,
   "outputs": [
    {
     "data": {
      "text/html": "<div>\n<style scoped>\n    .dataframe tbody tr th:only-of-type {\n        vertical-align: middle;\n    }\n\n    .dataframe tbody tr th {\n        vertical-align: top;\n    }\n\n    .dataframe thead th {\n        text-align: right;\n    }\n</style>\n<table border=\"1\" class=\"dataframe\">\n  <thead>\n    <tr style=\"text-align: right;\">\n      <th></th>\n      <th>a</th>\n      <th>e</th>\n      <th>c</th>\n    </tr>\n  </thead>\n  <tbody>\n    <tr>\n      <th>first</th>\n      <td>0.0</td>\n      <td>1.0</td>\n      <td>2.0</td>\n    </tr>\n    <tr>\n      <th>one</th>\n      <td>3.0</td>\n      <td>4.0</td>\n      <td>5.0</td>\n    </tr>\n    <tr>\n      <th>two</th>\n      <td>6.0</td>\n      <td>7.0</td>\n      <td>8.0</td>\n    </tr>\n    <tr>\n      <th>second</th>\n      <td>9.0</td>\n      <td>10.0</td>\n      <td>11.0</td>\n    </tr>\n  </tbody>\n</table>\n</div>",
      "text/plain": "          a     e     c\nfirst   0.0   1.0   2.0\none     3.0   4.0   5.0\ntwo     6.0   7.0   8.0\nsecond  9.0  10.0  11.0"
     },
     "execution_count": 13,
     "metadata": {},
     "output_type": "execute_result"
    }
   ]
  },
  {
   "cell_type": "code",
   "metadata": {
    "cell_id": "00022-c7571c1f-b7b7-4eef-9e39-a21754ec0ffe",
    "deepnote_cell_type": "code",
    "deepnote_cell_height": 292,
    "deepnote_output_heights": [
     177
    ]
   },
   "source": "#将frame_a和frame_b进行相加\nframe1_a + frame1_b",
   "execution_count": null,
   "outputs": [
    {
     "data": {
      "text/html": "<div>\n<style scoped>\n    .dataframe tbody tr th:only-of-type {\n        vertical-align: middle;\n    }\n\n    .dataframe tbody tr th {\n        vertical-align: top;\n    }\n\n    .dataframe thead th {\n        text-align: right;\n    }\n</style>\n<table border=\"1\" class=\"dataframe\">\n  <thead>\n    <tr style=\"text-align: right;\">\n      <th></th>\n      <th>a</th>\n      <th>b</th>\n      <th>c</th>\n      <th>e</th>\n    </tr>\n  </thead>\n  <tbody>\n    <tr>\n      <th>first</th>\n      <td>NaN</td>\n      <td>NaN</td>\n      <td>NaN</td>\n      <td>NaN</td>\n    </tr>\n    <tr>\n      <th>one</th>\n      <td>3.0</td>\n      <td>NaN</td>\n      <td>7.0</td>\n      <td>NaN</td>\n    </tr>\n    <tr>\n      <th>second</th>\n      <td>NaN</td>\n      <td>NaN</td>\n      <td>NaN</td>\n      <td>NaN</td>\n    </tr>\n    <tr>\n      <th>three</th>\n      <td>NaN</td>\n      <td>NaN</td>\n      <td>NaN</td>\n      <td>NaN</td>\n    </tr>\n    <tr>\n      <th>two</th>\n      <td>9.0</td>\n      <td>NaN</td>\n      <td>13.0</td>\n      <td>NaN</td>\n    </tr>\n  </tbody>\n</table>\n</div>",
      "text/plain": "          a   b     c   e\nfirst   NaN NaN   NaN NaN\none     3.0 NaN   7.0 NaN\nsecond  NaN NaN   NaN NaN\nthree   NaN NaN   NaN NaN\ntwo     9.0 NaN  13.0 NaN"
     },
     "execution_count": 14,
     "metadata": {},
     "output_type": "execute_result"
    }
   ]
  },
  {
   "cell_type": "markdown",
   "source": "【提醒】两个DataFrame相加后，会返回一个新的DataFrame，对应的行和列的值会相加，没有对应的会变成空值NaN。<br>\n当然，DataFrame还有很多算术运算，如减法，除法等，有兴趣的同学可以看《利用Python进行数据分析》第五章 算术运算与数据对齐 部分，多在网络上查找相关学习资料。",
   "metadata": {
    "cell_id": "00023-bc1edf25-e9af-4b12-9f0c-f1a52ed92ef5",
    "deepnote_cell_type": "markdown",
    "deepnote_cell_height": 97.171875
   }
  },
  {
   "cell_type": "markdown",
   "source": "#### 1.6.4 任务四：通过泰坦尼克号数据如何计算出在船上最大的家族有多少人？",
   "metadata": {
    "cell_id": "00024-705a8b44-8d22-4818-8585-7fc6de648388",
    "deepnote_cell_type": "markdown",
    "deepnote_cell_height": 54
   }
  },
  {
   "cell_type": "code",
   "metadata": {
    "cell_id": "00025-05ea9ed1-cbd7-47fe-bd64-8382d61f3ac0",
    "deepnote_cell_type": "code",
    "deepnote_cell_height": 172.1875,
    "deepnote_output_heights": [
     21.1875
    ]
   },
   "source": "'''\n还是用之前导入的chinese_train.csv如果我们想看看在船上，最大的家族有多少人（‘兄弟姐妹个数’+‘父母子女个数’），我们该怎么做呢？\n'''\nmax(text['兄弟姐妹个数'] + text['父母子女个数'])",
   "execution_count": null,
   "outputs": [
    {
     "data": {
      "text/plain": "10"
     },
     "execution_count": 15,
     "metadata": {},
     "output_type": "execute_result"
    }
   ]
  },
  {
   "cell_type": "markdown",
   "source": "是的，如上，很简单，我们只需找出兄弟姐妹个数和父母子女个数之和最大的数就行，先让这两列相加返回一个DataFrame，然后用max函数求出最大值，当然你还可以想出很多方法和思考角度，欢迎你来说出你的看法。",
   "metadata": {
    "cell_id": "00026-f3140b28-e56b-417f-8c21-55dd77031984",
    "deepnote_cell_type": "markdown",
    "deepnote_cell_height": 74.78125
   }
  },
  {
   "cell_type": "markdown",
   "source": "#### 1.6.5 任务五：学会使用Pandas describe()函数查看数据基本统计信息",
   "metadata": {
    "cell_id": "00027-5dfbc4d7-5c3f-47f4-a1ac-3a5251ad07d7",
    "deepnote_cell_type": "markdown",
    "deepnote_cell_height": 54
   }
  },
  {
   "cell_type": "code",
   "metadata": {
    "cell_id": "00028-39cb0f0c-d449-4f59-9897-922c5932cb88",
    "deepnote_cell_type": "code",
    "deepnote_cell_height": 407,
    "deepnote_output_heights": [
     148
    ]
   },
   "source": "#(1) 关键知识点示例做一遍（简单数据）\n# 具体请看《利用Python进行数据分析》第五章 汇总和计算描述统计 部分\n\n#建立一个例子\nframe2 = pd.DataFrame([[1.4, np.nan], \n                       [7.1, -4.5],\n                       [np.nan, np.nan], \n                       [0.75, -1.3]\n                      ], index=['a', 'b', 'c', 'd'], columns=['one', 'two'])\nframe2",
   "execution_count": null,
   "outputs": [
    {
     "data": {
      "text/html": "<div>\n<style scoped>\n    .dataframe tbody tr th:only-of-type {\n        vertical-align: middle;\n    }\n\n    .dataframe tbody tr th {\n        vertical-align: top;\n    }\n\n    .dataframe thead th {\n        text-align: right;\n    }\n</style>\n<table border=\"1\" class=\"dataframe\">\n  <thead>\n    <tr style=\"text-align: right;\">\n      <th></th>\n      <th>one</th>\n      <th>two</th>\n    </tr>\n  </thead>\n  <tbody>\n    <tr>\n      <th>a</th>\n      <td>1.40</td>\n      <td>NaN</td>\n    </tr>\n    <tr>\n      <th>b</th>\n      <td>7.10</td>\n      <td>-4.5</td>\n    </tr>\n    <tr>\n      <th>c</th>\n      <td>NaN</td>\n      <td>NaN</td>\n    </tr>\n    <tr>\n      <th>d</th>\n      <td>0.75</td>\n      <td>-1.3</td>\n    </tr>\n  </tbody>\n</table>\n</div>",
      "text/plain": "    one  two\na  1.40  NaN\nb  7.10 -4.5\nc   NaN  NaN\nd  0.75 -1.3"
     },
     "execution_count": 16,
     "metadata": {},
     "output_type": "execute_result"
    }
   ]
  },
  {
   "cell_type": "code",
   "metadata": {
    "cell_id": "00029-5e314276-f1eb-49d5-b3bf-ebb25351daa1",
    "deepnote_cell_type": "code",
    "deepnote_cell_height": 595
   },
   "source": "# 调用 describe 函数，观察frame2的数据基本信息\n\nframe2.describe()\n\n'''\ncount : 样本数据大小\nmean : 样本数据的平均值\nstd : 样本数据的标准差\nmin : 样本数据的最小值\n25% : 样本数据25%的时候的值\n50% : 样本数据50%的时候的值\n75% : 样本数据75%的时候的值\nmax : 样本数据的最大值\n'''",
   "execution_count": null,
   "outputs": [
    {
     "data": {
      "text/html": "<div>\n<style scoped>\n    .dataframe tbody tr th:only-of-type {\n        vertical-align: middle;\n    }\n\n    .dataframe tbody tr th {\n        vertical-align: top;\n    }\n\n    .dataframe thead th {\n        text-align: right;\n    }\n</style>\n<table border=\"1\" class=\"dataframe\">\n  <thead>\n    <tr style=\"text-align: right;\">\n      <th></th>\n      <th>one</th>\n      <th>two</th>\n    </tr>\n  </thead>\n  <tbody>\n    <tr>\n      <th>count</th>\n      <td>3.000000</td>\n      <td>2.000000</td>\n    </tr>\n    <tr>\n      <th>mean</th>\n      <td>3.083333</td>\n      <td>-2.900000</td>\n    </tr>\n    <tr>\n      <th>std</th>\n      <td>3.493685</td>\n      <td>2.262742</td>\n    </tr>\n    <tr>\n      <th>min</th>\n      <td>0.750000</td>\n      <td>-4.500000</td>\n    </tr>\n    <tr>\n      <th>25%</th>\n      <td>1.075000</td>\n      <td>-3.700000</td>\n    </tr>\n    <tr>\n      <th>50%</th>\n      <td>1.400000</td>\n      <td>-2.900000</td>\n    </tr>\n    <tr>\n      <th>75%</th>\n      <td>4.250000</td>\n      <td>-2.100000</td>\n    </tr>\n    <tr>\n      <th>max</th>\n      <td>7.100000</td>\n      <td>-1.300000</td>\n    </tr>\n  </tbody>\n</table>\n</div>",
      "text/plain": "            one       two\ncount  3.000000  2.000000\nmean   3.083333 -2.900000\nstd    3.493685  2.262742\nmin    0.750000 -4.500000\n25%    1.075000 -3.700000\n50%    1.400000 -2.900000\n75%    4.250000 -2.100000\nmax    7.100000 -1.300000"
     },
     "execution_count": 18,
     "metadata": {},
     "output_type": "execute_result"
    }
   ]
  },
  {
   "cell_type": "markdown",
   "source": "#### 1.6.6 任务六：分别看看泰坦尼克号数据集中 票价、父母子女 这列数据的基本统计数据，你能发现什么？",
   "metadata": {
    "cell_id": "00030-67e63667-e36d-429d-9091-f7c31b73c718",
    "deepnote_cell_type": "markdown",
    "deepnote_cell_height": 54
   }
  },
  {
   "cell_type": "code",
   "metadata": {
    "cell_id": "00031-53d33e81-aa47-4b4b-aa81-18305e8100d6",
    "deepnote_cell_type": "code",
    "deepnote_cell_height": 325.6875
   },
   "source": "'''\n看看泰坦尼克号数据集中 票价 这列数据的基本统计数据\n'''\ntext['票价'].describe()",
   "execution_count": null,
   "outputs": [
    {
     "data": {
      "text/plain": "count    891.000000\nmean      32.204208\nstd       49.693429\nmin        0.000000\n25%        7.910400\n50%       14.454200\n75%       31.000000\nmax      512.329200\nName: 票价, dtype: float64"
     },
     "execution_count": 20,
     "metadata": {},
     "output_type": "execute_result"
    }
   ]
  },
  {
   "cell_type": "markdown",
   "source": "【思考】从上面数据我们可以看出，\n一共有891个票价数据，\n平均值约为：32.20，\n标准差约为49.69，说明票价波动特别大，\n25%的人的票价是低于7.91的，50%的人的票价低于14.45，75%的人的票价低于31.00，\n票价最大值约为512.33，最小值为0。\n<br>当然，这只是我的想法，你还可以有更多想法，欢迎写在你的学习笔记中。",
   "metadata": {
    "cell_id": "00032-75f97ec8-0a12-482f-b3ae-ec80e88fcb0e",
    "deepnote_cell_type": "markdown",
    "deepnote_cell_height": 97.171875
   }
  },
  {
   "cell_type": "code",
   "metadata": {
    "cell_id": "00033-b43116b2-81a6-498c-adff-f66da9dc57df",
    "deepnote_cell_type": "code",
    "deepnote_cell_height": 325.6875
   },
   "source": "'''\n通过上面的例子，我们再看看泰坦尼克号数据集中 父母子女个数 这列数据的基本统计数据，然后可以说出你的想法\n'''\ntext['父母子女个数'].describe()",
   "execution_count": null,
   "outputs": [
    {
     "data": {
      "text/plain": "count    891.000000\nmean       0.381594\nstd        0.806057\nmin        0.000000\n25%        0.000000\n50%        0.000000\n75%        0.000000\nmax        6.000000\nName: 父母子女个数, dtype: float64"
     },
     "execution_count": 21,
     "metadata": {},
     "output_type": "execute_result"
    }
   ]
  },
  {
   "cell_type": "markdown",
   "source": "【思考】有更多想法，欢迎写在你的学习笔记中。",
   "metadata": {
    "cell_id": "00034-d1823582-5653-4b9a-a465-7b2f5d3331a0",
    "deepnote_cell_type": "markdown",
    "deepnote_cell_height": 52.390625
   }
  },
  {
   "cell_type": "markdown",
   "source": "【总结】本节中我们通过Pandas的一些内置函数对数据进行了初步统计查看，这个过程最重要的不是大家得掌握这些函数，而是看懂从这些函数出来的数据，构建自己的数据分析思维，这也是第一章最重要的点，希望大家学完第一章能对数据有个基本认识，了解自己在做什么，为什么这么做，后面的章节我们将开始对数据进行清洗，进一步分析。",
   "metadata": {
    "cell_id": "00035-7e3fc469-cf2e-4a44-a104-a1cf94e21cc9",
    "deepnote_cell_type": "markdown",
    "deepnote_cell_height": 97.171875
   }
  },
  {
   "cell_type": "markdown",
   "source": "<a style='text-decoration:none;line-height:16px;display:flex;color:#5B5B62;padding:10px;justify-content:end;' href='https://deepnote.com?utm_source=created-in-deepnote-cell&projectId=baac8304-fdea-41da-a182-a605c2edce87' target=\"_blank\">\n<img alt='Created in deepnote.com' style='display:inline;max-height:16px;margin:0px;margin-right:7.5px;' src='data:image/svg+xml;base64,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' > </img>\nCreated in <span style='font-weight:600;margin-left:4px;'>Deepnote</span></a>",
   "metadata": {
    "tags": [],
    "created_in_deepnote_cell": true,
    "deepnote_cell_type": "markdown"
   }
  }
 ],
 "nbformat": 4,
 "nbformat_minor": 4,
 "metadata": {
  "kernelspec": {
   "display_name": "Python 3",
   "language": "python",
   "name": "python3"
  },
  "language_info": {
   "codemirror_mode": {
    "name": "ipython",
    "version": 3
   },
   "file_extension": ".py",
   "mimetype": "text/x-python",
   "name": "python",
   "nbconvert_exporter": "python",
   "pygments_lexer": "ipython3",
   "version": "3.7.12"
  },
  "toc": {
   "base_numbering": 1,
   "nav_menu": {},
   "number_sections": false,
   "sideBar": true,
   "skip_h1_title": false,
   "title_cell": "Table of Contents",
   "title_sidebar": "Contents",
   "toc_cell": false,
   "toc_position": {
    "height": "calc(100% - 180px)",
    "left": "10px",
    "top": "150px",
    "width": "433px"
   },
   "toc_section_display": true,
   "toc_window_display": true
  },
  "deepnote_notebook_id": "b644f466-71e0-49c0-b37d-8b551c46d126",
  "deepnote": {},
  "deepnote_execution_queue": []
 }
}