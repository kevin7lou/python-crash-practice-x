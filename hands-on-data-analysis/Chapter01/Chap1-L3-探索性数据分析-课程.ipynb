{
 "cells": [
  {
   "cell_type": "markdown",
   "source": "**复习：**在前面我们已经学习了Pandas基础，知道利用Pandas读取csv数据的增删查改，今天我们要学习的就是**探索性数据分析**，主要介绍如何利用Pandas进行排序、算术计算以及计算描述函数describe()的使用。",
   "metadata": {
    "cell_id": "45a16e03-1ffb-44fd-bef3-8446ec908eed",
    "deepnote_cell_type": "markdown",
    "deepnote_cell_height": 74.78125
   }
  },
  {
   "cell_type": "markdown",
   "source": "# 1 第一章：探索性数据分析",
   "metadata": {
    "cell_id": "00001-0f10c802-3c47-4853-91af-7144fa86c173",
    "deepnote_cell_type": "markdown",
    "deepnote_cell_height": 82
   }
  },
  {
   "cell_type": "markdown",
   "source": "#### 开始之前，导入numpy、pandas包和数据",
   "metadata": {
    "cell_id": "00002-53cf1606-6e6e-4ca6-810c-c9819f5bca6c",
    "deepnote_cell_type": "markdown",
    "deepnote_cell_height": 54
   }
  },
  {
   "cell_type": "code",
   "metadata": {
    "cell_id": "00003-4028e0d4-a83d-4821-a4de-20406aeca0b2",
    "deepnote_to_be_reexecuted": false,
    "source_hash": "812a2982",
    "execution_start": 1649002379219,
    "execution_millis": 2198,
    "deepnote_cell_type": "code",
    "deepnote_cell_height": 225
   },
   "source": "#加载所需的库\nimport numpy as np\nimport pandas as pd\n\n%matplotlib inline\nimport matplotlib.pyplot as plt\nimport seaborn as sns  # for titanic data only\n\n# from matplotlib.patches import Patch  # to create the colored squares for the legend",
   "execution_count": 1,
   "outputs": []
  },
  {
   "cell_type": "code",
   "metadata": {
    "scrolled": true,
    "cell_id": "00004-5b5211f7-7813-44ed-8ec7-72ba8d1f6709",
    "deepnote_to_be_reexecuted": false,
    "source_hash": "2a427c86",
    "execution_start": 1649002381974,
    "execution_millis": 394,
    "deepnote_cell_type": "code",
    "deepnote_cell_height": 498
   },
   "source": "#载入之前保存的train_chinese.csv数据，关于泰坦尼克号的任务，我们就使用这个数据\n\n# load the dataframe\ndf = sns.load_dataset('titanic')\n# df = pd.read_csv('./data/train.csv')\ndf.head()",
   "execution_count": 2,
   "outputs": [
    {
     "output_type": "execute_result",
     "execution_count": 2,
     "data": {
      "application/vnd.deepnote.dataframe.v3+json": {
       "column_count": 15,
       "row_count": 5,
       "columns": [
        {
         "name": "survived",
         "dtype": "int64",
         "stats": {
          "unique_count": 2,
          "nan_count": 0,
          "min": "0",
          "max": "1",
          "histogram": [
           {
            "bin_start": 0,
            "bin_end": 0.1,
            "count": 2
           },
           {
            "bin_start": 0.1,
            "bin_end": 0.2,
            "count": 0
           },
           {
            "bin_start": 0.2,
            "bin_end": 0.30000000000000004,
            "count": 0
           },
           {
            "bin_start": 0.30000000000000004,
            "bin_end": 0.4,
            "count": 0
           },
           {
            "bin_start": 0.4,
            "bin_end": 0.5,
            "count": 0
           },
           {
            "bin_start": 0.5,
            "bin_end": 0.6000000000000001,
            "count": 0
           },
           {
            "bin_start": 0.6000000000000001,
            "bin_end": 0.7000000000000001,
            "count": 0
           },
           {
            "bin_start": 0.7000000000000001,
            "bin_end": 0.8,
            "count": 0
           },
           {
            "bin_start": 0.8,
            "bin_end": 0.9,
            "count": 0
           },
           {
            "bin_start": 0.9,
            "bin_end": 1,
            "count": 3
           }
          ]
         }
        },
        {
         "name": "pclass",
         "dtype": "int64",
         "stats": {
          "unique_count": 2,
          "nan_count": 0,
          "min": "1",
          "max": "3",
          "histogram": [
           {
            "bin_start": 1,
            "bin_end": 1.2,
            "count": 2
           },
           {
            "bin_start": 1.2,
            "bin_end": 1.4,
            "count": 0
           },
           {
            "bin_start": 1.4,
            "bin_end": 1.6,
            "count": 0
           },
           {
            "bin_start": 1.6,
            "bin_end": 1.8,
            "count": 0
           },
           {
            "bin_start": 1.8,
            "bin_end": 2,
            "count": 0
           },
           {
            "bin_start": 2,
            "bin_end": 2.2,
            "count": 0
           },
           {
            "bin_start": 2.2,
            "bin_end": 2.4000000000000004,
            "count": 0
           },
           {
            "bin_start": 2.4000000000000004,
            "bin_end": 2.6,
            "count": 0
           },
           {
            "bin_start": 2.6,
            "bin_end": 2.8,
            "count": 0
           },
           {
            "bin_start": 2.8,
            "bin_end": 3,
            "count": 3
           }
          ]
         }
        },
        {
         "name": "sex",
         "dtype": "object",
         "stats": {
          "unique_count": 2,
          "nan_count": 0,
          "categories": [
           {
            "name": "female",
            "count": 3
           },
           {
            "name": "male",
            "count": 2
           }
          ]
         }
        },
        {
         "name": "age",
         "dtype": "float64",
         "stats": {
          "unique_count": 4,
          "nan_count": 0,
          "min": "22.0",
          "max": "38.0",
          "histogram": [
           {
            "bin_start": 22,
            "bin_end": 23.6,
            "count": 1
           },
           {
            "bin_start": 23.6,
            "bin_end": 25.2,
            "count": 0
           },
           {
            "bin_start": 25.2,
            "bin_end": 26.8,
            "count": 1
           },
           {
            "bin_start": 26.8,
            "bin_end": 28.4,
            "count": 0
           },
           {
            "bin_start": 28.4,
            "bin_end": 30,
            "count": 0
           },
           {
            "bin_start": 30,
            "bin_end": 31.6,
            "count": 0
           },
           {
            "bin_start": 31.6,
            "bin_end": 33.2,
            "count": 0
           },
           {
            "bin_start": 33.2,
            "bin_end": 34.8,
            "count": 0
           },
           {
            "bin_start": 34.8,
            "bin_end": 36.4,
            "count": 2
           },
           {
            "bin_start": 36.4,
            "bin_end": 38,
            "count": 1
           }
          ]
         }
        },
        {
         "name": "sibsp",
         "dtype": "int64",
         "stats": {
          "unique_count": 2,
          "nan_count": 0,
          "min": "0",
          "max": "1",
          "histogram": [
           {
            "bin_start": 0,
            "bin_end": 0.1,
            "count": 2
           },
           {
            "bin_start": 0.1,
            "bin_end": 0.2,
            "count": 0
           },
           {
            "bin_start": 0.2,
            "bin_end": 0.30000000000000004,
            "count": 0
           },
           {
            "bin_start": 0.30000000000000004,
            "bin_end": 0.4,
            "count": 0
           },
           {
            "bin_start": 0.4,
            "bin_end": 0.5,
            "count": 0
           },
           {
            "bin_start": 0.5,
            "bin_end": 0.6000000000000001,
            "count": 0
           },
           {
            "bin_start": 0.6000000000000001,
            "bin_end": 0.7000000000000001,
            "count": 0
           },
           {
            "bin_start": 0.7000000000000001,
            "bin_end": 0.8,
            "count": 0
           },
           {
            "bin_start": 0.8,
            "bin_end": 0.9,
            "count": 0
           },
           {
            "bin_start": 0.9,
            "bin_end": 1,
            "count": 3
           }
          ]
         }
        },
        {
         "name": "parch",
         "dtype": "int64",
         "stats": {
          "unique_count": 1,
          "nan_count": 0,
          "min": "0",
          "max": "0",
          "histogram": [
           {
            "bin_start": -0.5,
            "bin_end": -0.4,
            "count": 0
           },
           {
            "bin_start": -0.4,
            "bin_end": -0.3,
            "count": 0
           },
           {
            "bin_start": -0.3,
            "bin_end": -0.19999999999999996,
            "count": 0
           },
           {
            "bin_start": -0.19999999999999996,
            "bin_end": -0.09999999999999998,
            "count": 0
           },
           {
            "bin_start": -0.09999999999999998,
            "bin_end": 0,
            "count": 0
           },
           {
            "bin_start": 0,
            "bin_end": 0.10000000000000009,
            "count": 5
           },
           {
            "bin_start": 0.10000000000000009,
            "bin_end": 0.20000000000000007,
            "count": 0
           },
           {
            "bin_start": 0.20000000000000007,
            "bin_end": 0.30000000000000004,
            "count": 0
           },
           {
            "bin_start": 0.30000000000000004,
            "bin_end": 0.4,
            "count": 0
           },
           {
            "bin_start": 0.4,
            "bin_end": 0.5,
            "count": 0
           }
          ]
         }
        },
        {
         "name": "fare",
         "dtype": "float64",
         "stats": {
          "unique_count": 5,
          "nan_count": 0,
          "min": "7.25",
          "max": "71.2833",
          "histogram": [
           {
            "bin_start": 7.25,
            "bin_end": 13.65333,
            "count": 3
           },
           {
            "bin_start": 13.65333,
            "bin_end": 20.05666,
            "count": 0
           },
           {
            "bin_start": 20.05666,
            "bin_end": 26.459989999999998,
            "count": 0
           },
           {
            "bin_start": 26.459989999999998,
            "bin_end": 32.86332,
            "count": 0
           },
           {
            "bin_start": 32.86332,
            "bin_end": 39.26665,
            "count": 0
           },
           {
            "bin_start": 39.26665,
            "bin_end": 45.669979999999995,
            "count": 0
           },
           {
            "bin_start": 45.669979999999995,
            "bin_end": 52.07331,
            "count": 0
           },
           {
            "bin_start": 52.07331,
            "bin_end": 58.476639999999996,
            "count": 1
           },
           {
            "bin_start": 58.476639999999996,
            "bin_end": 64.87996999999999,
            "count": 0
           },
           {
            "bin_start": 64.87996999999999,
            "bin_end": 71.2833,
            "count": 1
           }
          ]
         }
        },
        {
         "name": "embarked",
         "dtype": "object",
         "stats": {
          "unique_count": 2,
          "nan_count": 0,
          "categories": [
           {
            "name": "S",
            "count": 4
           },
           {
            "name": "C",
            "count": 1
           }
          ]
         }
        },
        {
         "name": "class",
         "dtype": "category",
         "stats": {
          "unique_count": 2,
          "nan_count": 0,
          "categories": [
           {
            "name": "Third",
            "count": 3
           },
           {
            "name": "First",
            "count": 2
           }
          ]
         }
        },
        {
         "name": "who",
         "dtype": "object",
         "stats": {
          "unique_count": 2,
          "nan_count": 0,
          "categories": [
           {
            "name": "woman",
            "count": 3
           },
           {
            "name": "man",
            "count": 2
           }
          ]
         }
        },
        {
         "name": "adult_male",
         "dtype": "bool",
         "stats": {
          "unique_count": 2,
          "nan_count": 0,
          "categories": [
           {
            "name": "False",
            "count": 3
           },
           {
            "name": "True",
            "count": 2
           }
          ]
         }
        },
        {
         "name": "deck",
         "dtype": "category",
         "stats": {
          "unique_count": 1,
          "nan_count": 3,
          "categories": [
           {
            "name": "C",
            "count": 2
           },
           {
            "name": "Missing",
            "count": 3
           }
          ]
         }
        },
        {
         "name": "embark_town",
         "dtype": "object",
         "stats": {
          "unique_count": 2,
          "nan_count": 0,
          "categories": [
           {
            "name": "Southampton",
            "count": 4
           },
           {
            "name": "Cherbourg",
            "count": 1
           }
          ]
         }
        },
        {
         "name": "alive",
         "dtype": "object",
         "stats": {
          "unique_count": 2,
          "nan_count": 0,
          "categories": [
           {
            "name": "yes",
            "count": 3
           },
           {
            "name": "no",
            "count": 2
           }
          ]
         }
        },
        {
         "name": "alone",
         "dtype": "bool",
         "stats": {
          "unique_count": 2,
          "nan_count": 0,
          "categories": [
           {
            "name": "False",
            "count": 3
           },
           {
            "name": "True",
            "count": 2
           }
          ]
         }
        },
        {
         "name": "_deepnote_index_column",
         "dtype": "int64"
        }
       ],
       "rows": [
        {
         "survived": 0,
         "pclass": 3,
         "sex": "male",
         "age": 22,
         "sibsp": 1,
         "parch": 0,
         "fare": 7.25,
         "embarked": "S",
         "class": "Third",
         "who": "man",
         "adult_male": true,
         "deck": "nan",
         "embark_town": "Southampton",
         "alive": "no",
         "alone": false,
         "_deepnote_index_column": 0
        },
        {
         "survived": 1,
         "pclass": 1,
         "sex": "female",
         "age": 38,
         "sibsp": 1,
         "parch": 0,
         "fare": 71.2833,
         "embarked": "C",
         "class": "First",
         "who": "woman",
         "adult_male": false,
         "deck": "C",
         "embark_town": "Cherbourg",
         "alive": "yes",
         "alone": false,
         "_deepnote_index_column": 1
        },
        {
         "survived": 1,
         "pclass": 3,
         "sex": "female",
         "age": 26,
         "sibsp": 0,
         "parch": 0,
         "fare": 7.925,
         "embarked": "S",
         "class": "Third",
         "who": "woman",
         "adult_male": false,
         "deck": "nan",
         "embark_town": "Southampton",
         "alive": "yes",
         "alone": true,
         "_deepnote_index_column": 2
        },
        {
         "survived": 1,
         "pclass": 1,
         "sex": "female",
         "age": 35,
         "sibsp": 1,
         "parch": 0,
         "fare": 53.1,
         "embarked": "S",
         "class": "First",
         "who": "woman",
         "adult_male": false,
         "deck": "C",
         "embark_town": "Southampton",
         "alive": "yes",
         "alone": false,
         "_deepnote_index_column": 3
        },
        {
         "survived": 0,
         "pclass": 3,
         "sex": "male",
         "age": 35,
         "sibsp": 0,
         "parch": 0,
         "fare": 8.05,
         "embarked": "S",
         "class": "Third",
         "who": "man",
         "adult_male": true,
         "deck": "nan",
         "embark_town": "Southampton",
         "alive": "no",
         "alone": true,
         "_deepnote_index_column": 4
        }
       ]
      },
      "text/plain": "   survived  pclass     sex   age  sibsp  parch     fare embarked  class  \\\n0         0       3    male  22.0      1      0   7.2500        S  Third   \n1         1       1  female  38.0      1      0  71.2833        C  First   \n2         1       3  female  26.0      0      0   7.9250        S  Third   \n3         1       1  female  35.0      1      0  53.1000        S  First   \n4         0       3    male  35.0      0      0   8.0500        S  Third   \n\n     who  adult_male deck  embark_town alive  alone  \n0    man        True  NaN  Southampton    no  False  \n1  woman       False    C    Cherbourg   yes  False  \n2  woman       False  NaN  Southampton   yes   True  \n3  woman       False    C  Southampton   yes  False  \n4    man        True  NaN  Southampton    no   True  ",
      "text/html": "<div>\n<style scoped>\n    .dataframe tbody tr th:only-of-type {\n        vertical-align: middle;\n    }\n\n    .dataframe tbody tr th {\n        vertical-align: top;\n    }\n\n    .dataframe thead th {\n        text-align: right;\n    }\n</style>\n<table border=\"1\" class=\"dataframe\">\n  <thead>\n    <tr style=\"text-align: right;\">\n      <th></th>\n      <th>survived</th>\n      <th>pclass</th>\n      <th>sex</th>\n      <th>age</th>\n      <th>sibsp</th>\n      <th>parch</th>\n      <th>fare</th>\n      <th>embarked</th>\n      <th>class</th>\n      <th>who</th>\n      <th>adult_male</th>\n      <th>deck</th>\n      <th>embark_town</th>\n      <th>alive</th>\n      <th>alone</th>\n    </tr>\n  </thead>\n  <tbody>\n    <tr>\n      <th>0</th>\n      <td>0</td>\n      <td>3</td>\n      <td>male</td>\n      <td>22.0</td>\n      <td>1</td>\n      <td>0</td>\n      <td>7.2500</td>\n      <td>S</td>\n      <td>Third</td>\n      <td>man</td>\n      <td>True</td>\n      <td>NaN</td>\n      <td>Southampton</td>\n      <td>no</td>\n      <td>False</td>\n    </tr>\n    <tr>\n      <th>1</th>\n      <td>1</td>\n      <td>1</td>\n      <td>female</td>\n      <td>38.0</td>\n      <td>1</td>\n      <td>0</td>\n      <td>71.2833</td>\n      <td>C</td>\n      <td>First</td>\n      <td>woman</td>\n      <td>False</td>\n      <td>C</td>\n      <td>Cherbourg</td>\n      <td>yes</td>\n      <td>False</td>\n    </tr>\n    <tr>\n      <th>2</th>\n      <td>1</td>\n      <td>3</td>\n      <td>female</td>\n      <td>26.0</td>\n      <td>0</td>\n      <td>0</td>\n      <td>7.9250</td>\n      <td>S</td>\n      <td>Third</td>\n      <td>woman</td>\n      <td>False</td>\n      <td>NaN</td>\n      <td>Southampton</td>\n      <td>yes</td>\n      <td>True</td>\n    </tr>\n    <tr>\n      <th>3</th>\n      <td>1</td>\n      <td>1</td>\n      <td>female</td>\n      <td>35.0</td>\n      <td>1</td>\n      <td>0</td>\n      <td>53.1000</td>\n      <td>S</td>\n      <td>First</td>\n      <td>woman</td>\n      <td>False</td>\n      <td>C</td>\n      <td>Southampton</td>\n      <td>yes</td>\n      <td>False</td>\n    </tr>\n    <tr>\n      <th>4</th>\n      <td>0</td>\n      <td>3</td>\n      <td>male</td>\n      <td>35.0</td>\n      <td>0</td>\n      <td>0</td>\n      <td>8.0500</td>\n      <td>S</td>\n      <td>Third</td>\n      <td>man</td>\n      <td>True</td>\n      <td>NaN</td>\n      <td>Southampton</td>\n      <td>no</td>\n      <td>True</td>\n    </tr>\n  </tbody>\n</table>\n</div>"
     },
     "metadata": {}
    }
   ]
  },
  {
   "cell_type": "markdown",
   "source": "### 1.6 了解你的数据吗？\n教材《Python for Data Analysis》第五章",
   "metadata": {
    "cell_id": "00005-cab1db63-9942-41f2-a44c-de98f56a9e61",
    "deepnote_cell_type": "markdown",
    "deepnote_cell_height": 100.390625
   }
  },
  {
   "cell_type": "markdown",
   "source": "#### 1.6.1 任务一：利用Pandas对示例数据进行排序，要求升序",
   "metadata": {
    "cell_id": "00006-da758e93-4cec-4c54-b705-a19b8e75cedd",
    "deepnote_cell_type": "markdown",
    "deepnote_cell_height": 54
   }
  },
  {
   "cell_type": "code",
   "metadata": {
    "cell_id": "00007-37c6d8a3-d303-41e2-b387-6d0ca2df3a55",
    "deepnote_to_be_reexecuted": false,
    "source_hash": "13835c64",
    "execution_start": 1648999662500,
    "execution_millis": 14,
    "deepnote_cell_type": "code",
    "deepnote_cell_height": 396
   },
   "source": "# 具体请看《利用Python进行数据分析》第五章 排序和排名 部分\n\n#自己构建一个都为数字的DataFrame数据\n\ndf1 = pd.DataFrame(np.arange(8).reshape(2,4),\n                    index=['2','1'],\n                    columns=['d','a','b','c'])\ndf1",
   "execution_count": null,
   "outputs": [
    {
     "output_type": "execute_result",
     "execution_count": 3,
     "data": {
      "application/vnd.deepnote.dataframe.v3+json": {
       "column_count": 4,
       "row_count": 2,
       "columns": [
        {
         "name": "d",
         "dtype": "int64",
         "stats": {
          "unique_count": 2,
          "nan_count": 0,
          "min": "0",
          "max": "4",
          "histogram": [
           {
            "bin_start": 0,
            "bin_end": 0.4,
            "count": 1
           },
           {
            "bin_start": 0.4,
            "bin_end": 0.8,
            "count": 0
           },
           {
            "bin_start": 0.8,
            "bin_end": 1.2000000000000002,
            "count": 0
           },
           {
            "bin_start": 1.2000000000000002,
            "bin_end": 1.6,
            "count": 0
           },
           {
            "bin_start": 1.6,
            "bin_end": 2,
            "count": 0
           },
           {
            "bin_start": 2,
            "bin_end": 2.4000000000000004,
            "count": 0
           },
           {
            "bin_start": 2.4000000000000004,
            "bin_end": 2.8000000000000003,
            "count": 0
           },
           {
            "bin_start": 2.8000000000000003,
            "bin_end": 3.2,
            "count": 0
           },
           {
            "bin_start": 3.2,
            "bin_end": 3.6,
            "count": 0
           },
           {
            "bin_start": 3.6,
            "bin_end": 4,
            "count": 1
           }
          ]
         }
        },
        {
         "name": "a",
         "dtype": "int64",
         "stats": {
          "unique_count": 2,
          "nan_count": 0,
          "min": "1",
          "max": "5",
          "histogram": [
           {
            "bin_start": 1,
            "bin_end": 1.4,
            "count": 1
           },
           {
            "bin_start": 1.4,
            "bin_end": 1.8,
            "count": 0
           },
           {
            "bin_start": 1.8,
            "bin_end": 2.2,
            "count": 0
           },
           {
            "bin_start": 2.2,
            "bin_end": 2.6,
            "count": 0
           },
           {
            "bin_start": 2.6,
            "bin_end": 3,
            "count": 0
           },
           {
            "bin_start": 3,
            "bin_end": 3.4000000000000004,
            "count": 0
           },
           {
            "bin_start": 3.4000000000000004,
            "bin_end": 3.8000000000000003,
            "count": 0
           },
           {
            "bin_start": 3.8000000000000003,
            "bin_end": 4.2,
            "count": 0
           },
           {
            "bin_start": 4.2,
            "bin_end": 4.6,
            "count": 0
           },
           {
            "bin_start": 4.6,
            "bin_end": 5,
            "count": 1
           }
          ]
         }
        },
        {
         "name": "b",
         "dtype": "int64",
         "stats": {
          "unique_count": 2,
          "nan_count": 0,
          "min": "2",
          "max": "6",
          "histogram": [
           {
            "bin_start": 2,
            "bin_end": 2.4,
            "count": 1
           },
           {
            "bin_start": 2.4,
            "bin_end": 2.8,
            "count": 0
           },
           {
            "bin_start": 2.8,
            "bin_end": 3.2,
            "count": 0
           },
           {
            "bin_start": 3.2,
            "bin_end": 3.6,
            "count": 0
           },
           {
            "bin_start": 3.6,
            "bin_end": 4,
            "count": 0
           },
           {
            "bin_start": 4,
            "bin_end": 4.4,
            "count": 0
           },
           {
            "bin_start": 4.4,
            "bin_end": 4.800000000000001,
            "count": 0
           },
           {
            "bin_start": 4.800000000000001,
            "bin_end": 5.2,
            "count": 0
           },
           {
            "bin_start": 5.2,
            "bin_end": 5.6,
            "count": 0
           },
           {
            "bin_start": 5.6,
            "bin_end": 6,
            "count": 1
           }
          ]
         }
        },
        {
         "name": "c",
         "dtype": "int64",
         "stats": {
          "unique_count": 2,
          "nan_count": 0,
          "min": "3",
          "max": "7",
          "histogram": [
           {
            "bin_start": 3,
            "bin_end": 3.4,
            "count": 1
           },
           {
            "bin_start": 3.4,
            "bin_end": 3.8,
            "count": 0
           },
           {
            "bin_start": 3.8,
            "bin_end": 4.2,
            "count": 0
           },
           {
            "bin_start": 4.2,
            "bin_end": 4.6,
            "count": 0
           },
           {
            "bin_start": 4.6,
            "bin_end": 5,
            "count": 0
           },
           {
            "bin_start": 5,
            "bin_end": 5.4,
            "count": 0
           },
           {
            "bin_start": 5.4,
            "bin_end": 5.800000000000001,
            "count": 0
           },
           {
            "bin_start": 5.800000000000001,
            "bin_end": 6.2,
            "count": 0
           },
           {
            "bin_start": 6.2,
            "bin_end": 6.6,
            "count": 0
           },
           {
            "bin_start": 6.6,
            "bin_end": 7,
            "count": 1
           }
          ]
         }
        },
        {
         "name": "_deepnote_index_column",
         "dtype": "object"
        }
       ],
       "rows": [
        {
         "d": 0,
         "a": 1,
         "b": 2,
         "c": 3,
         "_deepnote_index_column": "2"
        },
        {
         "d": 4,
         "a": 5,
         "b": 6,
         "c": 7,
         "_deepnote_index_column": "1"
        }
       ]
      },
      "text/plain": "   d  a  b  c\n2  0  1  2  3\n1  4  5  6  7",
      "text/html": "<div>\n<style scoped>\n    .dataframe tbody tr th:only-of-type {\n        vertical-align: middle;\n    }\n\n    .dataframe tbody tr th {\n        vertical-align: top;\n    }\n\n    .dataframe thead th {\n        text-align: right;\n    }\n</style>\n<table border=\"1\" class=\"dataframe\">\n  <thead>\n    <tr style=\"text-align: right;\">\n      <th></th>\n      <th>d</th>\n      <th>a</th>\n      <th>b</th>\n      <th>c</th>\n    </tr>\n  </thead>\n  <tbody>\n    <tr>\n      <th>2</th>\n      <td>0</td>\n      <td>1</td>\n      <td>2</td>\n      <td>3</td>\n    </tr>\n    <tr>\n      <th>1</th>\n      <td>4</td>\n      <td>5</td>\n      <td>6</td>\n      <td>7</td>\n    </tr>\n  </tbody>\n</table>\n</div>"
     },
     "metadata": {}
    }
   ]
  },
  {
   "cell_type": "markdown",
   "source": "【代码解析】\n\npd.DataFrame() ：创建一个DataFrame对象 \n\nnp.arange(8).reshape((2, 4)) : 生成一个二维数组（2*4）,第一列：0，1，2，3 第二列：4，5，6，7\n\nindex=['2, 1] ：DataFrame 对象的索引列\n\ncolumns=['d', 'a', 'b', 'c'] ：DataFrame 对象的索引行",
   "metadata": {
    "cell_id": "00008-aded7dbc-abf9-4882-a4e5-6576792e4fd4",
    "deepnote_cell_type": "markdown",
    "deepnote_cell_height": 197.953125
   }
  },
  {
   "cell_type": "markdown",
   "source": "【问题】：大多数时候我们都是想根据列的值来排序,所以将你构建的DataFrame中的数据根据某一列，升序排列",
   "metadata": {
    "cell_id": "00009-42b184ef-36e7-43f9-9c22-4682f58aa02e",
    "deepnote_cell_type": "markdown",
    "deepnote_cell_height": 52.390625
   }
  },
  {
   "cell_type": "code",
   "metadata": {
    "cell_id": "00010-322b3976-58ff-4eeb-bd71-dfa73984c77a",
    "deepnote_to_be_reexecuted": false,
    "source_hash": "db5c2524",
    "execution_start": 1648999662516,
    "execution_millis": 23,
    "deepnote_cell_type": "code",
    "deepnote_cell_height": 288
   },
   "source": "#回答代码\ndf1.sort_values(by='c', ascending=True)",
   "execution_count": null,
   "outputs": [
    {
     "output_type": "execute_result",
     "execution_count": 4,
     "data": {
      "application/vnd.deepnote.dataframe.v3+json": {
       "column_count": 4,
       "row_count": 2,
       "columns": [
        {
         "name": "d",
         "dtype": "int64",
         "stats": {
          "unique_count": 2,
          "nan_count": 0,
          "min": "0",
          "max": "4",
          "histogram": [
           {
            "bin_start": 0,
            "bin_end": 0.4,
            "count": 1
           },
           {
            "bin_start": 0.4,
            "bin_end": 0.8,
            "count": 0
           },
           {
            "bin_start": 0.8,
            "bin_end": 1.2000000000000002,
            "count": 0
           },
           {
            "bin_start": 1.2000000000000002,
            "bin_end": 1.6,
            "count": 0
           },
           {
            "bin_start": 1.6,
            "bin_end": 2,
            "count": 0
           },
           {
            "bin_start": 2,
            "bin_end": 2.4000000000000004,
            "count": 0
           },
           {
            "bin_start": 2.4000000000000004,
            "bin_end": 2.8000000000000003,
            "count": 0
           },
           {
            "bin_start": 2.8000000000000003,
            "bin_end": 3.2,
            "count": 0
           },
           {
            "bin_start": 3.2,
            "bin_end": 3.6,
            "count": 0
           },
           {
            "bin_start": 3.6,
            "bin_end": 4,
            "count": 1
           }
          ]
         }
        },
        {
         "name": "a",
         "dtype": "int64",
         "stats": {
          "unique_count": 2,
          "nan_count": 0,
          "min": "1",
          "max": "5",
          "histogram": [
           {
            "bin_start": 1,
            "bin_end": 1.4,
            "count": 1
           },
           {
            "bin_start": 1.4,
            "bin_end": 1.8,
            "count": 0
           },
           {
            "bin_start": 1.8,
            "bin_end": 2.2,
            "count": 0
           },
           {
            "bin_start": 2.2,
            "bin_end": 2.6,
            "count": 0
           },
           {
            "bin_start": 2.6,
            "bin_end": 3,
            "count": 0
           },
           {
            "bin_start": 3,
            "bin_end": 3.4000000000000004,
            "count": 0
           },
           {
            "bin_start": 3.4000000000000004,
            "bin_end": 3.8000000000000003,
            "count": 0
           },
           {
            "bin_start": 3.8000000000000003,
            "bin_end": 4.2,
            "count": 0
           },
           {
            "bin_start": 4.2,
            "bin_end": 4.6,
            "count": 0
           },
           {
            "bin_start": 4.6,
            "bin_end": 5,
            "count": 1
           }
          ]
         }
        },
        {
         "name": "b",
         "dtype": "int64",
         "stats": {
          "unique_count": 2,
          "nan_count": 0,
          "min": "2",
          "max": "6",
          "histogram": [
           {
            "bin_start": 2,
            "bin_end": 2.4,
            "count": 1
           },
           {
            "bin_start": 2.4,
            "bin_end": 2.8,
            "count": 0
           },
           {
            "bin_start": 2.8,
            "bin_end": 3.2,
            "count": 0
           },
           {
            "bin_start": 3.2,
            "bin_end": 3.6,
            "count": 0
           },
           {
            "bin_start": 3.6,
            "bin_end": 4,
            "count": 0
           },
           {
            "bin_start": 4,
            "bin_end": 4.4,
            "count": 0
           },
           {
            "bin_start": 4.4,
            "bin_end": 4.800000000000001,
            "count": 0
           },
           {
            "bin_start": 4.800000000000001,
            "bin_end": 5.2,
            "count": 0
           },
           {
            "bin_start": 5.2,
            "bin_end": 5.6,
            "count": 0
           },
           {
            "bin_start": 5.6,
            "bin_end": 6,
            "count": 1
           }
          ]
         }
        },
        {
         "name": "c",
         "dtype": "int64",
         "stats": {
          "unique_count": 2,
          "nan_count": 0,
          "min": "3",
          "max": "7",
          "histogram": [
           {
            "bin_start": 3,
            "bin_end": 3.4,
            "count": 1
           },
           {
            "bin_start": 3.4,
            "bin_end": 3.8,
            "count": 0
           },
           {
            "bin_start": 3.8,
            "bin_end": 4.2,
            "count": 0
           },
           {
            "bin_start": 4.2,
            "bin_end": 4.6,
            "count": 0
           },
           {
            "bin_start": 4.6,
            "bin_end": 5,
            "count": 0
           },
           {
            "bin_start": 5,
            "bin_end": 5.4,
            "count": 0
           },
           {
            "bin_start": 5.4,
            "bin_end": 5.800000000000001,
            "count": 0
           },
           {
            "bin_start": 5.800000000000001,
            "bin_end": 6.2,
            "count": 0
           },
           {
            "bin_start": 6.2,
            "bin_end": 6.6,
            "count": 0
           },
           {
            "bin_start": 6.6,
            "bin_end": 7,
            "count": 1
           }
          ]
         }
        },
        {
         "name": "_deepnote_index_column",
         "dtype": "object"
        }
       ],
       "rows": [
        {
         "d": 0,
         "a": 1,
         "b": 2,
         "c": 3,
         "_deepnote_index_column": "2"
        },
        {
         "d": 4,
         "a": 5,
         "b": 6,
         "c": 7,
         "_deepnote_index_column": "1"
        }
       ]
      },
      "text/plain": "   d  a  b  c\n2  0  1  2  3\n1  4  5  6  7",
      "text/html": "<div>\n<style scoped>\n    .dataframe tbody tr th:only-of-type {\n        vertical-align: middle;\n    }\n\n    .dataframe tbody tr th {\n        vertical-align: top;\n    }\n\n    .dataframe thead th {\n        text-align: right;\n    }\n</style>\n<table border=\"1\" class=\"dataframe\">\n  <thead>\n    <tr style=\"text-align: right;\">\n      <th></th>\n      <th>d</th>\n      <th>a</th>\n      <th>b</th>\n      <th>c</th>\n    </tr>\n  </thead>\n  <tbody>\n    <tr>\n      <th>2</th>\n      <td>0</td>\n      <td>1</td>\n      <td>2</td>\n      <td>3</td>\n    </tr>\n    <tr>\n      <th>1</th>\n      <td>4</td>\n      <td>5</td>\n      <td>6</td>\n      <td>7</td>\n    </tr>\n  </tbody>\n</table>\n</div>"
     },
     "metadata": {}
    }
   ]
  },
  {
   "cell_type": "markdown",
   "source": "【思考】通过书本你能说出Pandas对DataFrame数据的其他排序方式吗？",
   "metadata": {
    "cell_id": "00011-5be2ecf5-483f-4420-a1e0-8d0014ead40e",
    "deepnote_cell_type": "markdown",
    "deepnote_cell_height": 52.390625
   }
  },
  {
   "cell_type": "markdown",
   "source": "【总结】下面将不同的排序方式做一个总结",
   "metadata": {
    "cell_id": "00012-034b155e-7908-4195-9b70-9cdc67b52a18",
    "deepnote_cell_type": "markdown",
    "deepnote_cell_height": 52.390625
   }
  },
  {
   "cell_type": "markdown",
   "source": "1.让行索引升序排序",
   "metadata": {
    "cell_id": "00013-d3986308-9d13-4974-bd71-3d6fbbcae6d5",
    "deepnote_cell_type": "markdown",
    "deepnote_cell_height": 52.390625
   }
  },
  {
   "cell_type": "code",
   "metadata": {
    "cell_id": "00014-5e6b8728-d680-4171-8ea5-aff971b157d7",
    "deepnote_to_be_reexecuted": false,
    "source_hash": "ca4fb1fa",
    "execution_start": 1648999662565,
    "execution_millis": 4,
    "deepnote_cell_type": "code",
    "deepnote_cell_height": 288
   },
   "source": "#代码\ndf1.sort_index()",
   "execution_count": null,
   "outputs": [
    {
     "output_type": "execute_result",
     "execution_count": 5,
     "data": {
      "application/vnd.deepnote.dataframe.v3+json": {
       "column_count": 4,
       "row_count": 2,
       "columns": [
        {
         "name": "d",
         "dtype": "int64",
         "stats": {
          "unique_count": 2,
          "nan_count": 0,
          "min": "0",
          "max": "4",
          "histogram": [
           {
            "bin_start": 0,
            "bin_end": 0.4,
            "count": 1
           },
           {
            "bin_start": 0.4,
            "bin_end": 0.8,
            "count": 0
           },
           {
            "bin_start": 0.8,
            "bin_end": 1.2000000000000002,
            "count": 0
           },
           {
            "bin_start": 1.2000000000000002,
            "bin_end": 1.6,
            "count": 0
           },
           {
            "bin_start": 1.6,
            "bin_end": 2,
            "count": 0
           },
           {
            "bin_start": 2,
            "bin_end": 2.4000000000000004,
            "count": 0
           },
           {
            "bin_start": 2.4000000000000004,
            "bin_end": 2.8000000000000003,
            "count": 0
           },
           {
            "bin_start": 2.8000000000000003,
            "bin_end": 3.2,
            "count": 0
           },
           {
            "bin_start": 3.2,
            "bin_end": 3.6,
            "count": 0
           },
           {
            "bin_start": 3.6,
            "bin_end": 4,
            "count": 1
           }
          ]
         }
        },
        {
         "name": "a",
         "dtype": "int64",
         "stats": {
          "unique_count": 2,
          "nan_count": 0,
          "min": "1",
          "max": "5",
          "histogram": [
           {
            "bin_start": 1,
            "bin_end": 1.4,
            "count": 1
           },
           {
            "bin_start": 1.4,
            "bin_end": 1.8,
            "count": 0
           },
           {
            "bin_start": 1.8,
            "bin_end": 2.2,
            "count": 0
           },
           {
            "bin_start": 2.2,
            "bin_end": 2.6,
            "count": 0
           },
           {
            "bin_start": 2.6,
            "bin_end": 3,
            "count": 0
           },
           {
            "bin_start": 3,
            "bin_end": 3.4000000000000004,
            "count": 0
           },
           {
            "bin_start": 3.4000000000000004,
            "bin_end": 3.8000000000000003,
            "count": 0
           },
           {
            "bin_start": 3.8000000000000003,
            "bin_end": 4.2,
            "count": 0
           },
           {
            "bin_start": 4.2,
            "bin_end": 4.6,
            "count": 0
           },
           {
            "bin_start": 4.6,
            "bin_end": 5,
            "count": 1
           }
          ]
         }
        },
        {
         "name": "b",
         "dtype": "int64",
         "stats": {
          "unique_count": 2,
          "nan_count": 0,
          "min": "2",
          "max": "6",
          "histogram": [
           {
            "bin_start": 2,
            "bin_end": 2.4,
            "count": 1
           },
           {
            "bin_start": 2.4,
            "bin_end": 2.8,
            "count": 0
           },
           {
            "bin_start": 2.8,
            "bin_end": 3.2,
            "count": 0
           },
           {
            "bin_start": 3.2,
            "bin_end": 3.6,
            "count": 0
           },
           {
            "bin_start": 3.6,
            "bin_end": 4,
            "count": 0
           },
           {
            "bin_start": 4,
            "bin_end": 4.4,
            "count": 0
           },
           {
            "bin_start": 4.4,
            "bin_end": 4.800000000000001,
            "count": 0
           },
           {
            "bin_start": 4.800000000000001,
            "bin_end": 5.2,
            "count": 0
           },
           {
            "bin_start": 5.2,
            "bin_end": 5.6,
            "count": 0
           },
           {
            "bin_start": 5.6,
            "bin_end": 6,
            "count": 1
           }
          ]
         }
        },
        {
         "name": "c",
         "dtype": "int64",
         "stats": {
          "unique_count": 2,
          "nan_count": 0,
          "min": "3",
          "max": "7",
          "histogram": [
           {
            "bin_start": 3,
            "bin_end": 3.4,
            "count": 1
           },
           {
            "bin_start": 3.4,
            "bin_end": 3.8,
            "count": 0
           },
           {
            "bin_start": 3.8,
            "bin_end": 4.2,
            "count": 0
           },
           {
            "bin_start": 4.2,
            "bin_end": 4.6,
            "count": 0
           },
           {
            "bin_start": 4.6,
            "bin_end": 5,
            "count": 0
           },
           {
            "bin_start": 5,
            "bin_end": 5.4,
            "count": 0
           },
           {
            "bin_start": 5.4,
            "bin_end": 5.800000000000001,
            "count": 0
           },
           {
            "bin_start": 5.800000000000001,
            "bin_end": 6.2,
            "count": 0
           },
           {
            "bin_start": 6.2,
            "bin_end": 6.6,
            "count": 0
           },
           {
            "bin_start": 6.6,
            "bin_end": 7,
            "count": 1
           }
          ]
         }
        },
        {
         "name": "_deepnote_index_column",
         "dtype": "object"
        }
       ],
       "rows": [
        {
         "d": 4,
         "a": 5,
         "b": 6,
         "c": 7,
         "_deepnote_index_column": "1"
        },
        {
         "d": 0,
         "a": 1,
         "b": 2,
         "c": 3,
         "_deepnote_index_column": "2"
        }
       ]
      },
      "text/plain": "   d  a  b  c\n1  4  5  6  7\n2  0  1  2  3",
      "text/html": "<div>\n<style scoped>\n    .dataframe tbody tr th:only-of-type {\n        vertical-align: middle;\n    }\n\n    .dataframe tbody tr th {\n        vertical-align: top;\n    }\n\n    .dataframe thead th {\n        text-align: right;\n    }\n</style>\n<table border=\"1\" class=\"dataframe\">\n  <thead>\n    <tr style=\"text-align: right;\">\n      <th></th>\n      <th>d</th>\n      <th>a</th>\n      <th>b</th>\n      <th>c</th>\n    </tr>\n  </thead>\n  <tbody>\n    <tr>\n      <th>1</th>\n      <td>4</td>\n      <td>5</td>\n      <td>6</td>\n      <td>7</td>\n    </tr>\n    <tr>\n      <th>2</th>\n      <td>0</td>\n      <td>1</td>\n      <td>2</td>\n      <td>3</td>\n    </tr>\n  </tbody>\n</table>\n</div>"
     },
     "metadata": {}
    }
   ]
  },
  {
   "cell_type": "markdown",
   "source": "2.让列索引升序排序\n",
   "metadata": {
    "cell_id": "00015-d1e87849-1d57-4ee7-a0df-e38f4244401e",
    "deepnote_cell_type": "markdown",
    "deepnote_cell_height": 52.390625
   }
  },
  {
   "cell_type": "code",
   "metadata": {
    "cell_id": "00016-d58eebab-9324-4817-9bfa-26b31a1a31cb",
    "deepnote_to_be_reexecuted": false,
    "source_hash": "d67e861f",
    "execution_start": 1648999662584,
    "execution_millis": 5,
    "deepnote_cell_type": "code",
    "deepnote_cell_height": 288
   },
   "source": "#代码\ndf1.sort_index(axis=1)",
   "execution_count": null,
   "outputs": [
    {
     "output_type": "execute_result",
     "execution_count": 6,
     "data": {
      "application/vnd.deepnote.dataframe.v3+json": {
       "column_count": 4,
       "row_count": 2,
       "columns": [
        {
         "name": "a",
         "dtype": "int64",
         "stats": {
          "unique_count": 2,
          "nan_count": 0,
          "min": "1",
          "max": "5",
          "histogram": [
           {
            "bin_start": 1,
            "bin_end": 1.4,
            "count": 1
           },
           {
            "bin_start": 1.4,
            "bin_end": 1.8,
            "count": 0
           },
           {
            "bin_start": 1.8,
            "bin_end": 2.2,
            "count": 0
           },
           {
            "bin_start": 2.2,
            "bin_end": 2.6,
            "count": 0
           },
           {
            "bin_start": 2.6,
            "bin_end": 3,
            "count": 0
           },
           {
            "bin_start": 3,
            "bin_end": 3.4000000000000004,
            "count": 0
           },
           {
            "bin_start": 3.4000000000000004,
            "bin_end": 3.8000000000000003,
            "count": 0
           },
           {
            "bin_start": 3.8000000000000003,
            "bin_end": 4.2,
            "count": 0
           },
           {
            "bin_start": 4.2,
            "bin_end": 4.6,
            "count": 0
           },
           {
            "bin_start": 4.6,
            "bin_end": 5,
            "count": 1
           }
          ]
         }
        },
        {
         "name": "b",
         "dtype": "int64",
         "stats": {
          "unique_count": 2,
          "nan_count": 0,
          "min": "2",
          "max": "6",
          "histogram": [
           {
            "bin_start": 2,
            "bin_end": 2.4,
            "count": 1
           },
           {
            "bin_start": 2.4,
            "bin_end": 2.8,
            "count": 0
           },
           {
            "bin_start": 2.8,
            "bin_end": 3.2,
            "count": 0
           },
           {
            "bin_start": 3.2,
            "bin_end": 3.6,
            "count": 0
           },
           {
            "bin_start": 3.6,
            "bin_end": 4,
            "count": 0
           },
           {
            "bin_start": 4,
            "bin_end": 4.4,
            "count": 0
           },
           {
            "bin_start": 4.4,
            "bin_end": 4.800000000000001,
            "count": 0
           },
           {
            "bin_start": 4.800000000000001,
            "bin_end": 5.2,
            "count": 0
           },
           {
            "bin_start": 5.2,
            "bin_end": 5.6,
            "count": 0
           },
           {
            "bin_start": 5.6,
            "bin_end": 6,
            "count": 1
           }
          ]
         }
        },
        {
         "name": "c",
         "dtype": "int64",
         "stats": {
          "unique_count": 2,
          "nan_count": 0,
          "min": "3",
          "max": "7",
          "histogram": [
           {
            "bin_start": 3,
            "bin_end": 3.4,
            "count": 1
           },
           {
            "bin_start": 3.4,
            "bin_end": 3.8,
            "count": 0
           },
           {
            "bin_start": 3.8,
            "bin_end": 4.2,
            "count": 0
           },
           {
            "bin_start": 4.2,
            "bin_end": 4.6,
            "count": 0
           },
           {
            "bin_start": 4.6,
            "bin_end": 5,
            "count": 0
           },
           {
            "bin_start": 5,
            "bin_end": 5.4,
            "count": 0
           },
           {
            "bin_start": 5.4,
            "bin_end": 5.800000000000001,
            "count": 0
           },
           {
            "bin_start": 5.800000000000001,
            "bin_end": 6.2,
            "count": 0
           },
           {
            "bin_start": 6.2,
            "bin_end": 6.6,
            "count": 0
           },
           {
            "bin_start": 6.6,
            "bin_end": 7,
            "count": 1
           }
          ]
         }
        },
        {
         "name": "d",
         "dtype": "int64",
         "stats": {
          "unique_count": 2,
          "nan_count": 0,
          "min": "0",
          "max": "4",
          "histogram": [
           {
            "bin_start": 0,
            "bin_end": 0.4,
            "count": 1
           },
           {
            "bin_start": 0.4,
            "bin_end": 0.8,
            "count": 0
           },
           {
            "bin_start": 0.8,
            "bin_end": 1.2000000000000002,
            "count": 0
           },
           {
            "bin_start": 1.2000000000000002,
            "bin_end": 1.6,
            "count": 0
           },
           {
            "bin_start": 1.6,
            "bin_end": 2,
            "count": 0
           },
           {
            "bin_start": 2,
            "bin_end": 2.4000000000000004,
            "count": 0
           },
           {
            "bin_start": 2.4000000000000004,
            "bin_end": 2.8000000000000003,
            "count": 0
           },
           {
            "bin_start": 2.8000000000000003,
            "bin_end": 3.2,
            "count": 0
           },
           {
            "bin_start": 3.2,
            "bin_end": 3.6,
            "count": 0
           },
           {
            "bin_start": 3.6,
            "bin_end": 4,
            "count": 1
           }
          ]
         }
        },
        {
         "name": "_deepnote_index_column",
         "dtype": "object"
        }
       ],
       "rows": [
        {
         "a": 1,
         "b": 2,
         "c": 3,
         "d": 0,
         "_deepnote_index_column": "2"
        },
        {
         "a": 5,
         "b": 6,
         "c": 7,
         "d": 4,
         "_deepnote_index_column": "1"
        }
       ]
      },
      "text/plain": "   a  b  c  d\n2  1  2  3  0\n1  5  6  7  4",
      "text/html": "<div>\n<style scoped>\n    .dataframe tbody tr th:only-of-type {\n        vertical-align: middle;\n    }\n\n    .dataframe tbody tr th {\n        vertical-align: top;\n    }\n\n    .dataframe thead th {\n        text-align: right;\n    }\n</style>\n<table border=\"1\" class=\"dataframe\">\n  <thead>\n    <tr style=\"text-align: right;\">\n      <th></th>\n      <th>a</th>\n      <th>b</th>\n      <th>c</th>\n      <th>d</th>\n    </tr>\n  </thead>\n  <tbody>\n    <tr>\n      <th>2</th>\n      <td>1</td>\n      <td>2</td>\n      <td>3</td>\n      <td>0</td>\n    </tr>\n    <tr>\n      <th>1</th>\n      <td>5</td>\n      <td>6</td>\n      <td>7</td>\n      <td>4</td>\n    </tr>\n  </tbody>\n</table>\n</div>"
     },
     "metadata": {}
    }
   ]
  },
  {
   "cell_type": "markdown",
   "source": "3.让列索引降序排序",
   "metadata": {
    "cell_id": "00017-42ec2386-a500-410f-9176-ed81a77fc322",
    "deepnote_cell_type": "markdown",
    "deepnote_cell_height": 52.390625
   }
  },
  {
   "cell_type": "code",
   "metadata": {
    "cell_id": "00018-86eda5d3-6698-4f47-8b6c-f9115c58fc78",
    "deepnote_to_be_reexecuted": false,
    "source_hash": "9a2771f7",
    "execution_start": 1648999662629,
    "execution_millis": 3,
    "deepnote_cell_type": "code",
    "deepnote_cell_height": 288
   },
   "source": "#代码\ndf1.sort_index(axis=1,ascending=False)",
   "execution_count": null,
   "outputs": [
    {
     "output_type": "execute_result",
     "execution_count": 7,
     "data": {
      "application/vnd.deepnote.dataframe.v3+json": {
       "column_count": 4,
       "row_count": 2,
       "columns": [
        {
         "name": "d",
         "dtype": "int64",
         "stats": {
          "unique_count": 2,
          "nan_count": 0,
          "min": "0",
          "max": "4",
          "histogram": [
           {
            "bin_start": 0,
            "bin_end": 0.4,
            "count": 1
           },
           {
            "bin_start": 0.4,
            "bin_end": 0.8,
            "count": 0
           },
           {
            "bin_start": 0.8,
            "bin_end": 1.2000000000000002,
            "count": 0
           },
           {
            "bin_start": 1.2000000000000002,
            "bin_end": 1.6,
            "count": 0
           },
           {
            "bin_start": 1.6,
            "bin_end": 2,
            "count": 0
           },
           {
            "bin_start": 2,
            "bin_end": 2.4000000000000004,
            "count": 0
           },
           {
            "bin_start": 2.4000000000000004,
            "bin_end": 2.8000000000000003,
            "count": 0
           },
           {
            "bin_start": 2.8000000000000003,
            "bin_end": 3.2,
            "count": 0
           },
           {
            "bin_start": 3.2,
            "bin_end": 3.6,
            "count": 0
           },
           {
            "bin_start": 3.6,
            "bin_end": 4,
            "count": 1
           }
          ]
         }
        },
        {
         "name": "c",
         "dtype": "int64",
         "stats": {
          "unique_count": 2,
          "nan_count": 0,
          "min": "3",
          "max": "7",
          "histogram": [
           {
            "bin_start": 3,
            "bin_end": 3.4,
            "count": 1
           },
           {
            "bin_start": 3.4,
            "bin_end": 3.8,
            "count": 0
           },
           {
            "bin_start": 3.8,
            "bin_end": 4.2,
            "count": 0
           },
           {
            "bin_start": 4.2,
            "bin_end": 4.6,
            "count": 0
           },
           {
            "bin_start": 4.6,
            "bin_end": 5,
            "count": 0
           },
           {
            "bin_start": 5,
            "bin_end": 5.4,
            "count": 0
           },
           {
            "bin_start": 5.4,
            "bin_end": 5.800000000000001,
            "count": 0
           },
           {
            "bin_start": 5.800000000000001,
            "bin_end": 6.2,
            "count": 0
           },
           {
            "bin_start": 6.2,
            "bin_end": 6.6,
            "count": 0
           },
           {
            "bin_start": 6.6,
            "bin_end": 7,
            "count": 1
           }
          ]
         }
        },
        {
         "name": "b",
         "dtype": "int64",
         "stats": {
          "unique_count": 2,
          "nan_count": 0,
          "min": "2",
          "max": "6",
          "histogram": [
           {
            "bin_start": 2,
            "bin_end": 2.4,
            "count": 1
           },
           {
            "bin_start": 2.4,
            "bin_end": 2.8,
            "count": 0
           },
           {
            "bin_start": 2.8,
            "bin_end": 3.2,
            "count": 0
           },
           {
            "bin_start": 3.2,
            "bin_end": 3.6,
            "count": 0
           },
           {
            "bin_start": 3.6,
            "bin_end": 4,
            "count": 0
           },
           {
            "bin_start": 4,
            "bin_end": 4.4,
            "count": 0
           },
           {
            "bin_start": 4.4,
            "bin_end": 4.800000000000001,
            "count": 0
           },
           {
            "bin_start": 4.800000000000001,
            "bin_end": 5.2,
            "count": 0
           },
           {
            "bin_start": 5.2,
            "bin_end": 5.6,
            "count": 0
           },
           {
            "bin_start": 5.6,
            "bin_end": 6,
            "count": 1
           }
          ]
         }
        },
        {
         "name": "a",
         "dtype": "int64",
         "stats": {
          "unique_count": 2,
          "nan_count": 0,
          "min": "1",
          "max": "5",
          "histogram": [
           {
            "bin_start": 1,
            "bin_end": 1.4,
            "count": 1
           },
           {
            "bin_start": 1.4,
            "bin_end": 1.8,
            "count": 0
           },
           {
            "bin_start": 1.8,
            "bin_end": 2.2,
            "count": 0
           },
           {
            "bin_start": 2.2,
            "bin_end": 2.6,
            "count": 0
           },
           {
            "bin_start": 2.6,
            "bin_end": 3,
            "count": 0
           },
           {
            "bin_start": 3,
            "bin_end": 3.4000000000000004,
            "count": 0
           },
           {
            "bin_start": 3.4000000000000004,
            "bin_end": 3.8000000000000003,
            "count": 0
           },
           {
            "bin_start": 3.8000000000000003,
            "bin_end": 4.2,
            "count": 0
           },
           {
            "bin_start": 4.2,
            "bin_end": 4.6,
            "count": 0
           },
           {
            "bin_start": 4.6,
            "bin_end": 5,
            "count": 1
           }
          ]
         }
        },
        {
         "name": "_deepnote_index_column",
         "dtype": "object"
        }
       ],
       "rows": [
        {
         "d": 0,
         "c": 3,
         "b": 2,
         "a": 1,
         "_deepnote_index_column": "2"
        },
        {
         "d": 4,
         "c": 7,
         "b": 6,
         "a": 5,
         "_deepnote_index_column": "1"
        }
       ]
      },
      "text/plain": "   d  c  b  a\n2  0  3  2  1\n1  4  7  6  5",
      "text/html": "<div>\n<style scoped>\n    .dataframe tbody tr th:only-of-type {\n        vertical-align: middle;\n    }\n\n    .dataframe tbody tr th {\n        vertical-align: top;\n    }\n\n    .dataframe thead th {\n        text-align: right;\n    }\n</style>\n<table border=\"1\" class=\"dataframe\">\n  <thead>\n    <tr style=\"text-align: right;\">\n      <th></th>\n      <th>d</th>\n      <th>c</th>\n      <th>b</th>\n      <th>a</th>\n    </tr>\n  </thead>\n  <tbody>\n    <tr>\n      <th>2</th>\n      <td>0</td>\n      <td>3</td>\n      <td>2</td>\n      <td>1</td>\n    </tr>\n    <tr>\n      <th>1</th>\n      <td>4</td>\n      <td>7</td>\n      <td>6</td>\n      <td>5</td>\n    </tr>\n  </tbody>\n</table>\n</div>"
     },
     "metadata": {}
    }
   ]
  },
  {
   "cell_type": "markdown",
   "source": "4.让任选两列数据同时降序排序",
   "metadata": {
    "cell_id": "00019-203779f9-d727-433b-ad3a-6fd8006642db",
    "deepnote_cell_type": "markdown",
    "deepnote_cell_height": 52.390625
   }
  },
  {
   "cell_type": "code",
   "metadata": {
    "cell_id": "00020-44d9275c-735a-45ef-a22c-08612067ba36",
    "deepnote_to_be_reexecuted": false,
    "source_hash": "bfd5432",
    "execution_start": 1648999662630,
    "execution_millis": 3,
    "deepnote_cell_type": "code",
    "deepnote_cell_height": 288
   },
   "source": "#代码\ndf1.sort_values(by=['a','c'],ascending=False)",
   "execution_count": null,
   "outputs": [
    {
     "output_type": "execute_result",
     "execution_count": 8,
     "data": {
      "application/vnd.deepnote.dataframe.v3+json": {
       "column_count": 4,
       "row_count": 2,
       "columns": [
        {
         "name": "d",
         "dtype": "int64",
         "stats": {
          "unique_count": 2,
          "nan_count": 0,
          "min": "0",
          "max": "4",
          "histogram": [
           {
            "bin_start": 0,
            "bin_end": 0.4,
            "count": 1
           },
           {
            "bin_start": 0.4,
            "bin_end": 0.8,
            "count": 0
           },
           {
            "bin_start": 0.8,
            "bin_end": 1.2000000000000002,
            "count": 0
           },
           {
            "bin_start": 1.2000000000000002,
            "bin_end": 1.6,
            "count": 0
           },
           {
            "bin_start": 1.6,
            "bin_end": 2,
            "count": 0
           },
           {
            "bin_start": 2,
            "bin_end": 2.4000000000000004,
            "count": 0
           },
           {
            "bin_start": 2.4000000000000004,
            "bin_end": 2.8000000000000003,
            "count": 0
           },
           {
            "bin_start": 2.8000000000000003,
            "bin_end": 3.2,
            "count": 0
           },
           {
            "bin_start": 3.2,
            "bin_end": 3.6,
            "count": 0
           },
           {
            "bin_start": 3.6,
            "bin_end": 4,
            "count": 1
           }
          ]
         }
        },
        {
         "name": "a",
         "dtype": "int64",
         "stats": {
          "unique_count": 2,
          "nan_count": 0,
          "min": "1",
          "max": "5",
          "histogram": [
           {
            "bin_start": 1,
            "bin_end": 1.4,
            "count": 1
           },
           {
            "bin_start": 1.4,
            "bin_end": 1.8,
            "count": 0
           },
           {
            "bin_start": 1.8,
            "bin_end": 2.2,
            "count": 0
           },
           {
            "bin_start": 2.2,
            "bin_end": 2.6,
            "count": 0
           },
           {
            "bin_start": 2.6,
            "bin_end": 3,
            "count": 0
           },
           {
            "bin_start": 3,
            "bin_end": 3.4000000000000004,
            "count": 0
           },
           {
            "bin_start": 3.4000000000000004,
            "bin_end": 3.8000000000000003,
            "count": 0
           },
           {
            "bin_start": 3.8000000000000003,
            "bin_end": 4.2,
            "count": 0
           },
           {
            "bin_start": 4.2,
            "bin_end": 4.6,
            "count": 0
           },
           {
            "bin_start": 4.6,
            "bin_end": 5,
            "count": 1
           }
          ]
         }
        },
        {
         "name": "b",
         "dtype": "int64",
         "stats": {
          "unique_count": 2,
          "nan_count": 0,
          "min": "2",
          "max": "6",
          "histogram": [
           {
            "bin_start": 2,
            "bin_end": 2.4,
            "count": 1
           },
           {
            "bin_start": 2.4,
            "bin_end": 2.8,
            "count": 0
           },
           {
            "bin_start": 2.8,
            "bin_end": 3.2,
            "count": 0
           },
           {
            "bin_start": 3.2,
            "bin_end": 3.6,
            "count": 0
           },
           {
            "bin_start": 3.6,
            "bin_end": 4,
            "count": 0
           },
           {
            "bin_start": 4,
            "bin_end": 4.4,
            "count": 0
           },
           {
            "bin_start": 4.4,
            "bin_end": 4.800000000000001,
            "count": 0
           },
           {
            "bin_start": 4.800000000000001,
            "bin_end": 5.2,
            "count": 0
           },
           {
            "bin_start": 5.2,
            "bin_end": 5.6,
            "count": 0
           },
           {
            "bin_start": 5.6,
            "bin_end": 6,
            "count": 1
           }
          ]
         }
        },
        {
         "name": "c",
         "dtype": "int64",
         "stats": {
          "unique_count": 2,
          "nan_count": 0,
          "min": "3",
          "max": "7",
          "histogram": [
           {
            "bin_start": 3,
            "bin_end": 3.4,
            "count": 1
           },
           {
            "bin_start": 3.4,
            "bin_end": 3.8,
            "count": 0
           },
           {
            "bin_start": 3.8,
            "bin_end": 4.2,
            "count": 0
           },
           {
            "bin_start": 4.2,
            "bin_end": 4.6,
            "count": 0
           },
           {
            "bin_start": 4.6,
            "bin_end": 5,
            "count": 0
           },
           {
            "bin_start": 5,
            "bin_end": 5.4,
            "count": 0
           },
           {
            "bin_start": 5.4,
            "bin_end": 5.800000000000001,
            "count": 0
           },
           {
            "bin_start": 5.800000000000001,
            "bin_end": 6.2,
            "count": 0
           },
           {
            "bin_start": 6.2,
            "bin_end": 6.6,
            "count": 0
           },
           {
            "bin_start": 6.6,
            "bin_end": 7,
            "count": 1
           }
          ]
         }
        },
        {
         "name": "_deepnote_index_column",
         "dtype": "object"
        }
       ],
       "rows": [
        {
         "d": 4,
         "a": 5,
         "b": 6,
         "c": 7,
         "_deepnote_index_column": "1"
        },
        {
         "d": 0,
         "a": 1,
         "b": 2,
         "c": 3,
         "_deepnote_index_column": "2"
        }
       ]
      },
      "text/plain": "   d  a  b  c\n1  4  5  6  7\n2  0  1  2  3",
      "text/html": "<div>\n<style scoped>\n    .dataframe tbody tr th:only-of-type {\n        vertical-align: middle;\n    }\n\n    .dataframe tbody tr th {\n        vertical-align: top;\n    }\n\n    .dataframe thead th {\n        text-align: right;\n    }\n</style>\n<table border=\"1\" class=\"dataframe\">\n  <thead>\n    <tr style=\"text-align: right;\">\n      <th></th>\n      <th>d</th>\n      <th>a</th>\n      <th>b</th>\n      <th>c</th>\n    </tr>\n  </thead>\n  <tbody>\n    <tr>\n      <th>1</th>\n      <td>4</td>\n      <td>5</td>\n      <td>6</td>\n      <td>7</td>\n    </tr>\n    <tr>\n      <th>2</th>\n      <td>0</td>\n      <td>1</td>\n      <td>2</td>\n      <td>3</td>\n    </tr>\n  </tbody>\n</table>\n</div>"
     },
     "metadata": {}
    }
   ]
  },
  {
   "cell_type": "markdown",
   "source": "#### 1.6.2 任务二：对泰坦尼克号数据（trian.csv）按票价和年龄两列进行综合排序（降序排列），从这个数据中你可以分析出什么？",
   "metadata": {
    "cell_id": "00021-700e9565-d72a-4f03-9c63-62307fdd6f5b",
    "deepnote_cell_type": "markdown",
    "deepnote_cell_height": 78
   }
  },
  {
   "cell_type": "code",
   "metadata": {
    "scrolled": true,
    "cell_id": "00022-3c4b94d3-cb06-4ad7-a080-ac20758b6897",
    "deepnote_to_be_reexecuted": false,
    "source_hash": "cace5c9c",
    "execution_start": 1648999662634,
    "execution_millis": 66,
    "deepnote_cell_type": "code",
    "deepnote_cell_height": 793.5625,
    "deepnote_output_heights": [
     59.5625
    ]
   },
   "source": "'''\n在开始我们已经导入了train_chinese.csv数据，而且前面我们也学习了导入数据过程，根据上面学习，我们直接对目标列进行排序即可\nhead(20) : 读取前20条数据\n'''\ndisplay(df.columns.values)\ndf.head(20)",
   "execution_count": null,
   "outputs": [
    {
     "data": {
      "text/plain": "array(['survived', 'pclass', 'sex', 'age', 'sibsp', 'parch', 'fare',\n       'embarked', 'class', 'who', 'adult_male', 'deck', 'embark_town',\n       'alive', 'alone'], dtype=object)"
     },
     "metadata": {},
     "output_type": "display_data"
    },
    {
     "output_type": "execute_result",
     "execution_count": 9,
     "data": {
      "application/vnd.deepnote.dataframe.v3+json": {
       "column_count": 15,
       "row_count": 20,
       "columns": [
        {
         "name": "survived",
         "dtype": "int64",
         "stats": {
          "unique_count": 2,
          "nan_count": 0,
          "min": "0",
          "max": "1",
          "histogram": [
           {
            "bin_start": 0,
            "bin_end": 0.1,
            "count": 10
           },
           {
            "bin_start": 0.1,
            "bin_end": 0.2,
            "count": 0
           },
           {
            "bin_start": 0.2,
            "bin_end": 0.30000000000000004,
            "count": 0
           },
           {
            "bin_start": 0.30000000000000004,
            "bin_end": 0.4,
            "count": 0
           },
           {
            "bin_start": 0.4,
            "bin_end": 0.5,
            "count": 0
           },
           {
            "bin_start": 0.5,
            "bin_end": 0.6000000000000001,
            "count": 0
           },
           {
            "bin_start": 0.6000000000000001,
            "bin_end": 0.7000000000000001,
            "count": 0
           },
           {
            "bin_start": 0.7000000000000001,
            "bin_end": 0.8,
            "count": 0
           },
           {
            "bin_start": 0.8,
            "bin_end": 0.9,
            "count": 0
           },
           {
            "bin_start": 0.9,
            "bin_end": 1,
            "count": 10
           }
          ]
         }
        },
        {
         "name": "pclass",
         "dtype": "int64",
         "stats": {
          "unique_count": 3,
          "nan_count": 0,
          "min": "1",
          "max": "3",
          "histogram": [
           {
            "bin_start": 1,
            "bin_end": 1.2,
            "count": 4
           },
           {
            "bin_start": 1.2,
            "bin_end": 1.4,
            "count": 0
           },
           {
            "bin_start": 1.4,
            "bin_end": 1.6,
            "count": 0
           },
           {
            "bin_start": 1.6,
            "bin_end": 1.8,
            "count": 0
           },
           {
            "bin_start": 1.8,
            "bin_end": 2,
            "count": 0
           },
           {
            "bin_start": 2,
            "bin_end": 2.2,
            "count": 3
           },
           {
            "bin_start": 2.2,
            "bin_end": 2.4000000000000004,
            "count": 0
           },
           {
            "bin_start": 2.4000000000000004,
            "bin_end": 2.6,
            "count": 0
           },
           {
            "bin_start": 2.6,
            "bin_end": 2.8,
            "count": 0
           },
           {
            "bin_start": 2.8,
            "bin_end": 3,
            "count": 13
           }
          ]
         }
        },
        {
         "name": "sex",
         "dtype": "object",
         "stats": {
          "unique_count": 2,
          "nan_count": 0,
          "categories": [
           {
            "name": "female",
            "count": 11
           },
           {
            "name": "male",
            "count": 9
           }
          ]
         }
        },
        {
         "name": "age",
         "dtype": "float64",
         "stats": {
          "unique_count": 14,
          "nan_count": 3,
          "min": "2.0",
          "max": "58.0",
          "histogram": [
           {
            "bin_start": 2,
            "bin_end": 7.6,
            "count": 3
           },
           {
            "bin_start": 7.6,
            "bin_end": 13.2,
            "count": 0
           },
           {
            "bin_start": 13.2,
            "bin_end": 18.799999999999997,
            "count": 2
           },
           {
            "bin_start": 18.799999999999997,
            "bin_end": 24.4,
            "count": 2
           },
           {
            "bin_start": 24.4,
            "bin_end": 30,
            "count": 2
           },
           {
            "bin_start": 30,
            "bin_end": 35.599999999999994,
            "count": 3
           },
           {
            "bin_start": 35.599999999999994,
            "bin_end": 41.199999999999996,
            "count": 2
           },
           {
            "bin_start": 41.199999999999996,
            "bin_end": 46.8,
            "count": 0
           },
           {
            "bin_start": 46.8,
            "bin_end": 52.4,
            "count": 0
           },
           {
            "bin_start": 52.4,
            "bin_end": 58,
            "count": 3
           }
          ]
         }
        },
        {
         "name": "sibsp",
         "dtype": "int64",
         "stats": {
          "unique_count": 4,
          "nan_count": 0,
          "min": "0",
          "max": "4",
          "histogram": [
           {
            "bin_start": 0,
            "bin_end": 0.4,
            "count": 11
           },
           {
            "bin_start": 0.4,
            "bin_end": 0.8,
            "count": 0
           },
           {
            "bin_start": 0.8,
            "bin_end": 1.2000000000000002,
            "count": 7
           },
           {
            "bin_start": 1.2000000000000002,
            "bin_end": 1.6,
            "count": 0
           },
           {
            "bin_start": 1.6,
            "bin_end": 2,
            "count": 0
           },
           {
            "bin_start": 2,
            "bin_end": 2.4000000000000004,
            "count": 0
           },
           {
            "bin_start": 2.4000000000000004,
            "bin_end": 2.8000000000000003,
            "count": 0
           },
           {
            "bin_start": 2.8000000000000003,
            "bin_end": 3.2,
            "count": 1
           },
           {
            "bin_start": 3.2,
            "bin_end": 3.6,
            "count": 0
           },
           {
            "bin_start": 3.6,
            "bin_end": 4,
            "count": 1
           }
          ]
         }
        },
        {
         "name": "parch",
         "dtype": "int64",
         "stats": {
          "unique_count": 4,
          "nan_count": 0,
          "min": "0",
          "max": "5",
          "histogram": [
           {
            "bin_start": 0,
            "bin_end": 0.5,
            "count": 15
           },
           {
            "bin_start": 0.5,
            "bin_end": 1,
            "count": 0
           },
           {
            "bin_start": 1,
            "bin_end": 1.5,
            "count": 3
           },
           {
            "bin_start": 1.5,
            "bin_end": 2,
            "count": 0
           },
           {
            "bin_start": 2,
            "bin_end": 2.5,
            "count": 1
           },
           {
            "bin_start": 2.5,
            "bin_end": 3,
            "count": 0
           },
           {
            "bin_start": 3,
            "bin_end": 3.5,
            "count": 0
           },
           {
            "bin_start": 3.5,
            "bin_end": 4,
            "count": 0
           },
           {
            "bin_start": 4,
            "bin_end": 4.5,
            "count": 0
           },
           {
            "bin_start": 4.5,
            "bin_end": 5,
            "count": 1
           }
          ]
         }
        },
        {
         "name": "fare",
         "dtype": "float64",
         "stats": {
          "unique_count": 19,
          "nan_count": 0,
          "min": "7.225",
          "max": "71.2833",
          "histogram": [
           {
            "bin_start": 7.225,
            "bin_end": 13.63083,
            "count": 9
           },
           {
            "bin_start": 13.63083,
            "bin_end": 20.036659999999998,
            "count": 3
           },
           {
            "bin_start": 20.036659999999998,
            "bin_end": 26.44249,
            "count": 1
           },
           {
            "bin_start": 26.44249,
            "bin_end": 32.84832,
            "count": 4
           },
           {
            "bin_start": 32.84832,
            "bin_end": 39.25415,
            "count": 0
           },
           {
            "bin_start": 39.25415,
            "bin_end": 45.65998,
            "count": 0
           },
           {
            "bin_start": 45.65998,
            "bin_end": 52.06581,
            "count": 1
           },
           {
            "bin_start": 52.06581,
            "bin_end": 58.47164,
            "count": 1
           },
           {
            "bin_start": 58.47164,
            "bin_end": 64.87747,
            "count": 0
           },
           {
            "bin_start": 64.87747,
            "bin_end": 71.2833,
            "count": 1
           }
          ]
         }
        },
        {
         "name": "embarked",
         "dtype": "object",
         "stats": {
          "unique_count": 3,
          "nan_count": 0,
          "categories": [
           {
            "name": "S",
            "count": 15
           },
           {
            "name": "C",
            "count": 3
           },
           {
            "name": "Q",
            "count": 2
           }
          ]
         }
        },
        {
         "name": "class",
         "dtype": "category",
         "stats": {
          "unique_count": 3,
          "nan_count": 0,
          "categories": [
           {
            "name": "Third",
            "count": 13
           },
           {
            "name": "First",
            "count": 4
           },
           {
            "name": "Second",
            "count": 3
           }
          ]
         }
        },
        {
         "name": "who",
         "dtype": "object",
         "stats": {
          "unique_count": 3,
          "nan_count": 0,
          "categories": [
           {
            "name": "woman",
            "count": 8
           },
           {
            "name": "man",
            "count": 7
           },
           {
            "name": "child",
            "count": 5
           }
          ]
         }
        },
        {
         "name": "adult_male",
         "dtype": "bool",
         "stats": {
          "unique_count": 2,
          "nan_count": 0,
          "categories": [
           {
            "name": "False",
            "count": 13
           },
           {
            "name": "True",
            "count": 7
           }
          ]
         }
        },
        {
         "name": "deck",
         "dtype": "category",
         "stats": {
          "unique_count": 3,
          "nan_count": 15,
          "categories": [
           {
            "name": "C",
            "count": 3
           },
           {
            "name": "2 others",
            "count": 2
           },
           {
            "name": "Missing",
            "count": 15
           }
          ]
         }
        },
        {
         "name": "embark_town",
         "dtype": "object",
         "stats": {
          "unique_count": 3,
          "nan_count": 0,
          "categories": [
           {
            "name": "Southampton",
            "count": 15
           },
           {
            "name": "Cherbourg",
            "count": 3
           },
           {
            "name": "Queenstown",
            "count": 2
           }
          ]
         }
        },
        {
         "name": "alive",
         "dtype": "object",
         "stats": {
          "unique_count": 2,
          "nan_count": 0,
          "categories": [
           {
            "name": "no",
            "count": 10
           },
           {
            "name": "yes",
            "count": 10
           }
          ]
         }
        },
        {
         "name": "alone",
         "dtype": "bool",
         "stats": {
          "unique_count": 2,
          "nan_count": 0,
          "categories": [
           {
            "name": "False",
            "count": 10
           },
           {
            "name": "True",
            "count": 10
           }
          ]
         }
        },
        {
         "name": "_deepnote_index_column",
         "dtype": "int64"
        }
       ],
       "rows": [
        {
         "survived": 0,
         "pclass": 3,
         "sex": "male",
         "age": 22,
         "sibsp": 1,
         "parch": 0,
         "fare": 7.25,
         "embarked": "S",
         "class": "Third",
         "who": "man",
         "adult_male": true,
         "deck": "nan",
         "embark_town": "Southampton",
         "alive": "no",
         "alone": false,
         "_deepnote_index_column": 0
        },
        {
         "survived": 1,
         "pclass": 1,
         "sex": "female",
         "age": 38,
         "sibsp": 1,
         "parch": 0,
         "fare": 71.2833,
         "embarked": "C",
         "class": "First",
         "who": "woman",
         "adult_male": false,
         "deck": "C",
         "embark_town": "Cherbourg",
         "alive": "yes",
         "alone": false,
         "_deepnote_index_column": 1
        },
        {
         "survived": 1,
         "pclass": 3,
         "sex": "female",
         "age": 26,
         "sibsp": 0,
         "parch": 0,
         "fare": 7.925,
         "embarked": "S",
         "class": "Third",
         "who": "woman",
         "adult_male": false,
         "deck": "nan",
         "embark_town": "Southampton",
         "alive": "yes",
         "alone": true,
         "_deepnote_index_column": 2
        },
        {
         "survived": 1,
         "pclass": 1,
         "sex": "female",
         "age": 35,
         "sibsp": 1,
         "parch": 0,
         "fare": 53.1,
         "embarked": "S",
         "class": "First",
         "who": "woman",
         "adult_male": false,
         "deck": "C",
         "embark_town": "Southampton",
         "alive": "yes",
         "alone": false,
         "_deepnote_index_column": 3
        },
        {
         "survived": 0,
         "pclass": 3,
         "sex": "male",
         "age": 35,
         "sibsp": 0,
         "parch": 0,
         "fare": 8.05,
         "embarked": "S",
         "class": "Third",
         "who": "man",
         "adult_male": true,
         "deck": "nan",
         "embark_town": "Southampton",
         "alive": "no",
         "alone": true,
         "_deepnote_index_column": 4
        },
        {
         "survived": 0,
         "pclass": 3,
         "sex": "male",
         "age": "nan",
         "sibsp": 0,
         "parch": 0,
         "fare": 8.4583,
         "embarked": "Q",
         "class": "Third",
         "who": "man",
         "adult_male": true,
         "deck": "nan",
         "embark_town": "Queenstown",
         "alive": "no",
         "alone": true,
         "_deepnote_index_column": 5
        },
        {
         "survived": 0,
         "pclass": 1,
         "sex": "male",
         "age": 54,
         "sibsp": 0,
         "parch": 0,
         "fare": 51.8625,
         "embarked": "S",
         "class": "First",
         "who": "man",
         "adult_male": true,
         "deck": "E",
         "embark_town": "Southampton",
         "alive": "no",
         "alone": true,
         "_deepnote_index_column": 6
        },
        {
         "survived": 0,
         "pclass": 3,
         "sex": "male",
         "age": 2,
         "sibsp": 3,
         "parch": 1,
         "fare": 21.075,
         "embarked": "S",
         "class": "Third",
         "who": "child",
         "adult_male": false,
         "deck": "nan",
         "embark_town": "Southampton",
         "alive": "no",
         "alone": false,
         "_deepnote_index_column": 7
        },
        {
         "survived": 1,
         "pclass": 3,
         "sex": "female",
         "age": 27,
         "sibsp": 0,
         "parch": 2,
         "fare": 11.1333,
         "embarked": "S",
         "class": "Third",
         "who": "woman",
         "adult_male": false,
         "deck": "nan",
         "embark_town": "Southampton",
         "alive": "yes",
         "alone": false,
         "_deepnote_index_column": 8
        },
        {
         "survived": 1,
         "pclass": 2,
         "sex": "female",
         "age": 14,
         "sibsp": 1,
         "parch": 0,
         "fare": 30.0708,
         "embarked": "C",
         "class": "Second",
         "who": "child",
         "adult_male": false,
         "deck": "nan",
         "embark_town": "Cherbourg",
         "alive": "yes",
         "alone": false,
         "_deepnote_index_column": 9
        }
       ]
      },
      "text/plain": "    survived  pclass     sex   age  sibsp  parch     fare embarked   class  \\\n0          0       3    male  22.0      1      0   7.2500        S   Third   \n1          1       1  female  38.0      1      0  71.2833        C   First   \n2          1       3  female  26.0      0      0   7.9250        S   Third   \n3          1       1  female  35.0      1      0  53.1000        S   First   \n4          0       3    male  35.0      0      0   8.0500        S   Third   \n5          0       3    male   NaN      0      0   8.4583        Q   Third   \n6          0       1    male  54.0      0      0  51.8625        S   First   \n7          0       3    male   2.0      3      1  21.0750        S   Third   \n8          1       3  female  27.0      0      2  11.1333        S   Third   \n9          1       2  female  14.0      1      0  30.0708        C  Second   \n10         1       3  female   4.0      1      1  16.7000        S   Third   \n11         1       1  female  58.0      0      0  26.5500        S   First   \n12         0       3    male  20.0      0      0   8.0500        S   Third   \n13         0       3    male  39.0      1      5  31.2750        S   Third   \n14         0       3  female  14.0      0      0   7.8542        S   Third   \n15         1       2  female  55.0      0      0  16.0000        S  Second   \n16         0       3    male   2.0      4      1  29.1250        Q   Third   \n17         1       2    male   NaN      0      0  13.0000        S  Second   \n18         0       3  female  31.0      1      0  18.0000        S   Third   \n19         1       3  female   NaN      0      0   7.2250        C   Third   \n\n      who  adult_male deck  embark_town alive  alone  \n0     man        True  NaN  Southampton    no  False  \n1   woman       False    C    Cherbourg   yes  False  \n2   woman       False  NaN  Southampton   yes   True  \n3   woman       False    C  Southampton   yes  False  \n4     man        True  NaN  Southampton    no   True  \n5     man        True  NaN   Queenstown    no   True  \n6     man        True    E  Southampton    no   True  \n7   child       False  NaN  Southampton    no  False  \n8   woman       False  NaN  Southampton   yes  False  \n9   child       False  NaN    Cherbourg   yes  False  \n10  child       False    G  Southampton   yes  False  \n11  woman       False    C  Southampton   yes   True  \n12    man        True  NaN  Southampton    no   True  \n13    man        True  NaN  Southampton    no  False  \n14  child       False  NaN  Southampton    no   True  \n15  woman       False  NaN  Southampton   yes   True  \n16  child       False  NaN   Queenstown    no  False  \n17    man        True  NaN  Southampton   yes   True  \n18  woman       False  NaN  Southampton    no  False  \n19  woman       False  NaN    Cherbourg   yes   True  ",
      "text/html": "<div>\n<style scoped>\n    .dataframe tbody tr th:only-of-type {\n        vertical-align: middle;\n    }\n\n    .dataframe tbody tr th {\n        vertical-align: top;\n    }\n\n    .dataframe thead th {\n        text-align: right;\n    }\n</style>\n<table border=\"1\" class=\"dataframe\">\n  <thead>\n    <tr style=\"text-align: right;\">\n      <th></th>\n      <th>survived</th>\n      <th>pclass</th>\n      <th>sex</th>\n      <th>age</th>\n      <th>sibsp</th>\n      <th>parch</th>\n      <th>fare</th>\n      <th>embarked</th>\n      <th>class</th>\n      <th>who</th>\n      <th>adult_male</th>\n      <th>deck</th>\n      <th>embark_town</th>\n      <th>alive</th>\n      <th>alone</th>\n    </tr>\n  </thead>\n  <tbody>\n    <tr>\n      <th>0</th>\n      <td>0</td>\n      <td>3</td>\n      <td>male</td>\n      <td>22.0</td>\n      <td>1</td>\n      <td>0</td>\n      <td>7.2500</td>\n      <td>S</td>\n      <td>Third</td>\n      <td>man</td>\n      <td>True</td>\n      <td>NaN</td>\n      <td>Southampton</td>\n      <td>no</td>\n      <td>False</td>\n    </tr>\n    <tr>\n      <th>1</th>\n      <td>1</td>\n      <td>1</td>\n      <td>female</td>\n      <td>38.0</td>\n      <td>1</td>\n      <td>0</td>\n      <td>71.2833</td>\n      <td>C</td>\n      <td>First</td>\n      <td>woman</td>\n      <td>False</td>\n      <td>C</td>\n      <td>Cherbourg</td>\n      <td>yes</td>\n      <td>False</td>\n    </tr>\n    <tr>\n      <th>2</th>\n      <td>1</td>\n      <td>3</td>\n      <td>female</td>\n      <td>26.0</td>\n      <td>0</td>\n      <td>0</td>\n      <td>7.9250</td>\n      <td>S</td>\n      <td>Third</td>\n      <td>woman</td>\n      <td>False</td>\n      <td>NaN</td>\n      <td>Southampton</td>\n      <td>yes</td>\n      <td>True</td>\n    </tr>\n    <tr>\n      <th>3</th>\n      <td>1</td>\n      <td>1</td>\n      <td>female</td>\n      <td>35.0</td>\n      <td>1</td>\n      <td>0</td>\n      <td>53.1000</td>\n      <td>S</td>\n      <td>First</td>\n      <td>woman</td>\n      <td>False</td>\n      <td>C</td>\n      <td>Southampton</td>\n      <td>yes</td>\n      <td>False</td>\n    </tr>\n    <tr>\n      <th>4</th>\n      <td>0</td>\n      <td>3</td>\n      <td>male</td>\n      <td>35.0</td>\n      <td>0</td>\n      <td>0</td>\n      <td>8.0500</td>\n      <td>S</td>\n      <td>Third</td>\n      <td>man</td>\n      <td>True</td>\n      <td>NaN</td>\n      <td>Southampton</td>\n      <td>no</td>\n      <td>True</td>\n    </tr>\n    <tr>\n      <th>5</th>\n      <td>0</td>\n      <td>3</td>\n      <td>male</td>\n      <td>NaN</td>\n      <td>0</td>\n      <td>0</td>\n      <td>8.4583</td>\n      <td>Q</td>\n      <td>Third</td>\n      <td>man</td>\n      <td>True</td>\n      <td>NaN</td>\n      <td>Queenstown</td>\n      <td>no</td>\n      <td>True</td>\n    </tr>\n    <tr>\n      <th>6</th>\n      <td>0</td>\n      <td>1</td>\n      <td>male</td>\n      <td>54.0</td>\n      <td>0</td>\n      <td>0</td>\n      <td>51.8625</td>\n      <td>S</td>\n      <td>First</td>\n      <td>man</td>\n      <td>True</td>\n      <td>E</td>\n      <td>Southampton</td>\n      <td>no</td>\n      <td>True</td>\n    </tr>\n    <tr>\n      <th>7</th>\n      <td>0</td>\n      <td>3</td>\n      <td>male</td>\n      <td>2.0</td>\n      <td>3</td>\n      <td>1</td>\n      <td>21.0750</td>\n      <td>S</td>\n      <td>Third</td>\n      <td>child</td>\n      <td>False</td>\n      <td>NaN</td>\n      <td>Southampton</td>\n      <td>no</td>\n      <td>False</td>\n    </tr>\n    <tr>\n      <th>8</th>\n      <td>1</td>\n      <td>3</td>\n      <td>female</td>\n      <td>27.0</td>\n      <td>0</td>\n      <td>2</td>\n      <td>11.1333</td>\n      <td>S</td>\n      <td>Third</td>\n      <td>woman</td>\n      <td>False</td>\n      <td>NaN</td>\n      <td>Southampton</td>\n      <td>yes</td>\n      <td>False</td>\n    </tr>\n    <tr>\n      <th>9</th>\n      <td>1</td>\n      <td>2</td>\n      <td>female</td>\n      <td>14.0</td>\n      <td>1</td>\n      <td>0</td>\n      <td>30.0708</td>\n      <td>C</td>\n      <td>Second</td>\n      <td>child</td>\n      <td>False</td>\n      <td>NaN</td>\n      <td>Cherbourg</td>\n      <td>yes</td>\n      <td>False</td>\n    </tr>\n    <tr>\n      <th>10</th>\n      <td>1</td>\n      <td>3</td>\n      <td>female</td>\n      <td>4.0</td>\n      <td>1</td>\n      <td>1</td>\n      <td>16.7000</td>\n      <td>S</td>\n      <td>Third</td>\n      <td>child</td>\n      <td>False</td>\n      <td>G</td>\n      <td>Southampton</td>\n      <td>yes</td>\n      <td>False</td>\n    </tr>\n    <tr>\n      <th>11</th>\n      <td>1</td>\n      <td>1</td>\n      <td>female</td>\n      <td>58.0</td>\n      <td>0</td>\n      <td>0</td>\n      <td>26.5500</td>\n      <td>S</td>\n      <td>First</td>\n      <td>woman</td>\n      <td>False</td>\n      <td>C</td>\n      <td>Southampton</td>\n      <td>yes</td>\n      <td>True</td>\n    </tr>\n    <tr>\n      <th>12</th>\n      <td>0</td>\n      <td>3</td>\n      <td>male</td>\n      <td>20.0</td>\n      <td>0</td>\n      <td>0</td>\n      <td>8.0500</td>\n      <td>S</td>\n      <td>Third</td>\n      <td>man</td>\n      <td>True</td>\n      <td>NaN</td>\n      <td>Southampton</td>\n      <td>no</td>\n      <td>True</td>\n    </tr>\n    <tr>\n      <th>13</th>\n      <td>0</td>\n      <td>3</td>\n      <td>male</td>\n      <td>39.0</td>\n      <td>1</td>\n      <td>5</td>\n      <td>31.2750</td>\n      <td>S</td>\n      <td>Third</td>\n      <td>man</td>\n      <td>True</td>\n      <td>NaN</td>\n      <td>Southampton</td>\n      <td>no</td>\n      <td>False</td>\n    </tr>\n    <tr>\n      <th>14</th>\n      <td>0</td>\n      <td>3</td>\n      <td>female</td>\n      <td>14.0</td>\n      <td>0</td>\n      <td>0</td>\n      <td>7.8542</td>\n      <td>S</td>\n      <td>Third</td>\n      <td>child</td>\n      <td>False</td>\n      <td>NaN</td>\n      <td>Southampton</td>\n      <td>no</td>\n      <td>True</td>\n    </tr>\n    <tr>\n      <th>15</th>\n      <td>1</td>\n      <td>2</td>\n      <td>female</td>\n      <td>55.0</td>\n      <td>0</td>\n      <td>0</td>\n      <td>16.0000</td>\n      <td>S</td>\n      <td>Second</td>\n      <td>woman</td>\n      <td>False</td>\n      <td>NaN</td>\n      <td>Southampton</td>\n      <td>yes</td>\n      <td>True</td>\n    </tr>\n    <tr>\n      <th>16</th>\n      <td>0</td>\n      <td>3</td>\n      <td>male</td>\n      <td>2.0</td>\n      <td>4</td>\n      <td>1</td>\n      <td>29.1250</td>\n      <td>Q</td>\n      <td>Third</td>\n      <td>child</td>\n      <td>False</td>\n      <td>NaN</td>\n      <td>Queenstown</td>\n      <td>no</td>\n      <td>False</td>\n    </tr>\n    <tr>\n      <th>17</th>\n      <td>1</td>\n      <td>2</td>\n      <td>male</td>\n      <td>NaN</td>\n      <td>0</td>\n      <td>0</td>\n      <td>13.0000</td>\n      <td>S</td>\n      <td>Second</td>\n      <td>man</td>\n      <td>True</td>\n      <td>NaN</td>\n      <td>Southampton</td>\n      <td>yes</td>\n      <td>True</td>\n    </tr>\n    <tr>\n      <th>18</th>\n      <td>0</td>\n      <td>3</td>\n      <td>female</td>\n      <td>31.0</td>\n      <td>1</td>\n      <td>0</td>\n      <td>18.0000</td>\n      <td>S</td>\n      <td>Third</td>\n      <td>woman</td>\n      <td>False</td>\n      <td>NaN</td>\n      <td>Southampton</td>\n      <td>no</td>\n      <td>False</td>\n    </tr>\n    <tr>\n      <th>19</th>\n      <td>1</td>\n      <td>3</td>\n      <td>female</td>\n      <td>NaN</td>\n      <td>0</td>\n      <td>0</td>\n      <td>7.2250</td>\n      <td>C</td>\n      <td>Third</td>\n      <td>woman</td>\n      <td>False</td>\n      <td>NaN</td>\n      <td>Cherbourg</td>\n      <td>yes</td>\n      <td>True</td>\n    </tr>\n  </tbody>\n</table>\n</div>"
     },
     "metadata": {}
    }
   ]
  },
  {
   "cell_type": "code",
   "metadata": {
    "cell_id": "00023-0acd5b3e-0fa3-4446-9f43-fe05f401d0be",
    "deepnote_to_be_reexecuted": false,
    "source_hash": "a8363a1",
    "execution_start": 1648999662699,
    "execution_millis": 59,
    "deepnote_cell_type": "code",
    "deepnote_cell_height": 631
   },
   "source": "#代码\ndf.sort_values(by=['fare','age'],ascending=False)",
   "execution_count": null,
   "outputs": [
    {
     "output_type": "execute_result",
     "execution_count": 10,
     "data": {
      "application/vnd.deepnote.dataframe.v3+json": {
       "column_count": 15,
       "row_count": 891,
       "columns": [
        {
         "name": "survived",
         "dtype": "int64",
         "stats": {
          "unique_count": 2,
          "nan_count": 0,
          "min": "0",
          "max": "1",
          "histogram": [
           {
            "bin_start": 0,
            "bin_end": 0.1,
            "count": 549
           },
           {
            "bin_start": 0.1,
            "bin_end": 0.2,
            "count": 0
           },
           {
            "bin_start": 0.2,
            "bin_end": 0.30000000000000004,
            "count": 0
           },
           {
            "bin_start": 0.30000000000000004,
            "bin_end": 0.4,
            "count": 0
           },
           {
            "bin_start": 0.4,
            "bin_end": 0.5,
            "count": 0
           },
           {
            "bin_start": 0.5,
            "bin_end": 0.6000000000000001,
            "count": 0
           },
           {
            "bin_start": 0.6000000000000001,
            "bin_end": 0.7000000000000001,
            "count": 0
           },
           {
            "bin_start": 0.7000000000000001,
            "bin_end": 0.8,
            "count": 0
           },
           {
            "bin_start": 0.8,
            "bin_end": 0.9,
            "count": 0
           },
           {
            "bin_start": 0.9,
            "bin_end": 1,
            "count": 342
           }
          ]
         }
        },
        {
         "name": "pclass",
         "dtype": "int64",
         "stats": {
          "unique_count": 3,
          "nan_count": 0,
          "min": "1",
          "max": "3",
          "histogram": [
           {
            "bin_start": 1,
            "bin_end": 1.2,
            "count": 216
           },
           {
            "bin_start": 1.2,
            "bin_end": 1.4,
            "count": 0
           },
           {
            "bin_start": 1.4,
            "bin_end": 1.6,
            "count": 0
           },
           {
            "bin_start": 1.6,
            "bin_end": 1.8,
            "count": 0
           },
           {
            "bin_start": 1.8,
            "bin_end": 2,
            "count": 0
           },
           {
            "bin_start": 2,
            "bin_end": 2.2,
            "count": 184
           },
           {
            "bin_start": 2.2,
            "bin_end": 2.4000000000000004,
            "count": 0
           },
           {
            "bin_start": 2.4000000000000004,
            "bin_end": 2.6,
            "count": 0
           },
           {
            "bin_start": 2.6,
            "bin_end": 2.8,
            "count": 0
           },
           {
            "bin_start": 2.8,
            "bin_end": 3,
            "count": 491
           }
          ]
         }
        },
        {
         "name": "sex",
         "dtype": "object",
         "stats": {
          "unique_count": 2,
          "nan_count": 0,
          "categories": [
           {
            "name": "male",
            "count": 577
           },
           {
            "name": "female",
            "count": 314
           }
          ]
         }
        },
        {
         "name": "age",
         "dtype": "float64",
         "stats": {
          "unique_count": 88,
          "nan_count": 177,
          "min": "0.42",
          "max": "80.0",
          "histogram": [
           {
            "bin_start": 0.42,
            "bin_end": 8.378,
            "count": 54
           },
           {
            "bin_start": 8.378,
            "bin_end": 16.336000000000002,
            "count": 46
           },
           {
            "bin_start": 16.336000000000002,
            "bin_end": 24.294000000000004,
            "count": 177
           },
           {
            "bin_start": 24.294000000000004,
            "bin_end": 32.252,
            "count": 169
           },
           {
            "bin_start": 32.252,
            "bin_end": 40.21,
            "count": 118
           },
           {
            "bin_start": 40.21,
            "bin_end": 48.168000000000006,
            "count": 70
           },
           {
            "bin_start": 48.168000000000006,
            "bin_end": 56.126000000000005,
            "count": 45
           },
           {
            "bin_start": 56.126000000000005,
            "bin_end": 64.084,
            "count": 24
           },
           {
            "bin_start": 64.084,
            "bin_end": 72.042,
            "count": 9
           },
           {
            "bin_start": 72.042,
            "bin_end": 80,
            "count": 2
           }
          ]
         }
        },
        {
         "name": "sibsp",
         "dtype": "int64",
         "stats": {
          "unique_count": 7,
          "nan_count": 0,
          "min": "0",
          "max": "8",
          "histogram": [
           {
            "bin_start": 0,
            "bin_end": 0.8,
            "count": 608
           },
           {
            "bin_start": 0.8,
            "bin_end": 1.6,
            "count": 209
           },
           {
            "bin_start": 1.6,
            "bin_end": 2.4000000000000004,
            "count": 28
           },
           {
            "bin_start": 2.4000000000000004,
            "bin_end": 3.2,
            "count": 16
           },
           {
            "bin_start": 3.2,
            "bin_end": 4,
            "count": 0
           },
           {
            "bin_start": 4,
            "bin_end": 4.800000000000001,
            "count": 18
           },
           {
            "bin_start": 4.800000000000001,
            "bin_end": 5.6000000000000005,
            "count": 5
           },
           {
            "bin_start": 5.6000000000000005,
            "bin_end": 6.4,
            "count": 0
           },
           {
            "bin_start": 6.4,
            "bin_end": 7.2,
            "count": 0
           },
           {
            "bin_start": 7.2,
            "bin_end": 8,
            "count": 7
           }
          ]
         }
        },
        {
         "name": "parch",
         "dtype": "int64",
         "stats": {
          "unique_count": 7,
          "nan_count": 0,
          "min": "0",
          "max": "6",
          "histogram": [
           {
            "bin_start": 0,
            "bin_end": 0.6,
            "count": 678
           },
           {
            "bin_start": 0.6,
            "bin_end": 1.2,
            "count": 118
           },
           {
            "bin_start": 1.2,
            "bin_end": 1.7999999999999998,
            "count": 0
           },
           {
            "bin_start": 1.7999999999999998,
            "bin_end": 2.4,
            "count": 80
           },
           {
            "bin_start": 2.4,
            "bin_end": 3,
            "count": 0
           },
           {
            "bin_start": 3,
            "bin_end": 3.5999999999999996,
            "count": 5
           },
           {
            "bin_start": 3.5999999999999996,
            "bin_end": 4.2,
            "count": 4
           },
           {
            "bin_start": 4.2,
            "bin_end": 4.8,
            "count": 0
           },
           {
            "bin_start": 4.8,
            "bin_end": 5.3999999999999995,
            "count": 5
           },
           {
            "bin_start": 5.3999999999999995,
            "bin_end": 6,
            "count": 1
           }
          ]
         }
        },
        {
         "name": "fare",
         "dtype": "float64",
         "stats": {
          "unique_count": 248,
          "nan_count": 0,
          "min": "0.0",
          "max": "512.3292",
          "histogram": [
           {
            "bin_start": 0,
            "bin_end": 51.23292,
            "count": 732
           },
           {
            "bin_start": 51.23292,
            "bin_end": 102.46584,
            "count": 106
           },
           {
            "bin_start": 102.46584,
            "bin_end": 153.69876,
            "count": 31
           },
           {
            "bin_start": 153.69876,
            "bin_end": 204.93168,
            "count": 2
           },
           {
            "bin_start": 204.93168,
            "bin_end": 256.1646,
            "count": 11
           },
           {
            "bin_start": 256.1646,
            "bin_end": 307.39752,
            "count": 6
           },
           {
            "bin_start": 307.39752,
            "bin_end": 358.63044,
            "count": 0
           },
           {
            "bin_start": 358.63044,
            "bin_end": 409.86336,
            "count": 0
           },
           {
            "bin_start": 409.86336,
            "bin_end": 461.09628,
            "count": 0
           },
           {
            "bin_start": 461.09628,
            "bin_end": 512.3292,
            "count": 3
           }
          ]
         }
        },
        {
         "name": "embarked",
         "dtype": "object",
         "stats": {
          "unique_count": 3,
          "nan_count": 2,
          "categories": [
           {
            "name": "S",
            "count": 644
           },
           {
            "name": "2 others",
            "count": 245
           },
           {
            "name": "Missing",
            "count": 2
           }
          ]
         }
        },
        {
         "name": "class",
         "dtype": "category",
         "stats": {
          "unique_count": 3,
          "nan_count": 0,
          "categories": [
           {
            "name": "Third",
            "count": 491
           },
           {
            "name": "First",
            "count": 216
           },
           {
            "name": "Second",
            "count": 184
           }
          ]
         }
        },
        {
         "name": "who",
         "dtype": "object",
         "stats": {
          "unique_count": 3,
          "nan_count": 0,
          "categories": [
           {
            "name": "man",
            "count": 537
           },
           {
            "name": "woman",
            "count": 271
           },
           {
            "name": "child",
            "count": 83
           }
          ]
         }
        },
        {
         "name": "adult_male",
         "dtype": "bool",
         "stats": {
          "unique_count": 2,
          "nan_count": 0,
          "categories": [
           {
            "name": "True",
            "count": 537
           },
           {
            "name": "False",
            "count": 354
           }
          ]
         }
        },
        {
         "name": "deck",
         "dtype": "category",
         "stats": {
          "unique_count": 7,
          "nan_count": 688,
          "categories": [
           {
            "name": "C",
            "count": 59
           },
           {
            "name": "6 others",
            "count": 144
           },
           {
            "name": "Missing",
            "count": 688
           }
          ]
         }
        },
        {
         "name": "embark_town",
         "dtype": "object",
         "stats": {
          "unique_count": 3,
          "nan_count": 2,
          "categories": [
           {
            "name": "Southampton",
            "count": 644
           },
           {
            "name": "2 others",
            "count": 245
           },
           {
            "name": "Missing",
            "count": 2
           }
          ]
         }
        },
        {
         "name": "alive",
         "dtype": "object",
         "stats": {
          "unique_count": 2,
          "nan_count": 0,
          "categories": [
           {
            "name": "no",
            "count": 549
           },
           {
            "name": "yes",
            "count": 342
           }
          ]
         }
        },
        {
         "name": "alone",
         "dtype": "bool",
         "stats": {
          "unique_count": 2,
          "nan_count": 0,
          "categories": [
           {
            "name": "True",
            "count": 537
           },
           {
            "name": "False",
            "count": 354
           }
          ]
         }
        },
        {
         "name": "_deepnote_index_column",
         "dtype": "int64"
        }
       ],
       "rows": [
        {
         "survived": 1,
         "pclass": 1,
         "sex": "male",
         "age": 36,
         "sibsp": 0,
         "parch": 1,
         "fare": 512.3292,
         "embarked": "C",
         "class": "First",
         "who": "man",
         "adult_male": true,
         "deck": "B",
         "embark_town": "Cherbourg",
         "alive": "yes",
         "alone": false,
         "_deepnote_index_column": 679
        },
        {
         "survived": 1,
         "pclass": 1,
         "sex": "female",
         "age": 35,
         "sibsp": 0,
         "parch": 0,
         "fare": 512.3292,
         "embarked": "C",
         "class": "First",
         "who": "woman",
         "adult_male": false,
         "deck": "nan",
         "embark_town": "Cherbourg",
         "alive": "yes",
         "alone": true,
         "_deepnote_index_column": 258
        },
        {
         "survived": 1,
         "pclass": 1,
         "sex": "male",
         "age": 35,
         "sibsp": 0,
         "parch": 0,
         "fare": 512.3292,
         "embarked": "C",
         "class": "First",
         "who": "man",
         "adult_male": true,
         "deck": "B",
         "embark_town": "Cherbourg",
         "alive": "yes",
         "alone": true,
         "_deepnote_index_column": 737
        },
        {
         "survived": 0,
         "pclass": 1,
         "sex": "male",
         "age": 64,
         "sibsp": 1,
         "parch": 4,
         "fare": 263,
         "embarked": "S",
         "class": "First",
         "who": "man",
         "adult_male": true,
         "deck": "C",
         "embark_town": "Southampton",
         "alive": "no",
         "alone": false,
         "_deepnote_index_column": 438
        },
        {
         "survived": 1,
         "pclass": 1,
         "sex": "female",
         "age": 24,
         "sibsp": 3,
         "parch": 2,
         "fare": 263,
         "embarked": "S",
         "class": "First",
         "who": "woman",
         "adult_male": false,
         "deck": "C",
         "embark_town": "Southampton",
         "alive": "yes",
         "alone": false,
         "_deepnote_index_column": 341
        },
        {
         "survived": 1,
         "pclass": 1,
         "sex": "female",
         "age": 23,
         "sibsp": 3,
         "parch": 2,
         "fare": 263,
         "embarked": "S",
         "class": "First",
         "who": "woman",
         "adult_male": false,
         "deck": "C",
         "embark_town": "Southampton",
         "alive": "yes",
         "alone": false,
         "_deepnote_index_column": 88
        },
        {
         "survived": 0,
         "pclass": 1,
         "sex": "male",
         "age": 19,
         "sibsp": 3,
         "parch": 2,
         "fare": 263,
         "embarked": "S",
         "class": "First",
         "who": "man",
         "adult_male": true,
         "deck": "C",
         "embark_town": "Southampton",
         "alive": "no",
         "alone": false,
         "_deepnote_index_column": 27
        },
        {
         "survived": 1,
         "pclass": 1,
         "sex": "female",
         "age": 21,
         "sibsp": 2,
         "parch": 2,
         "fare": 262.375,
         "embarked": "C",
         "class": "First",
         "who": "woman",
         "adult_male": false,
         "deck": "B",
         "embark_town": "Cherbourg",
         "alive": "yes",
         "alone": false,
         "_deepnote_index_column": 742
        },
        {
         "survived": 1,
         "pclass": 1,
         "sex": "female",
         "age": 18,
         "sibsp": 2,
         "parch": 2,
         "fare": 262.375,
         "embarked": "C",
         "class": "First",
         "who": "woman",
         "adult_male": false,
         "deck": "B",
         "embark_town": "Cherbourg",
         "alive": "yes",
         "alone": false,
         "_deepnote_index_column": 311
        },
        {
         "survived": 1,
         "pclass": 1,
         "sex": "female",
         "age": 50,
         "sibsp": 0,
         "parch": 1,
         "fare": 247.5208,
         "embarked": "C",
         "class": "First",
         "who": "woman",
         "adult_male": false,
         "deck": "B",
         "embark_town": "Cherbourg",
         "alive": "yes",
         "alone": false,
         "_deepnote_index_column": 299
        }
       ]
      },
      "text/plain": "     survived  pclass     sex   age  sibsp  parch      fare embarked   class  \\\n679         1       1    male  36.0      0      1  512.3292        C   First   \n258         1       1  female  35.0      0      0  512.3292        C   First   \n737         1       1    male  35.0      0      0  512.3292        C   First   \n438         0       1    male  64.0      1      4  263.0000        S   First   \n341         1       1  female  24.0      3      2  263.0000        S   First   \n..        ...     ...     ...   ...    ...    ...       ...      ...     ...   \n481         0       2    male   NaN      0      0    0.0000        S  Second   \n633         0       1    male   NaN      0      0    0.0000        S   First   \n674         0       2    male   NaN      0      0    0.0000        S  Second   \n732         0       2    male   NaN      0      0    0.0000        S  Second   \n815         0       1    male   NaN      0      0    0.0000        S   First   \n\n       who  adult_male deck  embark_town alive  alone  \n679    man        True    B    Cherbourg   yes  False  \n258  woman       False  NaN    Cherbourg   yes   True  \n737    man        True    B    Cherbourg   yes   True  \n438    man        True    C  Southampton    no  False  \n341  woman       False    C  Southampton   yes  False  \n..     ...         ...  ...          ...   ...    ...  \n481    man        True  NaN  Southampton    no   True  \n633    man        True  NaN  Southampton    no   True  \n674    man        True  NaN  Southampton    no   True  \n732    man        True  NaN  Southampton    no   True  \n815    man        True    B  Southampton    no   True  \n\n[891 rows x 15 columns]",
      "text/html": "<div>\n<style scoped>\n    .dataframe tbody tr th:only-of-type {\n        vertical-align: middle;\n    }\n\n    .dataframe tbody tr th {\n        vertical-align: top;\n    }\n\n    .dataframe thead th {\n        text-align: right;\n    }\n</style>\n<table border=\"1\" class=\"dataframe\">\n  <thead>\n    <tr style=\"text-align: right;\">\n      <th></th>\n      <th>survived</th>\n      <th>pclass</th>\n      <th>sex</th>\n      <th>age</th>\n      <th>sibsp</th>\n      <th>parch</th>\n      <th>fare</th>\n      <th>embarked</th>\n      <th>class</th>\n      <th>who</th>\n      <th>adult_male</th>\n      <th>deck</th>\n      <th>embark_town</th>\n      <th>alive</th>\n      <th>alone</th>\n    </tr>\n  </thead>\n  <tbody>\n    <tr>\n      <th>679</th>\n      <td>1</td>\n      <td>1</td>\n      <td>male</td>\n      <td>36.0</td>\n      <td>0</td>\n      <td>1</td>\n      <td>512.3292</td>\n      <td>C</td>\n      <td>First</td>\n      <td>man</td>\n      <td>True</td>\n      <td>B</td>\n      <td>Cherbourg</td>\n      <td>yes</td>\n      <td>False</td>\n    </tr>\n    <tr>\n      <th>258</th>\n      <td>1</td>\n      <td>1</td>\n      <td>female</td>\n      <td>35.0</td>\n      <td>0</td>\n      <td>0</td>\n      <td>512.3292</td>\n      <td>C</td>\n      <td>First</td>\n      <td>woman</td>\n      <td>False</td>\n      <td>NaN</td>\n      <td>Cherbourg</td>\n      <td>yes</td>\n      <td>True</td>\n    </tr>\n    <tr>\n      <th>737</th>\n      <td>1</td>\n      <td>1</td>\n      <td>male</td>\n      <td>35.0</td>\n      <td>0</td>\n      <td>0</td>\n      <td>512.3292</td>\n      <td>C</td>\n      <td>First</td>\n      <td>man</td>\n      <td>True</td>\n      <td>B</td>\n      <td>Cherbourg</td>\n      <td>yes</td>\n      <td>True</td>\n    </tr>\n    <tr>\n      <th>438</th>\n      <td>0</td>\n      <td>1</td>\n      <td>male</td>\n      <td>64.0</td>\n      <td>1</td>\n      <td>4</td>\n      <td>263.0000</td>\n      <td>S</td>\n      <td>First</td>\n      <td>man</td>\n      <td>True</td>\n      <td>C</td>\n      <td>Southampton</td>\n      <td>no</td>\n      <td>False</td>\n    </tr>\n    <tr>\n      <th>341</th>\n      <td>1</td>\n      <td>1</td>\n      <td>female</td>\n      <td>24.0</td>\n      <td>3</td>\n      <td>2</td>\n      <td>263.0000</td>\n      <td>S</td>\n      <td>First</td>\n      <td>woman</td>\n      <td>False</td>\n      <td>C</td>\n      <td>Southampton</td>\n      <td>yes</td>\n      <td>False</td>\n    </tr>\n    <tr>\n      <th>...</th>\n      <td>...</td>\n      <td>...</td>\n      <td>...</td>\n      <td>...</td>\n      <td>...</td>\n      <td>...</td>\n      <td>...</td>\n      <td>...</td>\n      <td>...</td>\n      <td>...</td>\n      <td>...</td>\n      <td>...</td>\n      <td>...</td>\n      <td>...</td>\n      <td>...</td>\n    </tr>\n    <tr>\n      <th>481</th>\n      <td>0</td>\n      <td>2</td>\n      <td>male</td>\n      <td>NaN</td>\n      <td>0</td>\n      <td>0</td>\n      <td>0.0000</td>\n      <td>S</td>\n      <td>Second</td>\n      <td>man</td>\n      <td>True</td>\n      <td>NaN</td>\n      <td>Southampton</td>\n      <td>no</td>\n      <td>True</td>\n    </tr>\n    <tr>\n      <th>633</th>\n      <td>0</td>\n      <td>1</td>\n      <td>male</td>\n      <td>NaN</td>\n      <td>0</td>\n      <td>0</td>\n      <td>0.0000</td>\n      <td>S</td>\n      <td>First</td>\n      <td>man</td>\n      <td>True</td>\n      <td>NaN</td>\n      <td>Southampton</td>\n      <td>no</td>\n      <td>True</td>\n    </tr>\n    <tr>\n      <th>674</th>\n      <td>0</td>\n      <td>2</td>\n      <td>male</td>\n      <td>NaN</td>\n      <td>0</td>\n      <td>0</td>\n      <td>0.0000</td>\n      <td>S</td>\n      <td>Second</td>\n      <td>man</td>\n      <td>True</td>\n      <td>NaN</td>\n      <td>Southampton</td>\n      <td>no</td>\n      <td>True</td>\n    </tr>\n    <tr>\n      <th>732</th>\n      <td>0</td>\n      <td>2</td>\n      <td>male</td>\n      <td>NaN</td>\n      <td>0</td>\n      <td>0</td>\n      <td>0.0000</td>\n      <td>S</td>\n      <td>Second</td>\n      <td>man</td>\n      <td>True</td>\n      <td>NaN</td>\n      <td>Southampton</td>\n      <td>no</td>\n      <td>True</td>\n    </tr>\n    <tr>\n      <th>815</th>\n      <td>0</td>\n      <td>1</td>\n      <td>male</td>\n      <td>NaN</td>\n      <td>0</td>\n      <td>0</td>\n      <td>0.0000</td>\n      <td>S</td>\n      <td>First</td>\n      <td>man</td>\n      <td>True</td>\n      <td>B</td>\n      <td>Southampton</td>\n      <td>no</td>\n      <td>True</td>\n    </tr>\n  </tbody>\n</table>\n<p>891 rows × 15 columns</p>\n</div>"
     },
     "metadata": {}
    }
   ]
  },
  {
   "cell_type": "markdown",
   "source": "【思考】排序后，如果我们仅仅关注年龄和票价两列。根据常识我知道发现票价越高的应该客舱越好，所以我们会明显看出，票价前20的乘客中存活的有14人，这是相当高的一个比例，那么我们后面是不是可以进一步分析一下票价和存活之间的关系，年龄和存活之间的关系呢？当你开始发现数据之间的关系了，数据分析就开始了。\n\n当然，这只是我的想法，你还可以有更多想法，欢迎写在你的学习笔记中。",
   "metadata": {
    "cell_id": "00024-24731b0d-caa4-45d7-bd28-9a3929fd04b2",
    "deepnote_cell_type": "markdown",
    "deepnote_cell_height": 133.5625
   }
  },
  {
   "cell_type": "markdown",
   "source": "**多做几个数据的排序**",
   "metadata": {
    "cell_id": "00025-5274441f-0a67-48bc-b288-7f1efab99f83",
    "deepnote_cell_type": "markdown",
    "deepnote_cell_height": 52.390625
   }
  },
  {
   "cell_type": "code",
   "metadata": {
    "cell_id": "ca88fd45a21a4d09a6b92263c8ab3dae",
    "tags": [],
    "deepnote_to_be_reexecuted": false,
    "source_hash": "8f033d12",
    "execution_start": 1648999662797,
    "execution_millis": 6,
    "deepnote_cell_type": "code",
    "deepnote_cell_height": 404.8125,
    "deepnote_output_heights": [
     289.8125
    ]
   },
   "source": "categorical_vars = df.columns.values.tolist()\ncategorical_vars",
   "execution_count": null,
   "outputs": [
    {
     "output_type": "execute_result",
     "execution_count": 11,
     "data": {
      "text/plain": "['survived',\n 'pclass',\n 'sex',\n 'age',\n 'sibsp',\n 'parch',\n 'fare',\n 'embarked',\n 'class',\n 'who',\n 'adult_male',\n 'deck',\n 'embark_town',\n 'alive',\n 'alone']"
     },
     "metadata": {}
    }
   ]
  },
  {
   "cell_type": "code",
   "metadata": {
    "cell_id": "9e32f14223c34daabbb44c942efe8b43",
    "tags": [],
    "deepnote_to_be_reexecuted": false,
    "source_hash": "bfc9d951",
    "execution_start": 1648999662799,
    "execution_millis": 4,
    "deepnote_cell_type": "code",
    "deepnote_cell_height": 288
   },
   "source": "ct = pd.crosstab(df.survived, df.pclass)\nct",
   "execution_count": null,
   "outputs": [
    {
     "output_type": "execute_result",
     "execution_count": 12,
     "data": {
      "application/vnd.deepnote.dataframe.v3+json": {
       "column_count": 3,
       "row_count": 2,
       "columns": [
        {
         "name": 1,
         "dtype": "int64",
         "stats": {
          "unique_count": 2,
          "nan_count": 0,
          "min": "80",
          "max": "136",
          "histogram": [
           {
            "bin_start": 80,
            "bin_end": 85.6,
            "count": 1
           },
           {
            "bin_start": 85.6,
            "bin_end": 91.2,
            "count": 0
           },
           {
            "bin_start": 91.2,
            "bin_end": 96.8,
            "count": 0
           },
           {
            "bin_start": 96.8,
            "bin_end": 102.4,
            "count": 0
           },
           {
            "bin_start": 102.4,
            "bin_end": 108,
            "count": 0
           },
           {
            "bin_start": 108,
            "bin_end": 113.6,
            "count": 0
           },
           {
            "bin_start": 113.6,
            "bin_end": 119.19999999999999,
            "count": 0
           },
           {
            "bin_start": 119.19999999999999,
            "bin_end": 124.8,
            "count": 0
           },
           {
            "bin_start": 124.8,
            "bin_end": 130.4,
            "count": 0
           },
           {
            "bin_start": 130.4,
            "bin_end": 136,
            "count": 1
           }
          ]
         }
        },
        {
         "name": 2,
         "dtype": "int64",
         "stats": {
          "unique_count": 2,
          "nan_count": 0,
          "min": "87",
          "max": "97",
          "histogram": [
           {
            "bin_start": 87,
            "bin_end": 88,
            "count": 1
           },
           {
            "bin_start": 88,
            "bin_end": 89,
            "count": 0
           },
           {
            "bin_start": 89,
            "bin_end": 90,
            "count": 0
           },
           {
            "bin_start": 90,
            "bin_end": 91,
            "count": 0
           },
           {
            "bin_start": 91,
            "bin_end": 92,
            "count": 0
           },
           {
            "bin_start": 92,
            "bin_end": 93,
            "count": 0
           },
           {
            "bin_start": 93,
            "bin_end": 94,
            "count": 0
           },
           {
            "bin_start": 94,
            "bin_end": 95,
            "count": 0
           },
           {
            "bin_start": 95,
            "bin_end": 96,
            "count": 0
           },
           {
            "bin_start": 96,
            "bin_end": 97,
            "count": 1
           }
          ]
         }
        },
        {
         "name": 3,
         "dtype": "int64",
         "stats": {
          "unique_count": 2,
          "nan_count": 0,
          "min": "119",
          "max": "372",
          "histogram": [
           {
            "bin_start": 119,
            "bin_end": 144.3,
            "count": 1
           },
           {
            "bin_start": 144.3,
            "bin_end": 169.6,
            "count": 0
           },
           {
            "bin_start": 169.6,
            "bin_end": 194.9,
            "count": 0
           },
           {
            "bin_start": 194.9,
            "bin_end": 220.2,
            "count": 0
           },
           {
            "bin_start": 220.2,
            "bin_end": 245.5,
            "count": 0
           },
           {
            "bin_start": 245.5,
            "bin_end": 270.8,
            "count": 0
           },
           {
            "bin_start": 270.8,
            "bin_end": 296.1,
            "count": 0
           },
           {
            "bin_start": 296.1,
            "bin_end": 321.4,
            "count": 0
           },
           {
            "bin_start": 321.4,
            "bin_end": 346.70000000000005,
            "count": 0
           },
           {
            "bin_start": 346.70000000000005,
            "bin_end": 372,
            "count": 1
           }
          ]
         }
        },
        {
         "name": "_deepnote_index_column",
         "dtype": "int64"
        }
       ],
       "rows": [
        {
         "1": 80,
         "2": 97,
         "3": 372,
         "_deepnote_index_column": 0
        },
        {
         "1": 136,
         "2": 87,
         "3": 119,
         "_deepnote_index_column": 1
        }
       ]
      },
      "text/plain": "pclass      1   2    3\nsurvived              \n0          80  97  372\n1         136  87  119",
      "text/html": "<div>\n<style scoped>\n    .dataframe tbody tr th:only-of-type {\n        vertical-align: middle;\n    }\n\n    .dataframe tbody tr th {\n        vertical-align: top;\n    }\n\n    .dataframe thead th {\n        text-align: right;\n    }\n</style>\n<table border=\"1\" class=\"dataframe\">\n  <thead>\n    <tr style=\"text-align: right;\">\n      <th>pclass</th>\n      <th>1</th>\n      <th>2</th>\n      <th>3</th>\n    </tr>\n    <tr>\n      <th>survived</th>\n      <th></th>\n      <th></th>\n      <th></th>\n    </tr>\n  </thead>\n  <tbody>\n    <tr>\n      <th>0</th>\n      <td>80</td>\n      <td>97</td>\n      <td>372</td>\n    </tr>\n    <tr>\n      <th>1</th>\n      <td>136</td>\n      <td>87</td>\n      <td>119</td>\n    </tr>\n  </tbody>\n</table>\n</div>"
     },
     "metadata": {}
    }
   ]
  },
  {
   "cell_type": "code",
   "metadata": {
    "cell_id": "00026-1014d2e6-c293-4fcd-9e40-976c13ae479f",
    "deepnote_to_be_reexecuted": false,
    "source_hash": "eb9a4fbd",
    "execution_start": 1648999687894,
    "execution_millis": 11,
    "deepnote_cell_type": "code",
    "deepnote_cell_height": 136.1875,
    "deepnote_output_heights": [
     21.1875
    ]
   },
   "source": "#代码\ndf['survived'].corr(df['age'])",
   "execution_count": null,
   "outputs": [
    {
     "output_type": "execute_result",
     "execution_count": 14,
     "data": {
      "text/plain": "-0.07722109457217761"
     },
     "metadata": {}
    }
   ]
  },
  {
   "cell_type": "code",
   "metadata": {
    "cell_id": "dac1e73b5fc04366b42c211e82c67e5f",
    "tags": [],
    "deepnote_to_be_reexecuted": false,
    "source_hash": "60de4b22",
    "execution_start": 1648999692353,
    "execution_millis": 2891,
    "deepnote_cell_type": "code",
    "deepnote_cell_height": 1136,
    "deepnote_output_heights": [
     607
    ]
   },
   "source": "#  Categorical Data\nplot_cate = ['sex', 'pclass', 'age', 'who', 'embark_town', 'alone']\n\nfig = plt.figure(figsize=(14,10))\nplotCnt = 1       # initialize plot number\n\nfor i in plot_cate:\n    # df_ct = df.groupby(i)['survived'].value_counts(normalize=True)\n    # df_ct = df_ct.mul(100)\n    # df_ct = df_ct.rename('percent').reset_index()\n\n    fig.add_subplot(2,3,plotCnt)\n    ax = sns.countplot(x=i,hue='survived',data=df)\n    \n    # g = sns.catplot(x=i, y='percent', hue=y, kind='bar', data=df_ct)\n    # g.ax.set_ylim(0,100)\n    plt.title('Survival by \\\"{}\\\", subplot: {}'.format(i, plotCnt))\n    plt.xlabel(i)\n    plt.axis('auto')\n    plt.legend(('died', 'survived'), loc='best')\n\n    # plt.subplot(a, b, c)\n    plotCnt = plotCnt + 1\n\nplt.show()",
   "execution_count": null,
   "outputs": [
    {
     "data": {
      "text/plain": "<Figure size 1008x720 with 6 Axes>",
      "image/png": "[encoded data removed]"
     },
     "metadata": {
      "needs_background": "light",
      "image/png": {
       "width": 835,
       "height": 605
      }
     },
     "output_type": "display_data"
    }
   ]
  },
  {
   "cell_type": "code",
   "metadata": {
    "cell_id": "e0d4628dcf164fd583f9bb633758b564",
    "tags": [],
    "deepnote_to_be_reexecuted": false,
    "source_hash": "3de92547",
    "execution_start": 1648999812773,
    "execution_millis": 549,
    "deepnote_cell_type": "code",
    "deepnote_cell_height": 565,
    "deepnote_output_heights": [
     360,
     21.1875
    ]
   },
   "source": "plt.figure(figsize=(10,6))\n\n# creating mask\nmask = np.triu(np.ones_like(df.corr()['survived']))\nsns.heatmap(df.corr(), cmap='vlag', annot=True, mask=mask)\n\nplt.show()",
   "execution_count": null,
   "outputs": [
    {
     "data": {
      "text/plain": "<Figure size 720x432 with 2 Axes>",
      "image/png": "[encoded data removed]"
     },
     "metadata": {
      "needs_background": "light",
      "image/png": {
       "width": 598,
       "height": 358
      }
     },
     "output_type": "display_data"
    }
   ]
  },
  {
   "cell_type": "code",
   "metadata": {
    "cell_id": "607fcbe70081478a8565c63bbe37c42d",
    "tags": [],
    "deepnote_to_be_reexecuted": false,
    "source_hash": "5813e03d",
    "execution_start": 1648987852244,
    "execution_millis": 1400,
    "deepnote_cell_type": "code",
    "deepnote_cell_height": 868.5625,
    "deepnote_output_heights": [
     375.5625
    ]
   },
   "source": "#  Correlation TABLE\ndf_corr = df.corr()['survived'].sort_values(ascending=False)\ndf_corr = df_corr.drop(['survived'])\n\n#  heatmap and barplot\nfig = plt.figure(figsize=(16,6))\n\nfig.add_subplot(121)\nmask = np.triu(np.ones_like(df.corr()))\nsns.heatmap(df.corr(), cmap='vlag', annot=True, mask=mask)\n# sns.heatmap(df_TRN.corr(), annot=True, fmt='.2f', square=True, cmap = 'Greens')\nplt.title('Titanic Survival - Correlation-OVERALL', fontsize=12)\n\nfig.add_subplot(122)\nplt.title('Titanic Survival - Correlation-OVERALL', fontsize=12)\nax = sns.barplot(y=df_corr.index,x=df_corr.values)\n\nfor i in ax.patches: \n    plt.text(i.get_width()/1.5, i.get_y()+.5,  \n             str(round((i.get_width()), 2)), \n             fontsize = 10, color ='black')\n\nplt.show()",
   "execution_count": null,
   "outputs": [
    {
     "data": {
      "text/plain": "<Figure size 1152x432 with 3 Axes>",
      "image/png": "[encoded data removed]"
     },
     "metadata": {
      "needs_background": "light",
      "image/png": {
       "width": 969,
       "height": 418
      }
     },
     "output_type": "display_data"
    }
   ]
  },
  {
   "cell_type": "markdown",
   "source": "#### 1.6.3 任务三：利用Pandas进行算术计算，计算两个DataFrame数据相加结果",
   "metadata": {
    "cell_id": "00028-025176e2-4bec-4f90-aebb-0e93c77ade11",
    "deepnote_cell_type": "markdown",
    "deepnote_cell_height": 54
   }
  },
  {
   "cell_type": "code",
   "metadata": {
    "cell_id": "00029-dfe64efc-be2a-4d32-b6ef-5a8203e5179e",
    "deepnote_to_be_reexecuted": false,
    "source_hash": "92a92d31",
    "execution_start": 1649000196012,
    "execution_millis": 4,
    "deepnote_cell_type": "code",
    "deepnote_cell_height": 261
   },
   "source": "# 具体请看《利用Python进行数据分析》第五章 算术运算与数据对齐 部分\n\n#自己构建两个都为数字的DataFrame数据\n\n# 我们举了一个例子：\nframe1_a = pd.DataFrame(np.arange(9.).reshape(3, 3),\n                     columns=['a', 'b', 'c'],\n                     index=['one', 'two', 'three'])\nframe1_b = pd.DataFrame(np.arange(12.).reshape(4, 3),\n                     columns=['a', 'e', 'c'],\n                     index=['first', 'one', 'two', 'second'])",
   "execution_count": null,
   "outputs": []
  },
  {
   "cell_type": "code",
   "metadata": {
    "cell_id": "00030-f0b8d975-8431-4af4-b99c-ce186fa5907d",
    "deepnote_to_be_reexecuted": false,
    "source_hash": "ba154ec5",
    "execution_start": 1649000219033,
    "execution_millis": 34,
    "deepnote_cell_type": "code",
    "deepnote_cell_height": 538,
    "deepnote_output_heights": [
     119
    ]
   },
   "source": "#代码\ndisplay(frame1_a)\ndisplay(frame1_b)",
   "execution_count": null,
   "outputs": [
    {
     "data": {
      "text/plain": "         a    b    c\none    0.0  1.0  2.0\ntwo    3.0  4.0  5.0\nthree  6.0  7.0  8.0",
      "text/html": "<div>\n<style scoped>\n    .dataframe tbody tr th:only-of-type {\n        vertical-align: middle;\n    }\n\n    .dataframe tbody tr th {\n        vertical-align: top;\n    }\n\n    .dataframe thead th {\n        text-align: right;\n    }\n</style>\n<table border=\"1\" class=\"dataframe\">\n  <thead>\n    <tr style=\"text-align: right;\">\n      <th></th>\n      <th>a</th>\n      <th>b</th>\n      <th>c</th>\n    </tr>\n  </thead>\n  <tbody>\n    <tr>\n      <th>one</th>\n      <td>0.0</td>\n      <td>1.0</td>\n      <td>2.0</td>\n    </tr>\n    <tr>\n      <th>two</th>\n      <td>3.0</td>\n      <td>4.0</td>\n      <td>5.0</td>\n    </tr>\n    <tr>\n      <th>three</th>\n      <td>6.0</td>\n      <td>7.0</td>\n      <td>8.0</td>\n    </tr>\n  </tbody>\n</table>\n</div>"
     },
     "metadata": {},
     "output_type": "display_data"
    },
    {
     "data": {
      "application/vnd.deepnote.dataframe.v3+json": {
       "column_count": 3,
       "row_count": 4,
       "columns": [
        {
         "name": "a",
         "dtype": "float64",
         "stats": {
          "unique_count": 4,
          "nan_count": 0,
          "min": "0.0",
          "max": "9.0",
          "histogram": [
           {
            "bin_start": 0,
            "bin_end": 0.9,
            "count": 1
           },
           {
            "bin_start": 0.9,
            "bin_end": 1.8,
            "count": 0
           },
           {
            "bin_start": 1.8,
            "bin_end": 2.7,
            "count": 0
           },
           {
            "bin_start": 2.7,
            "bin_end": 3.6,
            "count": 1
           },
           {
            "bin_start": 3.6,
            "bin_end": 4.5,
            "count": 0
           },
           {
            "bin_start": 4.5,
            "bin_end": 5.4,
            "count": 0
           },
           {
            "bin_start": 5.4,
            "bin_end": 6.3,
            "count": 1
           },
           {
            "bin_start": 6.3,
            "bin_end": 7.2,
            "count": 0
           },
           {
            "bin_start": 7.2,
            "bin_end": 8.1,
            "count": 0
           },
           {
            "bin_start": 8.1,
            "bin_end": 9,
            "count": 1
           }
          ]
         }
        },
        {
         "name": "e",
         "dtype": "float64",
         "stats": {
          "unique_count": 4,
          "nan_count": 0,
          "min": "1.0",
          "max": "10.0",
          "histogram": [
           {
            "bin_start": 1,
            "bin_end": 1.9,
            "count": 1
           },
           {
            "bin_start": 1.9,
            "bin_end": 2.8,
            "count": 0
           },
           {
            "bin_start": 2.8,
            "bin_end": 3.7,
            "count": 0
           },
           {
            "bin_start": 3.7,
            "bin_end": 4.6,
            "count": 1
           },
           {
            "bin_start": 4.6,
            "bin_end": 5.5,
            "count": 0
           },
           {
            "bin_start": 5.5,
            "bin_end": 6.4,
            "count": 0
           },
           {
            "bin_start": 6.4,
            "bin_end": 7.3,
            "count": 1
           },
           {
            "bin_start": 7.3,
            "bin_end": 8.2,
            "count": 0
           },
           {
            "bin_start": 8.2,
            "bin_end": 9.1,
            "count": 0
           },
           {
            "bin_start": 9.1,
            "bin_end": 10,
            "count": 1
           }
          ]
         }
        },
        {
         "name": "c",
         "dtype": "float64",
         "stats": {
          "unique_count": 4,
          "nan_count": 0,
          "min": "2.0",
          "max": "11.0",
          "histogram": [
           {
            "bin_start": 2,
            "bin_end": 2.9,
            "count": 1
           },
           {
            "bin_start": 2.9,
            "bin_end": 3.8,
            "count": 0
           },
           {
            "bin_start": 3.8,
            "bin_end": 4.7,
            "count": 0
           },
           {
            "bin_start": 4.7,
            "bin_end": 5.6,
            "count": 1
           },
           {
            "bin_start": 5.6,
            "bin_end": 6.5,
            "count": 0
           },
           {
            "bin_start": 6.5,
            "bin_end": 7.4,
            "count": 0
           },
           {
            "bin_start": 7.4,
            "bin_end": 8.3,
            "count": 1
           },
           {
            "bin_start": 8.3,
            "bin_end": 9.2,
            "count": 0
           },
           {
            "bin_start": 9.2,
            "bin_end": 10.1,
            "count": 0
           },
           {
            "bin_start": 10.1,
            "bin_end": 11,
            "count": 1
           }
          ]
         }
        },
        {
         "name": "_deepnote_index_column",
         "dtype": "object"
        }
       ],
       "rows": [
        {
         "a": 0,
         "e": 1,
         "c": 2,
         "_deepnote_index_column": "first"
        },
        {
         "a": 3,
         "e": 4,
         "c": 5,
         "_deepnote_index_column": "one"
        },
        {
         "a": 6,
         "e": 7,
         "c": 8,
         "_deepnote_index_column": "two"
        },
        {
         "a": 9,
         "e": 10,
         "c": 11,
         "_deepnote_index_column": "second"
        }
       ]
      },
      "text/plain": "          a     e     c\nfirst   0.0   1.0   2.0\none     3.0   4.0   5.0\ntwo     6.0   7.0   8.0\nsecond  9.0  10.0  11.0",
      "text/html": "<div>\n<style scoped>\n    .dataframe tbody tr th:only-of-type {\n        vertical-align: middle;\n    }\n\n    .dataframe tbody tr th {\n        vertical-align: top;\n    }\n\n    .dataframe thead th {\n        text-align: right;\n    }\n</style>\n<table border=\"1\" class=\"dataframe\">\n  <thead>\n    <tr style=\"text-align: right;\">\n      <th></th>\n      <th>a</th>\n      <th>e</th>\n      <th>c</th>\n    </tr>\n  </thead>\n  <tbody>\n    <tr>\n      <th>first</th>\n      <td>0.0</td>\n      <td>1.0</td>\n      <td>2.0</td>\n    </tr>\n    <tr>\n      <th>one</th>\n      <td>3.0</td>\n      <td>4.0</td>\n      <td>5.0</td>\n    </tr>\n    <tr>\n      <th>two</th>\n      <td>6.0</td>\n      <td>7.0</td>\n      <td>8.0</td>\n    </tr>\n    <tr>\n      <th>second</th>\n      <td>9.0</td>\n      <td>10.0</td>\n      <td>11.0</td>\n    </tr>\n  </tbody>\n</table>\n</div>"
     },
     "metadata": {},
     "output_type": "display_data"
    }
   ]
  },
  {
   "cell_type": "markdown",
   "source": "将frame_a和frame_b进行相加\n",
   "metadata": {
    "cell_id": "00031-0cf453f1-45bc-4543-a654-e05838d38523",
    "deepnote_cell_type": "markdown",
    "deepnote_cell_height": 52.390625
   }
  },
  {
   "cell_type": "code",
   "metadata": {
    "cell_id": "00032-6f7c556e-ba84-4c70-b8b3-a2162a1ae363",
    "deepnote_to_be_reexecuted": false,
    "source_hash": "40e5cdd",
    "execution_start": 1649000266831,
    "execution_millis": 27,
    "deepnote_cell_type": "code",
    "deepnote_cell_height": 429
   },
   "source": "#代码\nframe2 = frame1_a + frame1_b\nframe2",
   "execution_count": null,
   "outputs": [
    {
     "output_type": "execute_result",
     "execution_count": 23,
     "data": {
      "application/vnd.deepnote.dataframe.v3+json": {
       "column_count": 4,
       "row_count": 5,
       "columns": [
        {
         "name": "a",
         "dtype": "float64",
         "stats": {
          "unique_count": 2,
          "nan_count": 3,
          "min": "3.0",
          "max": "9.0",
          "histogram": [
           {
            "bin_start": 3,
            "bin_end": 3.6,
            "count": 1
           },
           {
            "bin_start": 3.6,
            "bin_end": 4.2,
            "count": 0
           },
           {
            "bin_start": 4.2,
            "bin_end": 4.8,
            "count": 0
           },
           {
            "bin_start": 4.8,
            "bin_end": 5.4,
            "count": 0
           },
           {
            "bin_start": 5.4,
            "bin_end": 6,
            "count": 0
           },
           {
            "bin_start": 6,
            "bin_end": 6.6,
            "count": 0
           },
           {
            "bin_start": 6.6,
            "bin_end": 7.2,
            "count": 0
           },
           {
            "bin_start": 7.2,
            "bin_end": 7.8,
            "count": 0
           },
           {
            "bin_start": 7.8,
            "bin_end": 8.399999999999999,
            "count": 0
           },
           {
            "bin_start": 8.399999999999999,
            "bin_end": 9,
            "count": 1
           }
          ]
         }
        },
        {
         "name": "b",
         "dtype": "float64",
         "stats": {
          "unique_count": 0,
          "nan_count": 5,
          "min": null,
          "max": null,
          "histogram": [
           {
            "bin_start": 0,
            "bin_end": 0.1,
            "count": 0
           },
           {
            "bin_start": 0.1,
            "bin_end": 0.2,
            "count": 0
           },
           {
            "bin_start": 0.2,
            "bin_end": 0.30000000000000004,
            "count": 0
           },
           {
            "bin_start": 0.30000000000000004,
            "bin_end": 0.4,
            "count": 0
           },
           {
            "bin_start": 0.4,
            "bin_end": 0.5,
            "count": 0
           },
           {
            "bin_start": 0.5,
            "bin_end": 0.6000000000000001,
            "count": 0
           },
           {
            "bin_start": 0.6000000000000001,
            "bin_end": 0.7000000000000001,
            "count": 0
           },
           {
            "bin_start": 0.7000000000000001,
            "bin_end": 0.8,
            "count": 0
           },
           {
            "bin_start": 0.8,
            "bin_end": 0.9,
            "count": 0
           },
           {
            "bin_start": 0.9,
            "bin_end": 1,
            "count": 0
           }
          ]
         }
        },
        {
         "name": "c",
         "dtype": "float64",
         "stats": {
          "unique_count": 2,
          "nan_count": 3,
          "min": "7.0",
          "max": "13.0",
          "histogram": [
           {
            "bin_start": 7,
            "bin_end": 7.6,
            "count": 1
           },
           {
            "bin_start": 7.6,
            "bin_end": 8.2,
            "count": 0
           },
           {
            "bin_start": 8.2,
            "bin_end": 8.8,
            "count": 0
           },
           {
            "bin_start": 8.8,
            "bin_end": 9.4,
            "count": 0
           },
           {
            "bin_start": 9.4,
            "bin_end": 10,
            "count": 0
           },
           {
            "bin_start": 10,
            "bin_end": 10.6,
            "count": 0
           },
           {
            "bin_start": 10.6,
            "bin_end": 11.2,
            "count": 0
           },
           {
            "bin_start": 11.2,
            "bin_end": 11.8,
            "count": 0
           },
           {
            "bin_start": 11.8,
            "bin_end": 12.399999999999999,
            "count": 0
           },
           {
            "bin_start": 12.399999999999999,
            "bin_end": 13,
            "count": 1
           }
          ]
         }
        },
        {
         "name": "e",
         "dtype": "float64",
         "stats": {
          "unique_count": 0,
          "nan_count": 5,
          "min": null,
          "max": null,
          "histogram": [
           {
            "bin_start": 0,
            "bin_end": 0.1,
            "count": 0
           },
           {
            "bin_start": 0.1,
            "bin_end": 0.2,
            "count": 0
           },
           {
            "bin_start": 0.2,
            "bin_end": 0.30000000000000004,
            "count": 0
           },
           {
            "bin_start": 0.30000000000000004,
            "bin_end": 0.4,
            "count": 0
           },
           {
            "bin_start": 0.4,
            "bin_end": 0.5,
            "count": 0
           },
           {
            "bin_start": 0.5,
            "bin_end": 0.6000000000000001,
            "count": 0
           },
           {
            "bin_start": 0.6000000000000001,
            "bin_end": 0.7000000000000001,
            "count": 0
           },
           {
            "bin_start": 0.7000000000000001,
            "bin_end": 0.8,
            "count": 0
           },
           {
            "bin_start": 0.8,
            "bin_end": 0.9,
            "count": 0
           },
           {
            "bin_start": 0.9,
            "bin_end": 1,
            "count": 0
           }
          ]
         }
        },
        {
         "name": "_deepnote_index_column",
         "dtype": "object"
        }
       ],
       "rows": [
        {
         "a": "nan",
         "b": "nan",
         "c": "nan",
         "e": "nan",
         "_deepnote_index_column": "first"
        },
        {
         "a": 3,
         "b": "nan",
         "c": 7,
         "e": "nan",
         "_deepnote_index_column": "one"
        },
        {
         "a": "nan",
         "b": "nan",
         "c": "nan",
         "e": "nan",
         "_deepnote_index_column": "second"
        },
        {
         "a": "nan",
         "b": "nan",
         "c": "nan",
         "e": "nan",
         "_deepnote_index_column": "three"
        },
        {
         "a": 9,
         "b": "nan",
         "c": 13,
         "e": "nan",
         "_deepnote_index_column": "two"
        }
       ]
      },
      "text/plain": "          a   b     c   e\nfirst   NaN NaN   NaN NaN\none     3.0 NaN   7.0 NaN\nsecond  NaN NaN   NaN NaN\nthree   NaN NaN   NaN NaN\ntwo     9.0 NaN  13.0 NaN",
      "text/html": "<div>\n<style scoped>\n    .dataframe tbody tr th:only-of-type {\n        vertical-align: middle;\n    }\n\n    .dataframe tbody tr th {\n        vertical-align: top;\n    }\n\n    .dataframe thead th {\n        text-align: right;\n    }\n</style>\n<table border=\"1\" class=\"dataframe\">\n  <thead>\n    <tr style=\"text-align: right;\">\n      <th></th>\n      <th>a</th>\n      <th>b</th>\n      <th>c</th>\n      <th>e</th>\n    </tr>\n  </thead>\n  <tbody>\n    <tr>\n      <th>first</th>\n      <td>NaN</td>\n      <td>NaN</td>\n      <td>NaN</td>\n      <td>NaN</td>\n    </tr>\n    <tr>\n      <th>one</th>\n      <td>3.0</td>\n      <td>NaN</td>\n      <td>7.0</td>\n      <td>NaN</td>\n    </tr>\n    <tr>\n      <th>second</th>\n      <td>NaN</td>\n      <td>NaN</td>\n      <td>NaN</td>\n      <td>NaN</td>\n    </tr>\n    <tr>\n      <th>three</th>\n      <td>NaN</td>\n      <td>NaN</td>\n      <td>NaN</td>\n      <td>NaN</td>\n    </tr>\n    <tr>\n      <th>two</th>\n      <td>9.0</td>\n      <td>NaN</td>\n      <td>13.0</td>\n      <td>NaN</td>\n    </tr>\n  </tbody>\n</table>\n</div>"
     },
     "metadata": {}
    }
   ]
  },
  {
   "cell_type": "markdown",
   "source": "【提醒】两个DataFrame相加后，会返回一个新的DataFrame，对应的行和列的值会相加，没有对应的会变成空值NaN。<br>\n当然，DataFrame还有很多算术运算，如减法，除法等，有兴趣的同学可以看《利用Python进行数据分析》第五章 算术运算与数据对齐 部分，多在网络上查找相关学习资料。",
   "metadata": {
    "cell_id": "00033-48f2455c-5aa8-4ab1-935a-2e880b8bd249",
    "deepnote_cell_type": "markdown",
    "deepnote_cell_height": 97.171875
   }
  },
  {
   "cell_type": "markdown",
   "source": "#### 1.6.4 任务四：通过泰坦尼克号数据如何计算出在船上最大的家族有多少人？",
   "metadata": {
    "cell_id": "00034-62b6e8a8-af1f-4d62-b4bd-c6bdb5aaba8d",
    "deepnote_cell_type": "markdown",
    "deepnote_cell_height": 54
   }
  },
  {
   "cell_type": "code",
   "metadata": {
    "cell_id": "00035-89933df5-2dc0-4589-a504-1c2ce0624bf2",
    "deepnote_cell_type": "code",
    "deepnote_cell_height": 120
   },
   "source": "'''\n还是用之前导入的chinese_train.csv如果我们想看看在船上，最大的家族有多少人（‘兄弟姐妹个数’+‘父母子女个数’），我们该怎么做呢？\n'''\n",
   "execution_count": null,
   "outputs": []
  },
  {
   "cell_type": "code",
   "metadata": {
    "cell_id": "00036-857af635-1a20-445e-8991-bcc527bdba15",
    "deepnote_to_be_reexecuted": false,
    "source_hash": "f51803a4",
    "execution_start": 1649002695784,
    "execution_millis": 388,
    "deepnote_cell_type": "code",
    "deepnote_cell_height": 136.1875,
    "deepnote_output_heights": [
     21.1875
    ]
   },
   "source": "#代码\ndf['survived'][df['who']=='woman'].count() + df['survived'][df['who']=='child'].count()",
   "execution_count": 12,
   "outputs": [
    {
     "output_type": "execute_result",
     "execution_count": 12,
     "data": {
      "text/plain": "354"
     },
     "metadata": {}
    }
   ]
  },
  {
   "cell_type": "markdown",
   "source": "【提醒】我们只需找出”兄弟姐妹个数“和”父母子女个数“之和最大的数，当然你还可以想出很多方法和思考角度，欢迎你来说出你的看法。",
   "metadata": {
    "cell_id": "00037-843d5510-98a0-4eff-acf3-aa7ee13fb716",
    "deepnote_cell_type": "markdown",
    "deepnote_cell_height": 52.390625
   }
  },
  {
   "cell_type": "markdown",
   "source": "**多做几个数据的相加，看看你能分析出什么？**",
   "metadata": {
    "cell_id": "00038-0088e087-9616-4915-970d-da391bd4592d",
    "deepnote_cell_type": "markdown",
    "deepnote_cell_height": 52.390625
   }
  },
  {
   "cell_type": "code",
   "metadata": {
    "cell_id": "00039-3341fa57-9a55-4514-b0e4-20f8381ab980",
    "deepnote_cell_type": "code",
    "deepnote_cell_height": 84
   },
   "source": "#代码\n",
   "execution_count": null,
   "outputs": []
  },
  {
   "cell_type": "markdown",
   "source": "#### 1.6.5 任务五：学会使用Pandas describe()函数查看数据基本统计信息",
   "metadata": {
    "cell_id": "00041-31332b06-c48a-46f3-9489-6f1c350788f2",
    "deepnote_cell_type": "markdown",
    "deepnote_cell_height": 54
   }
  },
  {
   "cell_type": "code",
   "metadata": {
    "cell_id": "00042-88ebb2f8-469d-4fa5-949d-e648ae2404ab",
    "deepnote_to_be_reexecuted": false,
    "source_hash": "96156a8c",
    "execution_start": 1649002732422,
    "execution_millis": 35,
    "deepnote_cell_type": "code",
    "deepnote_cell_height": 550
   },
   "source": "#(1) 关键知识点示例做一遍（简单数据）\n# 具体请看《利用Python进行数据分析》第五章 汇总和计算描述统计 部分\n\n#自己构建一个有数字有空值的DataFrame数据\n\n# 我们举了一个例子：\nframe3 = pd.DataFrame([[1.4, np.nan], \n                       [7.1, -4.5],\n                       [np.nan, np.nan], \n                       [0.75, -1.3]\n                      ], index=['a', 'b', 'c', 'd'], columns=['one', 'two'])\nframe3",
   "execution_count": 13,
   "outputs": [
    {
     "output_type": "execute_result",
     "execution_count": 13,
     "data": {
      "application/vnd.deepnote.dataframe.v3+json": {
       "column_count": 2,
       "row_count": 4,
       "columns": [
        {
         "name": "one",
         "dtype": "float64",
         "stats": {
          "unique_count": 3,
          "nan_count": 1,
          "min": "0.75",
          "max": "7.1",
          "histogram": [
           {
            "bin_start": 0.75,
            "bin_end": 1.385,
            "count": 1
           },
           {
            "bin_start": 1.385,
            "bin_end": 2.02,
            "count": 1
           },
           {
            "bin_start": 2.02,
            "bin_end": 2.6550000000000002,
            "count": 0
           },
           {
            "bin_start": 2.6550000000000002,
            "bin_end": 3.29,
            "count": 0
           },
           {
            "bin_start": 3.29,
            "bin_end": 3.925,
            "count": 0
           },
           {
            "bin_start": 3.925,
            "bin_end": 4.5600000000000005,
            "count": 0
           },
           {
            "bin_start": 4.5600000000000005,
            "bin_end": 5.195,
            "count": 0
           },
           {
            "bin_start": 5.195,
            "bin_end": 5.83,
            "count": 0
           },
           {
            "bin_start": 5.83,
            "bin_end": 6.465,
            "count": 0
           },
           {
            "bin_start": 6.465,
            "bin_end": 7.1,
            "count": 1
           }
          ]
         }
        },
        {
         "name": "two",
         "dtype": "float64",
         "stats": {
          "unique_count": 2,
          "nan_count": 2,
          "min": "-4.5",
          "max": "-1.3",
          "histogram": [
           {
            "bin_start": -4.5,
            "bin_end": -4.18,
            "count": 1
           },
           {
            "bin_start": -4.18,
            "bin_end": -3.86,
            "count": 0
           },
           {
            "bin_start": -3.86,
            "bin_end": -3.54,
            "count": 0
           },
           {
            "bin_start": -3.54,
            "bin_end": -3.2199999999999998,
            "count": 0
           },
           {
            "bin_start": -3.2199999999999998,
            "bin_end": -2.9,
            "count": 0
           },
           {
            "bin_start": -2.9,
            "bin_end": -2.58,
            "count": 0
           },
           {
            "bin_start": -2.58,
            "bin_end": -2.26,
            "count": 0
           },
           {
            "bin_start": -2.26,
            "bin_end": -1.94,
            "count": 0
           },
           {
            "bin_start": -1.94,
            "bin_end": -1.62,
            "count": 0
           },
           {
            "bin_start": -1.62,
            "bin_end": -1.3,
            "count": 1
           }
          ]
         }
        },
        {
         "name": "_deepnote_index_column",
         "dtype": "object"
        }
       ],
       "rows": [
        {
         "one": 1.4,
         "two": "nan",
         "_deepnote_index_column": "a"
        },
        {
         "one": 7.1,
         "two": -4.5,
         "_deepnote_index_column": "b"
        },
        {
         "one": "nan",
         "two": "nan",
         "_deepnote_index_column": "c"
        },
        {
         "one": 0.75,
         "two": -1.3,
         "_deepnote_index_column": "d"
        }
       ]
      },
      "text/plain": "    one  two\na  1.40  NaN\nb  7.10 -4.5\nc   NaN  NaN\nd  0.75 -1.3",
      "text/html": "<div>\n<style scoped>\n    .dataframe tbody tr th:only-of-type {\n        vertical-align: middle;\n    }\n\n    .dataframe tbody tr th {\n        vertical-align: top;\n    }\n\n    .dataframe thead th {\n        text-align: right;\n    }\n</style>\n<table border=\"1\" class=\"dataframe\">\n  <thead>\n    <tr style=\"text-align: right;\">\n      <th></th>\n      <th>one</th>\n      <th>two</th>\n    </tr>\n  </thead>\n  <tbody>\n    <tr>\n      <th>a</th>\n      <td>1.40</td>\n      <td>NaN</td>\n    </tr>\n    <tr>\n      <th>b</th>\n      <td>7.10</td>\n      <td>-4.5</td>\n    </tr>\n    <tr>\n      <th>c</th>\n      <td>NaN</td>\n      <td>NaN</td>\n    </tr>\n    <tr>\n      <th>d</th>\n      <td>0.75</td>\n      <td>-1.3</td>\n    </tr>\n  </tbody>\n</table>\n</div>"
     },
     "metadata": {}
    }
   ]
  },
  {
   "cell_type": "code",
   "metadata": {
    "cell_id": "00043-6046106e-5725-4ffb-9f7b-9c2cef09f84c",
    "deepnote_to_be_reexecuted": false,
    "source_hash": "6979ca58",
    "execution_start": 1649002751485,
    "execution_millis": 10,
    "deepnote_cell_type": "code",
    "deepnote_cell_height": 291.6875
   },
   "source": "#代码\nframe3.info()",
   "execution_count": 14,
   "outputs": [
    {
     "name": "stdout",
     "text": "<class 'pandas.core.frame.DataFrame'>\nIndex: 4 entries, a to d\nData columns (total 2 columns):\n #   Column  Non-Null Count  Dtype  \n---  ------  --------------  -----  \n 0   one     3 non-null      float64\n 1   two     2 non-null      float64\ndtypes: float64(2)\nmemory usage: 268.0+ bytes\n",
     "output_type": "stream"
    }
   ]
  },
  {
   "cell_type": "markdown",
   "source": "调用 describe 函数，观察frame2的数据基本信息",
   "metadata": {
    "cell_id": "00044-fa6e93a6-839e-4205-8a19-41c5cabd462e",
    "deepnote_cell_type": "markdown",
    "deepnote_cell_height": 52.390625
   }
  },
  {
   "cell_type": "code",
   "metadata": {
    "cell_id": "00045-186ff1f0-87d4-43ce-8548-54c8643072da",
    "deepnote_to_be_reexecuted": false,
    "source_hash": "d6cd18cf",
    "execution_start": 1649002763466,
    "execution_millis": 16,
    "deepnote_cell_type": "code",
    "deepnote_cell_height": 84
   },
   "source": "#代码\nframe3.describe()",
   "execution_count": 15,
   "outputs": [
    {
     "output_type": "execute_result",
     "execution_count": 15,
     "data": {
      "application/vnd.deepnote.dataframe.v3+json": {
       "column_count": 2,
       "row_count": 8,
       "columns": [
        {
         "name": "one",
         "dtype": "float64",
         "stats": {
          "unique_count": 8,
          "nan_count": 0,
          "min": "0.75",
          "max": "7.1",
          "histogram": [
           {
            "bin_start": 0.75,
            "bin_end": 1.385,
            "count": 2
           },
           {
            "bin_start": 1.385,
            "bin_end": 2.02,
            "count": 1
           },
           {
            "bin_start": 2.02,
            "bin_end": 2.6550000000000002,
            "count": 0
           },
           {
            "bin_start": 2.6550000000000002,
            "bin_end": 3.29,
            "count": 2
           },
           {
            "bin_start": 3.29,
            "bin_end": 3.925,
            "count": 1
           },
           {
            "bin_start": 3.925,
            "bin_end": 4.5600000000000005,
            "count": 1
           },
           {
            "bin_start": 4.5600000000000005,
            "bin_end": 5.195,
            "count": 0
           },
           {
            "bin_start": 5.195,
            "bin_end": 5.83,
            "count": 0
           },
           {
            "bin_start": 5.83,
            "bin_end": 6.465,
            "count": 0
           },
           {
            "bin_start": 6.465,
            "bin_end": 7.1,
            "count": 1
           }
          ]
         }
        },
        {
         "name": "two",
         "dtype": "float64",
         "stats": {
          "unique_count": 8,
          "nan_count": 0,
          "min": "-4.5",
          "max": "2.262741699796952",
          "histogram": [
           {
            "bin_start": -4.5,
            "bin_end": -3.8237258300203045,
            "count": 1
           },
           {
            "bin_start": -3.8237258300203045,
            "bin_end": -3.1474516600406095,
            "count": 1
           },
           {
            "bin_start": -3.1474516600406095,
            "bin_end": -2.4711774900609145,
            "count": 2
           },
           {
            "bin_start": -2.4711774900609145,
            "bin_end": -1.794903320081219,
            "count": 1
           },
           {
            "bin_start": -1.794903320081219,
            "bin_end": -1.1186291501015235,
            "count": 1
           },
           {
            "bin_start": -1.1186291501015235,
            "bin_end": -0.44235498012182894,
            "count": 0
           },
           {
            "bin_start": -0.44235498012182894,
            "bin_end": 0.23391918985786653,
            "count": 0
           },
           {
            "bin_start": 0.23391918985786653,
            "bin_end": 0.910193359837562,
            "count": 0
           },
           {
            "bin_start": 0.910193359837562,
            "bin_end": 1.5864675298172575,
            "count": 0
           },
           {
            "bin_start": 1.5864675298172575,
            "bin_end": 2.262741699796952,
            "count": 2
           }
          ]
         }
        },
        {
         "name": "_deepnote_index_column",
         "dtype": "object"
        }
       ],
       "rows": [
        {
         "one": 3,
         "two": 2,
         "_deepnote_index_column": "count"
        },
        {
         "one": 3.0833333333333335,
         "two": -2.9,
         "_deepnote_index_column": "mean"
        },
        {
         "one": 3.4936847787591443,
         "two": 2.262741699796952,
         "_deepnote_index_column": "std"
        },
        {
         "one": 0.75,
         "two": -4.5,
         "_deepnote_index_column": "min"
        },
        {
         "one": 1.075,
         "two": -3.7,
         "_deepnote_index_column": "25%"
        },
        {
         "one": 1.4,
         "two": -2.9000000000000004,
         "_deepnote_index_column": "50%"
        },
        {
         "one": 4.25,
         "two": -2.1,
         "_deepnote_index_column": "75%"
        },
        {
         "one": 7.1,
         "two": -1.3,
         "_deepnote_index_column": "max"
        }
       ]
      },
      "text/plain": "            one       two\ncount  3.000000  2.000000\nmean   3.083333 -2.900000\nstd    3.493685  2.262742\nmin    0.750000 -4.500000\n25%    1.075000 -3.700000\n50%    1.400000 -2.900000\n75%    4.250000 -2.100000\nmax    7.100000 -1.300000",
      "text/html": "<div>\n<style scoped>\n    .dataframe tbody tr th:only-of-type {\n        vertical-align: middle;\n    }\n\n    .dataframe tbody tr th {\n        vertical-align: top;\n    }\n\n    .dataframe thead th {\n        text-align: right;\n    }\n</style>\n<table border=\"1\" class=\"dataframe\">\n  <thead>\n    <tr style=\"text-align: right;\">\n      <th></th>\n      <th>one</th>\n      <th>two</th>\n    </tr>\n  </thead>\n  <tbody>\n    <tr>\n      <th>count</th>\n      <td>3.000000</td>\n      <td>2.000000</td>\n    </tr>\n    <tr>\n      <th>mean</th>\n      <td>3.083333</td>\n      <td>-2.900000</td>\n    </tr>\n    <tr>\n      <th>std</th>\n      <td>3.493685</td>\n      <td>2.262742</td>\n    </tr>\n    <tr>\n      <th>min</th>\n      <td>0.750000</td>\n      <td>-4.500000</td>\n    </tr>\n    <tr>\n      <th>25%</th>\n      <td>1.075000</td>\n      <td>-3.700000</td>\n    </tr>\n    <tr>\n      <th>50%</th>\n      <td>1.400000</td>\n      <td>-2.900000</td>\n    </tr>\n    <tr>\n      <th>75%</th>\n      <td>4.250000</td>\n      <td>-2.100000</td>\n    </tr>\n    <tr>\n      <th>max</th>\n      <td>7.100000</td>\n      <td>-1.300000</td>\n    </tr>\n  </tbody>\n</table>\n</div>"
     },
     "metadata": {}
    }
   ]
  },
  {
   "cell_type": "markdown",
   "source": "#### 1.6.6 任务六：分别看看泰坦尼克号数据集中 票价、父母子女 这列数据的基本统计数据，你能发现什么？",
   "metadata": {
    "cell_id": "00046-929c7b49-2e18-4a9e-afd3-61dd750a6fce",
    "deepnote_cell_type": "markdown",
    "deepnote_cell_height": 54
   }
  },
  {
   "cell_type": "code",
   "metadata": {
    "cell_id": "00047-f2909ddd-97a6-4818-ad39-e21407494d96",
    "deepnote_cell_type": "code",
    "deepnote_cell_height": 102
   },
   "source": "'''\n看看泰坦尼克号数据集中 票价 这列数据的基本统计数据\n'''",
   "execution_count": null,
   "outputs": []
  },
  {
   "cell_type": "code",
   "metadata": {
    "cell_id": "00048-fed457df-6c77-48bf-9fac-326ccead1257",
    "deepnote_cell_type": "code",
    "deepnote_cell_height": 84
   },
   "source": "#代码\n",
   "execution_count": null,
   "outputs": []
  },
  {
   "cell_type": "markdown",
   "source": "【思考】从上面数据我们可以看出，试试在下面写出你的看法。然后看看我们给出的答案。\n\n当然，答案只是我的想法，你还可以有更多想法，欢迎写在你的学习笔记中。",
   "metadata": {
    "cell_id": "00049-534f0f41-30f0-4254-89d8-abf751ac9677",
    "deepnote_cell_type": "markdown",
    "deepnote_cell_height": 88.78125
   }
  },
  {
   "cell_type": "markdown",
   "source": "**多做几个组数据的统计，看看你能分析出什么？**",
   "metadata": {
    "cell_id": "00050-b360618a-9988-43f9-b2cc-299bd336eef7",
    "deepnote_cell_type": "markdown",
    "deepnote_cell_height": 52.390625
   }
  },
  {
   "cell_type": "code",
   "metadata": {
    "cell_id": "00051-00829b10-2ce3-44b9-8636-aefd199ec93a",
    "deepnote_cell_type": "code",
    "deepnote_cell_height": 120
   },
   "source": "# 写下你的其他分析\n\n\n",
   "execution_count": null,
   "outputs": []
  },
  {
   "cell_type": "markdown",
   "source": "【思考】有更多想法，欢迎写在你的学习笔记中。",
   "metadata": {
    "cell_id": "00052-db701eb3-dbe9-44a0-be94-61122c1a6a2b",
    "deepnote_cell_type": "markdown",
    "deepnote_cell_height": 52.390625
   }
  },
  {
   "cell_type": "markdown",
   "source": "【总结】本节中我们通过Pandas的一些内置函数对数据进行了初步统计查看，这个过程最重要的不是大家得掌握这些函数，而是看懂从这些函数出来的数据，构建自己的数据分析思维，这也是第一章最重要的点，希望大家学完第一章能对数据有个基本认识，了解自己在做什么，为什么这么做，后面的章节我们将开始对数据进行清洗，进一步分析。",
   "metadata": {
    "cell_id": "00053-c7bdd6f9-689c-4d20-a99d-49857677284a",
    "deepnote_cell_type": "markdown",
    "deepnote_cell_height": 97.171875
   }
  },
  {
   "cell_type": "markdown",
   "source": "<a style='text-decoration:none;line-height:16px;display:flex;color:#5B5B62;padding:10px;justify-content:end;' href='https://deepnote.com?utm_source=created-in-deepnote-cell&projectId=baac8304-fdea-41da-a182-a605c2edce87' target=\"_blank\">\n<img alt='Created in deepnote.com' style='display:inline;max-height:16px;margin:0px;margin-right:7.5px;' src='data:image/svg+xml;base64,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' > </img>\nCreated in <span style='font-weight:600;margin-left:4px;'>Deepnote</span></a>",
   "metadata": {
    "tags": [],
    "created_in_deepnote_cell": true,
    "deepnote_cell_type": "markdown"
   }
  }
 ],
 "nbformat": 4,
 "nbformat_minor": 4,
 "metadata": {
  "kernelspec": {
   "display_name": "Python 3",
   "language": "python",
   "name": "python3"
  },
  "language_info": {
   "codemirror_mode": {
    "name": "ipython",
    "version": 3
   },
   "file_extension": ".py",
   "mimetype": "text/x-python",
   "name": "python",
   "nbconvert_exporter": "python",
   "pygments_lexer": "ipython3",
   "version": "3.7.12"
  },
  "toc": {
   "base_numbering": 1,
   "nav_menu": {},
   "number_sections": false,
   "sideBar": true,
   "skip_h1_title": false,
   "title_cell": "Table of Contents",
   "title_sidebar": "Contents",
   "toc_cell": false,
   "toc_position": {
    "height": "calc(100% - 180px)",
    "left": "10px",
    "top": "150px",
    "width": "433px"
   },
   "toc_section_display": true,
   "toc_window_display": true
  },
  "deepnote_notebook_id": "632deb23-d085-42ec-be22-f4b779e9d3f6",
  "deepnote": {},
  "deepnote_execution_queue": []
 }
}